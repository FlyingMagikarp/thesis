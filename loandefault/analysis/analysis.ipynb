{
 "cells": [
  {
   "cell_type": "markdown",
   "source": [
    "# Analysis CC"
   ],
   "metadata": {
    "collapsed": false,
    "pycharm": {
     "name": "#%% md\n"
    }
   }
  },
  {
   "cell_type": "code",
   "execution_count": 16,
   "outputs": [],
   "source": [
    "import pandas as pd\n",
    "import numpy as np\n",
    "import matplotlib.pyplot as plt\n",
    "%matplotlib notebook"
   ],
   "metadata": {
    "collapsed": false,
    "pycharm": {
     "name": "#%%\n"
    }
   }
  },
  {
   "cell_type": "code",
   "execution_count": 17,
   "outputs": [
    {
     "data": {
      "text/plain": "   minority  sex  rent  education        age         income    loan_size  \\\n0         1    0     1  57.230650  36.050927  205168.022244  7600.292199   \n1         1    0     1  45.891343  59.525251  187530.409981  5534.271289   \n2         1    0     1  46.775489  67.338108  196912.006690  2009.903438   \n3         1    0     1  41.784839  24.067401  132911.650615  3112.280893   \n4         1    0     1  41.744838  47.496605  161162.551205  1372.077093   \n\n   payment_timing  year  job_stability  zip0  zip1  zip2  zip3  occupation0  \\\n0        3.302193     0       3.015554     0     1     0     0            0   \n1        3.843058     0       5.938132     0     1     0     0            0   \n2        2.059034     0       2.190777     0     1     0     0            0   \n3        3.936169     0       1.725860     0     1     0     0            0   \n4        3.709910     0       0.883104     0     1     0     0            0   \n\n   occupation1  occupation2  target  \n0            1            0       1  \n1            1            0       1  \n2            1            0       1  \n3            1            0       1  \n4            1            0       1  ",
      "text/html": "<div>\n<style scoped>\n    .dataframe tbody tr th:only-of-type {\n        vertical-align: middle;\n    }\n\n    .dataframe tbody tr th {\n        vertical-align: top;\n    }\n\n    .dataframe thead th {\n        text-align: right;\n    }\n</style>\n<table border=\"1\" class=\"dataframe\">\n  <thead>\n    <tr style=\"text-align: right;\">\n      <th></th>\n      <th>minority</th>\n      <th>sex</th>\n      <th>rent</th>\n      <th>education</th>\n      <th>age</th>\n      <th>income</th>\n      <th>loan_size</th>\n      <th>payment_timing</th>\n      <th>year</th>\n      <th>job_stability</th>\n      <th>zip0</th>\n      <th>zip1</th>\n      <th>zip2</th>\n      <th>zip3</th>\n      <th>occupation0</th>\n      <th>occupation1</th>\n      <th>occupation2</th>\n      <th>target</th>\n    </tr>\n  </thead>\n  <tbody>\n    <tr>\n      <th>0</th>\n      <td>1</td>\n      <td>0</td>\n      <td>1</td>\n      <td>57.230650</td>\n      <td>36.050927</td>\n      <td>205168.022244</td>\n      <td>7600.292199</td>\n      <td>3.302193</td>\n      <td>0</td>\n      <td>3.015554</td>\n      <td>0</td>\n      <td>1</td>\n      <td>0</td>\n      <td>0</td>\n      <td>0</td>\n      <td>1</td>\n      <td>0</td>\n      <td>1</td>\n    </tr>\n    <tr>\n      <th>1</th>\n      <td>1</td>\n      <td>0</td>\n      <td>1</td>\n      <td>45.891343</td>\n      <td>59.525251</td>\n      <td>187530.409981</td>\n      <td>5534.271289</td>\n      <td>3.843058</td>\n      <td>0</td>\n      <td>5.938132</td>\n      <td>0</td>\n      <td>1</td>\n      <td>0</td>\n      <td>0</td>\n      <td>0</td>\n      <td>1</td>\n      <td>0</td>\n      <td>1</td>\n    </tr>\n    <tr>\n      <th>2</th>\n      <td>1</td>\n      <td>0</td>\n      <td>1</td>\n      <td>46.775489</td>\n      <td>67.338108</td>\n      <td>196912.006690</td>\n      <td>2009.903438</td>\n      <td>2.059034</td>\n      <td>0</td>\n      <td>2.190777</td>\n      <td>0</td>\n      <td>1</td>\n      <td>0</td>\n      <td>0</td>\n      <td>0</td>\n      <td>1</td>\n      <td>0</td>\n      <td>1</td>\n    </tr>\n    <tr>\n      <th>3</th>\n      <td>1</td>\n      <td>0</td>\n      <td>1</td>\n      <td>41.784839</td>\n      <td>24.067401</td>\n      <td>132911.650615</td>\n      <td>3112.280893</td>\n      <td>3.936169</td>\n      <td>0</td>\n      <td>1.725860</td>\n      <td>0</td>\n      <td>1</td>\n      <td>0</td>\n      <td>0</td>\n      <td>0</td>\n      <td>1</td>\n      <td>0</td>\n      <td>1</td>\n    </tr>\n    <tr>\n      <th>4</th>\n      <td>1</td>\n      <td>0</td>\n      <td>1</td>\n      <td>41.744838</td>\n      <td>47.496605</td>\n      <td>161162.551205</td>\n      <td>1372.077093</td>\n      <td>3.709910</td>\n      <td>0</td>\n      <td>0.883104</td>\n      <td>0</td>\n      <td>1</td>\n      <td>0</td>\n      <td>0</td>\n      <td>0</td>\n      <td>1</td>\n      <td>0</td>\n      <td>1</td>\n    </tr>\n  </tbody>\n</table>\n</div>"
     },
     "execution_count": 17,
     "metadata": {},
     "output_type": "execute_result"
    }
   ],
   "source": [
    "df = pd.read_csv('../data/train_clean.csv')\n",
    "#df2 = pd.read_csv('../data/test_clean.csv')\n",
    "#df = pd.concat([df, df2])\n",
    "df.head()"
   ],
   "metadata": {
    "collapsed": false,
    "pycharm": {
     "name": "#%%\n"
    }
   }
  },
  {
   "cell_type": "code",
   "execution_count": 18,
   "outputs": [
    {
     "name": "stdout",
     "output_type": "stream",
     "text": [
      "480000 239927 240073\n"
     ]
    }
   ],
   "source": [
    "# general split, default/not default\n",
    "total = len(df)\n",
    "did_def = len(df.loc[df['target'] == 1])\n",
    "did_not_def = len(df.loc[df['target'] == 0])\n",
    "\n",
    "print(total, did_def, did_not_def)"
   ],
   "metadata": {
    "collapsed": false,
    "pycharm": {
     "name": "#%%\n"
    }
   }
  },
  {
   "cell_type": "code",
   "execution_count": 19,
   "outputs": [
    {
     "name": "stdout",
     "output_type": "stream",
     "text": [
      "Defaulted % 49.98479166666667\n"
     ]
    }
   ],
   "source": [
    "print('Defaulted %', 100/total*did_def)"
   ],
   "metadata": {
    "collapsed": false,
    "pycharm": {
     "name": "#%%\n"
    }
   }
  },
  {
   "cell_type": "code",
   "execution_count": 20,
   "outputs": [
    {
     "name": "stdout",
     "output_type": "stream",
     "text": [
      "480000 240000 240000\n",
      "Male % 50.0\n"
     ]
    }
   ],
   "source": [
    "# general gender split\n",
    "male = len(df.loc[df['sex'] == 1])\n",
    "female = len(df.loc[df['sex'] == 0])\n",
    "\n",
    "print(total, male, female)\n",
    "print('Male %', 100/total*male)"
   ],
   "metadata": {
    "collapsed": false,
    "pycharm": {
     "name": "#%%\n"
    }
   }
  },
  {
   "cell_type": "code",
   "execution_count": 21,
   "outputs": [],
   "source": [
    "df_male = df.loc[df['sex'] == 1]\n",
    "df_female = df.loc[df['sex'] == 0]"
   ],
   "metadata": {
    "collapsed": false,
    "pycharm": {
     "name": "#%%\n"
    }
   }
  },
  {
   "cell_type": "markdown",
   "source": [
    "## Male Analysis"
   ],
   "metadata": {
    "collapsed": false,
    "pycharm": {
     "name": "#%% md\n"
    }
   }
  },
  {
   "cell_type": "code",
   "execution_count": 22,
   "outputs": [
    {
     "name": "stdout",
     "output_type": "stream",
     "text": [
      "240000 119927 120073\n",
      "Defaulted male % 49.96958333333334\n"
     ]
    }
   ],
   "source": [
    "total = len(df_male)\n",
    "did_def = len(df_male.loc[df_male['target'] == 1])\n",
    "did_not_def = len(df_male.loc[df_male['target'] == 0])\n",
    "\n",
    "print(total, did_def, did_not_def)\n",
    "print('Defaulted male %', 100/total*did_def)"
   ],
   "metadata": {
    "collapsed": false,
    "pycharm": {
     "name": "#%%\n"
    }
   }
  },
  {
   "cell_type": "code",
   "execution_count": 23,
   "outputs": [
    {
     "name": "stdout",
     "output_type": "stream",
     "text": [
      "Races split\n",
      "majority 120111 50.04625\n",
      "minority 119889 49.95375000000001\n"
     ]
    }
   ],
   "source": [
    "majority = df_male.loc[df_male['minority'] == 0]\n",
    "minority = df_male.loc[df_male['minority'] == 1]\n",
    "\n",
    "print('Races split')\n",
    "print('majority', len(majority), 100/total*len(majority))\n",
    "print('minority', len(minority), 100/total*len(minority))"
   ],
   "metadata": {
    "collapsed": false,
    "pycharm": {
     "name": "#%%\n"
    }
   }
  },
  {
   "cell_type": "code",
   "execution_count": 24,
   "outputs": [
    {
     "name": "stdout",
     "output_type": "stream",
     "text": [
      "% of positive labels per race\n",
      "majority 186 0.0775\n",
      "minority 119741 49.89208333333334\n"
     ]
    }
   ],
   "source": [
    "print('% of positive labels per race')\n",
    "print('majority', len(majority.loc[majority['target'] == 1]), 100/total*len(majority.loc[majority['target'] == 1]))\n",
    "print('minority', len(minority.loc[minority['target'] == 1]), 100/total*len(minority.loc[minority['target'] == 1]))"
   ],
   "metadata": {
    "collapsed": false,
    "pycharm": {
     "name": "#%%\n"
    }
   }
  },
  {
   "cell_type": "markdown",
   "source": [
    "## Female Analysis"
   ],
   "metadata": {
    "collapsed": false,
    "pycharm": {
     "name": "#%% md\n"
    }
   }
  },
  {
   "cell_type": "code",
   "execution_count": 25,
   "outputs": [
    {
     "name": "stdout",
     "output_type": "stream",
     "text": [
      "240000 120000 120000\n",
      "Defaulted female % 50.0\n"
     ]
    }
   ],
   "source": [
    "total = len(df_female)\n",
    "did_def = len(df_female.loc[df_female['target'] == 1])\n",
    "did_not_def = len(df_female.loc[df_female['target'] == 0])\n",
    "\n",
    "print(total, did_def, did_not_def)\n",
    "print('Defaulted female %', 100/total*did_def)"
   ],
   "metadata": {
    "collapsed": false,
    "pycharm": {
     "name": "#%%\n"
    }
   }
  },
  {
   "cell_type": "code",
   "execution_count": 26,
   "outputs": [
    {
     "name": "stdout",
     "output_type": "stream",
     "text": [
      "Races split\n",
      "majority 120056 50.02333333333333\n",
      "minority 119944 49.97666666666667\n"
     ]
    }
   ],
   "source": [
    "majority = df_female.loc[df_female['minority'] == 0]\n",
    "minority = df_female.loc[df_female['minority'] == 1]\n",
    "\n",
    "print('Races split')\n",
    "print('majority', len(majority), 100/total*len(majority))\n",
    "print('minority', len(minority), 100/total*len(minority))"
   ],
   "metadata": {
    "collapsed": false,
    "pycharm": {
     "name": "#%%\n"
    }
   }
  },
  {
   "cell_type": "code",
   "execution_count": 27,
   "outputs": [
    {
     "name": "stdout",
     "output_type": "stream",
     "text": [
      "% of positive labels per race\n",
      "majority 163 0.06791666666666667\n",
      "minority 119837 49.93208333333334\n"
     ]
    }
   ],
   "source": [
    "print('% of positive labels per race')\n",
    "print('majority', len(majority.loc[majority['target'] == 1]), 100/total*len(majority.loc[majority['target'] == 1]))\n",
    "print('minority', len(minority.loc[minority['target'] == 1]), 100/total*len(minority.loc[minority['target'] == 1]))"
   ],
   "metadata": {
    "collapsed": false,
    "pycharm": {
     "name": "#%%\n"
    }
   }
  }
 ],
 "metadata": {
  "kernelspec": {
   "display_name": "Python 3",
   "language": "python",
   "name": "python3"
  },
  "language_info": {
   "codemirror_mode": {
    "name": "ipython",
    "version": 2
   },
   "file_extension": ".py",
   "mimetype": "text/x-python",
   "name": "python",
   "nbconvert_exporter": "python",
   "pygments_lexer": "ipython2",
   "version": "2.7.6"
  }
 },
 "nbformat": 4,
 "nbformat_minor": 0
}