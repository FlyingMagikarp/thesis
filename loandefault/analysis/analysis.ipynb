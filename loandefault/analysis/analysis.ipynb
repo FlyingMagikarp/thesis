{
 "cells": [
  {
   "cell_type": "markdown",
   "source": [
    "# Analysis CC"
   ],
   "metadata": {
    "collapsed": false,
    "pycharm": {
     "name": "#%% md\n"
    }
   }
  },
  {
   "cell_type": "code",
   "execution_count": 2,
   "outputs": [],
   "source": [
    "import pandas as pd\n",
    "import numpy as np\n",
    "import matplotlib.pyplot as plt\n",
    "%matplotlib notebook"
   ],
   "metadata": {
    "collapsed": false,
    "pycharm": {
     "name": "#%%\n"
    }
   }
  },
  {
   "cell_type": "code",
   "execution_count": 3,
   "outputs": [
    {
     "data": {
      "text/plain": "   minority  sex  rent  education        age         income    loan_size  \\\n0         1    0     1  57.230650  36.050927  205168.022244  7600.292199   \n1         1    0     1  45.891343  59.525251  187530.409981  5534.271289   \n2         1    0     1  46.775489  67.338108  196912.006690  2009.903438   \n3         1    0     1  41.784839  24.067401  132911.650615  3112.280893   \n4         1    0     1  41.744838  47.496605  161162.551205  1372.077093   \n\n   payment_timing  year  job_stability  zip0  zip1  zip2  zip3  occupation0  \\\n0        3.302193     0       3.015554     0     1     0     0            0   \n1        3.843058     0       5.938132     0     1     0     0            0   \n2        2.059034     0       2.190777     0     1     0     0            0   \n3        3.936169     0       1.725860     0     1     0     0            0   \n4        3.709910     0       0.883104     0     1     0     0            0   \n\n   occupation1  occupation2  target  \n0            1            0       1  \n1            1            0       1  \n2            1            0       1  \n3            1            0       1  \n4            1            0       1  ",
      "text/html": "<div>\n<style scoped>\n    .dataframe tbody tr th:only-of-type {\n        vertical-align: middle;\n    }\n\n    .dataframe tbody tr th {\n        vertical-align: top;\n    }\n\n    .dataframe thead th {\n        text-align: right;\n    }\n</style>\n<table border=\"1\" class=\"dataframe\">\n  <thead>\n    <tr style=\"text-align: right;\">\n      <th></th>\n      <th>minority</th>\n      <th>sex</th>\n      <th>rent</th>\n      <th>education</th>\n      <th>age</th>\n      <th>income</th>\n      <th>loan_size</th>\n      <th>payment_timing</th>\n      <th>year</th>\n      <th>job_stability</th>\n      <th>zip0</th>\n      <th>zip1</th>\n      <th>zip2</th>\n      <th>zip3</th>\n      <th>occupation0</th>\n      <th>occupation1</th>\n      <th>occupation2</th>\n      <th>target</th>\n    </tr>\n  </thead>\n  <tbody>\n    <tr>\n      <th>0</th>\n      <td>1</td>\n      <td>0</td>\n      <td>1</td>\n      <td>57.230650</td>\n      <td>36.050927</td>\n      <td>205168.022244</td>\n      <td>7600.292199</td>\n      <td>3.302193</td>\n      <td>0</td>\n      <td>3.015554</td>\n      <td>0</td>\n      <td>1</td>\n      <td>0</td>\n      <td>0</td>\n      <td>0</td>\n      <td>1</td>\n      <td>0</td>\n      <td>1</td>\n    </tr>\n    <tr>\n      <th>1</th>\n      <td>1</td>\n      <td>0</td>\n      <td>1</td>\n      <td>45.891343</td>\n      <td>59.525251</td>\n      <td>187530.409981</td>\n      <td>5534.271289</td>\n      <td>3.843058</td>\n      <td>0</td>\n      <td>5.938132</td>\n      <td>0</td>\n      <td>1</td>\n      <td>0</td>\n      <td>0</td>\n      <td>0</td>\n      <td>1</td>\n      <td>0</td>\n      <td>1</td>\n    </tr>\n    <tr>\n      <th>2</th>\n      <td>1</td>\n      <td>0</td>\n      <td>1</td>\n      <td>46.775489</td>\n      <td>67.338108</td>\n      <td>196912.006690</td>\n      <td>2009.903438</td>\n      <td>2.059034</td>\n      <td>0</td>\n      <td>2.190777</td>\n      <td>0</td>\n      <td>1</td>\n      <td>0</td>\n      <td>0</td>\n      <td>0</td>\n      <td>1</td>\n      <td>0</td>\n      <td>1</td>\n    </tr>\n    <tr>\n      <th>3</th>\n      <td>1</td>\n      <td>0</td>\n      <td>1</td>\n      <td>41.784839</td>\n      <td>24.067401</td>\n      <td>132911.650615</td>\n      <td>3112.280893</td>\n      <td>3.936169</td>\n      <td>0</td>\n      <td>1.725860</td>\n      <td>0</td>\n      <td>1</td>\n      <td>0</td>\n      <td>0</td>\n      <td>0</td>\n      <td>1</td>\n      <td>0</td>\n      <td>1</td>\n    </tr>\n    <tr>\n      <th>4</th>\n      <td>1</td>\n      <td>0</td>\n      <td>1</td>\n      <td>41.744838</td>\n      <td>47.496605</td>\n      <td>161162.551205</td>\n      <td>1372.077093</td>\n      <td>3.709910</td>\n      <td>0</td>\n      <td>0.883104</td>\n      <td>0</td>\n      <td>1</td>\n      <td>0</td>\n      <td>0</td>\n      <td>0</td>\n      <td>1</td>\n      <td>0</td>\n      <td>1</td>\n    </tr>\n  </tbody>\n</table>\n</div>"
     },
     "execution_count": 3,
     "metadata": {},
     "output_type": "execute_result"
    }
   ],
   "source": [
    "df = pd.read_csv('../data/train_clean.csv')\n",
    "#df2 = pd.read_csv('../data/test_clean.csv')\n",
    "#df = pd.concat([df, df2])\n",
    "df.head()"
   ],
   "metadata": {
    "collapsed": false,
    "pycharm": {
     "name": "#%%\n"
    }
   }
  },
  {
   "cell_type": "code",
   "execution_count": 4,
   "outputs": [
    {
     "name": "stdout",
     "output_type": "stream",
     "text": [
      "Total Entires 480000\n",
      "Default 239927\n",
      "NO Default 240073\n",
      "#####\n",
      "Male 240000\n",
      "Female 240000\n",
      "Male Default 119927\n",
      "Female Default 120000\n",
      "#####\n",
      "Majority 240167\n",
      "Minorities 239833\n",
      "Majority Default 349\n",
      "Minority Default 239578\n"
     ]
    }
   ],
   "source": [
    "print('Total Entires', len(df))\n",
    "print('Default', len(df.loc[df['target'] == 1]))\n",
    "print('NO Default', len(df.loc[df['target'] == 0]))\n",
    "print('#####')\n",
    "print('Male', len(df.loc[df['sex'] == 1]))\n",
    "print('Female', len(df.loc[df['sex'] == 0]))\n",
    "print('Male Default', len(df.loc[(df['sex'] == 1) & (df['target'] == 1)]))\n",
    "print('Female Default', len(df.loc[(df['sex'] == 0) & (df['target'] == 1)]))\n",
    "print('#####')\n",
    "print('Majority', len(df.loc[df['minority'] == 0]))\n",
    "print('Minorities', len(df.loc[df['minority'] == 1]))\n",
    "print('Majority Default', len(df.loc[(df['minority'] == 0) & (df['target'] == 1)]))\n",
    "print('Minority Default', len(df.loc[(df['minority'] == 1) & (df['target'] == 1)]))"
   ],
   "metadata": {
    "collapsed": false,
    "pycharm": {
     "name": "#%%\n"
    }
   }
  },
  {
   "cell_type": "code",
   "execution_count": 5,
   "outputs": [
    {
     "name": "stdout",
     "output_type": "stream",
     "text": [
      "480000 239927 240073\n"
     ]
    }
   ],
   "source": [
    "# general split, default/not default\n",
    "total = len(df)\n",
    "did_def = len(df.loc[df['target'] == 1])\n",
    "did_not_def = len(df.loc[df['target'] == 0])\n",
    "\n",
    "print(total, did_def, did_not_def)"
   ],
   "metadata": {
    "collapsed": false,
    "pycharm": {
     "name": "#%%\n"
    }
   }
  },
  {
   "cell_type": "code",
   "execution_count": 6,
   "outputs": [
    {
     "name": "stdout",
     "output_type": "stream",
     "text": [
      "Defaulted % 49.98479166666667\n"
     ]
    }
   ],
   "source": [
    "print('Defaulted %', 100/total*did_def)"
   ],
   "metadata": {
    "collapsed": false,
    "pycharm": {
     "name": "#%%\n"
    }
   }
  },
  {
   "cell_type": "code",
   "execution_count": 7,
   "outputs": [
    {
     "name": "stdout",
     "output_type": "stream",
     "text": [
      "480000 240000 240000\n",
      "Male % 50.0\n"
     ]
    }
   ],
   "source": [
    "# general gender split\n",
    "male = len(df.loc[df['sex'] == 1])\n",
    "female = len(df.loc[df['sex'] == 0])\n",
    "\n",
    "print(total, male, female)\n",
    "print('Male %', 100/total*male)"
   ],
   "metadata": {
    "collapsed": false,
    "pycharm": {
     "name": "#%%\n"
    }
   }
  },
  {
   "cell_type": "code",
   "execution_count": 8,
   "outputs": [],
   "source": [
    "df_male = df.loc[df['sex'] == 1]\n",
    "df_female = df.loc[df['sex'] == 0]"
   ],
   "metadata": {
    "collapsed": false,
    "pycharm": {
     "name": "#%%\n"
    }
   }
  },
  {
   "cell_type": "markdown",
   "source": [
    "## Male Analysis"
   ],
   "metadata": {
    "collapsed": false,
    "pycharm": {
     "name": "#%% md\n"
    }
   }
  },
  {
   "cell_type": "code",
   "execution_count": 9,
   "outputs": [
    {
     "name": "stdout",
     "output_type": "stream",
     "text": [
      "240000 119927 120073\n",
      "Defaulted male % 49.96958333333334\n"
     ]
    }
   ],
   "source": [
    "total = len(df_male)\n",
    "did_def = len(df_male.loc[df_male['target'] == 1])\n",
    "did_not_def = len(df_male.loc[df_male['target'] == 0])\n",
    "\n",
    "print(total, did_def, did_not_def)\n",
    "print('Defaulted male %', 100/total*did_def)"
   ],
   "metadata": {
    "collapsed": false,
    "pycharm": {
     "name": "#%%\n"
    }
   }
  },
  {
   "cell_type": "code",
   "execution_count": 10,
   "outputs": [
    {
     "name": "stdout",
     "output_type": "stream",
     "text": [
      "Races split\n",
      "majority 120111 50.04625\n",
      "minority 119889 49.95375000000001\n"
     ]
    }
   ],
   "source": [
    "majority = df_male.loc[df_male['minority'] == 0]\n",
    "minority = df_male.loc[df_male['minority'] == 1]\n",
    "\n",
    "print('Races split')\n",
    "print('majority', len(majority), 100/total*len(majority))\n",
    "print('minority', len(minority), 100/total*len(minority))"
   ],
   "metadata": {
    "collapsed": false,
    "pycharm": {
     "name": "#%%\n"
    }
   }
  },
  {
   "cell_type": "code",
   "execution_count": 11,
   "outputs": [
    {
     "name": "stdout",
     "output_type": "stream",
     "text": [
      "% of positive labels per race\n",
      "majority 186 0.0775\n",
      "minority 119741 49.89208333333334\n"
     ]
    }
   ],
   "source": [
    "print('% of positive labels per race')\n",
    "print('majority', len(majority.loc[majority['target'] == 1]), 100/total*len(majority.loc[majority['target'] == 1]))\n",
    "print('minority', len(minority.loc[minority['target'] == 1]), 100/total*len(minority.loc[minority['target'] == 1]))"
   ],
   "metadata": {
    "collapsed": false,
    "pycharm": {
     "name": "#%%\n"
    }
   }
  },
  {
   "cell_type": "markdown",
   "source": [
    "## Female Analysis"
   ],
   "metadata": {
    "collapsed": false,
    "pycharm": {
     "name": "#%% md\n"
    }
   }
  },
  {
   "cell_type": "code",
   "execution_count": 12,
   "outputs": [
    {
     "name": "stdout",
     "output_type": "stream",
     "text": [
      "240000 120000 120000\n",
      "Defaulted female % 50.0\n"
     ]
    }
   ],
   "source": [
    "total = len(df_female)\n",
    "did_def = len(df_female.loc[df_female['target'] == 1])\n",
    "did_not_def = len(df_female.loc[df_female['target'] == 0])\n",
    "\n",
    "print(total, did_def, did_not_def)\n",
    "print('Defaulted female %', 100/total*did_def)"
   ],
   "metadata": {
    "collapsed": false,
    "pycharm": {
     "name": "#%%\n"
    }
   }
  },
  {
   "cell_type": "code",
   "execution_count": 13,
   "outputs": [
    {
     "name": "stdout",
     "output_type": "stream",
     "text": [
      "Races split\n",
      "majority 120056 50.02333333333333\n",
      "minority 119944 49.97666666666667\n"
     ]
    }
   ],
   "source": [
    "majority = df_female.loc[df_female['minority'] == 0]\n",
    "minority = df_female.loc[df_female['minority'] == 1]\n",
    "\n",
    "print('Races split')\n",
    "print('majority', len(majority), 100/total*len(majority))\n",
    "print('minority', len(minority), 100/total*len(minority))"
   ],
   "metadata": {
    "collapsed": false,
    "pycharm": {
     "name": "#%%\n"
    }
   }
  },
  {
   "cell_type": "code",
   "execution_count": 14,
   "outputs": [
    {
     "name": "stdout",
     "output_type": "stream",
     "text": [
      "% of positive labels per race\n",
      "majority 163 0.06791666666666667\n",
      "minority 119837 49.93208333333334\n"
     ]
    }
   ],
   "source": [
    "print('% of positive labels per race')\n",
    "print('majority', len(majority.loc[majority['target'] == 1]), 100/total*len(majority.loc[majority['target'] == 1]))\n",
    "print('minority', len(minority.loc[minority['target'] == 1]), 100/total*len(minority.loc[minority['target'] == 1]))"
   ],
   "metadata": {
    "collapsed": false,
    "pycharm": {
     "name": "#%%\n"
    }
   }
  },
  {
   "cell_type": "code",
   "execution_count": 15,
   "outputs": [],
   "source": [
    "sample_maj_f_0 = df[(df['minority'] == 0) & (df['sex'] == 0) & (df['target'] == 0)].sample(5)\n",
    "sample_maj_f_1 = df[(df['minority'] == 0) & (df['sex'] == 0) & (df['target'] == 1)].sample(5)\n",
    "\n",
    "sample_maj_m_0 = df[(df['minority'] == 0) & (df['sex'] == 1) & (df['target'] == 0)].sample(5)\n",
    "sample_maj_m_1 = df[(df['minority'] == 0) & (df['sex'] == 1) & (df['target'] == 1)].sample(5)"
   ],
   "metadata": {
    "collapsed": false,
    "pycharm": {
     "name": "#%%\n"
    }
   }
  },
  {
   "cell_type": "code",
   "execution_count": 16,
   "outputs": [],
   "source": [
    "sample_min_f_0 = df[(df['minority'] == 1) & (df['sex'] == 0) & (df['target'] == 0)].sample(5)\n",
    "sample_min_f_1 = df[(df['minority'] == 1) & (df['sex'] == 0) & (df['target'] == 1)].sample(5)\n",
    "\n",
    "sample_min_m_0 = df[(df['minority'] == 1) & (df['sex'] == 1) & (df['target'] == 0)].sample(5)\n",
    "sample_min_m_1 = df[(df['minority'] == 1) & (df['sex'] == 1) & (df['target'] == 1)].sample(5)"
   ],
   "metadata": {
    "collapsed": false,
    "pycharm": {
     "name": "#%%\n"
    }
   }
  },
  {
   "cell_type": "code",
   "execution_count": 17,
   "outputs": [
    {
     "data": {
      "text/plain": "        minority  sex  rent  education        age         income    loan_size  \\\n422627         0    0     1  46.138323  31.758045  159553.059127  8559.978149   \n382825         0    0     0  45.042941  52.945370  178787.174004    60.475831   \n230545         0    0     0  58.160476  65.377659  243121.294540  3471.162585   \n14919          0    0     0  52.929770  56.761981  213776.286248  6366.036250   \n244380         0    0     0  44.444934  41.890128  166004.057646  3377.491196   \n\n        payment_timing  year  job_stability  zip0  zip1  zip2  zip3  \\\n422627        3.220337    22      82.615477     0     0     1     0   \n382825        2.835970    17      82.738772     0     0     1     0   \n230545        3.721224    28     119.296518     0     0     1     0   \n14919         2.969153     1      92.453196     0     0     1     0   \n244380        2.671180     0      75.722802     1     0     0     0   \n\n        occupation0  occupation1  occupation2  target  \n422627            1            0            0       0  \n382825            1            0            0       0  \n230545            1            0            0       0  \n14919             1            0            0       0  \n244380            1            0            0       0  ",
      "text/html": "<div>\n<style scoped>\n    .dataframe tbody tr th:only-of-type {\n        vertical-align: middle;\n    }\n\n    .dataframe tbody tr th {\n        vertical-align: top;\n    }\n\n    .dataframe thead th {\n        text-align: right;\n    }\n</style>\n<table border=\"1\" class=\"dataframe\">\n  <thead>\n    <tr style=\"text-align: right;\">\n      <th></th>\n      <th>minority</th>\n      <th>sex</th>\n      <th>rent</th>\n      <th>education</th>\n      <th>age</th>\n      <th>income</th>\n      <th>loan_size</th>\n      <th>payment_timing</th>\n      <th>year</th>\n      <th>job_stability</th>\n      <th>zip0</th>\n      <th>zip1</th>\n      <th>zip2</th>\n      <th>zip3</th>\n      <th>occupation0</th>\n      <th>occupation1</th>\n      <th>occupation2</th>\n      <th>target</th>\n    </tr>\n  </thead>\n  <tbody>\n    <tr>\n      <th>422627</th>\n      <td>0</td>\n      <td>0</td>\n      <td>1</td>\n      <td>46.138323</td>\n      <td>31.758045</td>\n      <td>159553.059127</td>\n      <td>8559.978149</td>\n      <td>3.220337</td>\n      <td>22</td>\n      <td>82.615477</td>\n      <td>0</td>\n      <td>0</td>\n      <td>1</td>\n      <td>0</td>\n      <td>1</td>\n      <td>0</td>\n      <td>0</td>\n      <td>0</td>\n    </tr>\n    <tr>\n      <th>382825</th>\n      <td>0</td>\n      <td>0</td>\n      <td>0</td>\n      <td>45.042941</td>\n      <td>52.945370</td>\n      <td>178787.174004</td>\n      <td>60.475831</td>\n      <td>2.835970</td>\n      <td>17</td>\n      <td>82.738772</td>\n      <td>0</td>\n      <td>0</td>\n      <td>1</td>\n      <td>0</td>\n      <td>1</td>\n      <td>0</td>\n      <td>0</td>\n      <td>0</td>\n    </tr>\n    <tr>\n      <th>230545</th>\n      <td>0</td>\n      <td>0</td>\n      <td>0</td>\n      <td>58.160476</td>\n      <td>65.377659</td>\n      <td>243121.294540</td>\n      <td>3471.162585</td>\n      <td>3.721224</td>\n      <td>28</td>\n      <td>119.296518</td>\n      <td>0</td>\n      <td>0</td>\n      <td>1</td>\n      <td>0</td>\n      <td>1</td>\n      <td>0</td>\n      <td>0</td>\n      <td>0</td>\n    </tr>\n    <tr>\n      <th>14919</th>\n      <td>0</td>\n      <td>0</td>\n      <td>0</td>\n      <td>52.929770</td>\n      <td>56.761981</td>\n      <td>213776.286248</td>\n      <td>6366.036250</td>\n      <td>2.969153</td>\n      <td>1</td>\n      <td>92.453196</td>\n      <td>0</td>\n      <td>0</td>\n      <td>1</td>\n      <td>0</td>\n      <td>1</td>\n      <td>0</td>\n      <td>0</td>\n      <td>0</td>\n    </tr>\n    <tr>\n      <th>244380</th>\n      <td>0</td>\n      <td>0</td>\n      <td>0</td>\n      <td>44.444934</td>\n      <td>41.890128</td>\n      <td>166004.057646</td>\n      <td>3377.491196</td>\n      <td>2.671180</td>\n      <td>0</td>\n      <td>75.722802</td>\n      <td>1</td>\n      <td>0</td>\n      <td>0</td>\n      <td>0</td>\n      <td>1</td>\n      <td>0</td>\n      <td>0</td>\n      <td>0</td>\n    </tr>\n  </tbody>\n</table>\n</div>"
     },
     "execution_count": 17,
     "metadata": {},
     "output_type": "execute_result"
    }
   ],
   "source": [
    "sample_maj_f_0"
   ],
   "metadata": {
    "collapsed": false,
    "pycharm": {
     "name": "#%%\n"
    }
   }
  },
  {
   "cell_type": "code",
   "execution_count": 18,
   "outputs": [
    {
     "data": {
      "text/plain": "        minority  sex  rent  education        age         income    loan_size  \\\n424038         0    0     1  49.760339  67.817585  209830.466846   723.416085   \n410462         0    0     1  47.713025  44.998514  181625.806159  3927.085948   \n402291         0    0     1  42.766322  22.408519  132979.362345  4540.377597   \n26086          0    0     1  55.221227  39.658737  203231.303864  5378.735352   \n448818         0    0     0  53.615731  32.860182  187240.161277  7278.455126   \n\n        payment_timing  year  job_stability  zip0  zip1  zip2  zip3  \\\n424038        2.511885    23       0.197366     0     1     0     0   \n410462        3.945048    21       1.503979     0     0     0     1   \n402291        3.322729    20       1.415462     0     0     0     1   \n26086         3.952627     3       0.786178     0     0     0     1   \n448818        2.712292    26       4.068630     0     1     0     0   \n\n        occupation0  occupation1  occupation2  target  \n424038            1            0            0       1  \n410462            1            0            0       1  \n402291            1            0            0       1  \n26086             1            0            0       1  \n448818            1            0            0       1  ",
      "text/html": "<div>\n<style scoped>\n    .dataframe tbody tr th:only-of-type {\n        vertical-align: middle;\n    }\n\n    .dataframe tbody tr th {\n        vertical-align: top;\n    }\n\n    .dataframe thead th {\n        text-align: right;\n    }\n</style>\n<table border=\"1\" class=\"dataframe\">\n  <thead>\n    <tr style=\"text-align: right;\">\n      <th></th>\n      <th>minority</th>\n      <th>sex</th>\n      <th>rent</th>\n      <th>education</th>\n      <th>age</th>\n      <th>income</th>\n      <th>loan_size</th>\n      <th>payment_timing</th>\n      <th>year</th>\n      <th>job_stability</th>\n      <th>zip0</th>\n      <th>zip1</th>\n      <th>zip2</th>\n      <th>zip3</th>\n      <th>occupation0</th>\n      <th>occupation1</th>\n      <th>occupation2</th>\n      <th>target</th>\n    </tr>\n  </thead>\n  <tbody>\n    <tr>\n      <th>424038</th>\n      <td>0</td>\n      <td>0</td>\n      <td>1</td>\n      <td>49.760339</td>\n      <td>67.817585</td>\n      <td>209830.466846</td>\n      <td>723.416085</td>\n      <td>2.511885</td>\n      <td>23</td>\n      <td>0.197366</td>\n      <td>0</td>\n      <td>1</td>\n      <td>0</td>\n      <td>0</td>\n      <td>1</td>\n      <td>0</td>\n      <td>0</td>\n      <td>1</td>\n    </tr>\n    <tr>\n      <th>410462</th>\n      <td>0</td>\n      <td>0</td>\n      <td>1</td>\n      <td>47.713025</td>\n      <td>44.998514</td>\n      <td>181625.806159</td>\n      <td>3927.085948</td>\n      <td>3.945048</td>\n      <td>21</td>\n      <td>1.503979</td>\n      <td>0</td>\n      <td>0</td>\n      <td>0</td>\n      <td>1</td>\n      <td>1</td>\n      <td>0</td>\n      <td>0</td>\n      <td>1</td>\n    </tr>\n    <tr>\n      <th>402291</th>\n      <td>0</td>\n      <td>0</td>\n      <td>1</td>\n      <td>42.766322</td>\n      <td>22.408519</td>\n      <td>132979.362345</td>\n      <td>4540.377597</td>\n      <td>3.322729</td>\n      <td>20</td>\n      <td>1.415462</td>\n      <td>0</td>\n      <td>0</td>\n      <td>0</td>\n      <td>1</td>\n      <td>1</td>\n      <td>0</td>\n      <td>0</td>\n      <td>1</td>\n    </tr>\n    <tr>\n      <th>26086</th>\n      <td>0</td>\n      <td>0</td>\n      <td>1</td>\n      <td>55.221227</td>\n      <td>39.658737</td>\n      <td>203231.303864</td>\n      <td>5378.735352</td>\n      <td>3.952627</td>\n      <td>3</td>\n      <td>0.786178</td>\n      <td>0</td>\n      <td>0</td>\n      <td>0</td>\n      <td>1</td>\n      <td>1</td>\n      <td>0</td>\n      <td>0</td>\n      <td>1</td>\n    </tr>\n    <tr>\n      <th>448818</th>\n      <td>0</td>\n      <td>0</td>\n      <td>0</td>\n      <td>53.615731</td>\n      <td>32.860182</td>\n      <td>187240.161277</td>\n      <td>7278.455126</td>\n      <td>2.712292</td>\n      <td>26</td>\n      <td>4.068630</td>\n      <td>0</td>\n      <td>1</td>\n      <td>0</td>\n      <td>0</td>\n      <td>1</td>\n      <td>0</td>\n      <td>0</td>\n      <td>1</td>\n    </tr>\n  </tbody>\n</table>\n</div>"
     },
     "execution_count": 18,
     "metadata": {},
     "output_type": "execute_result"
    }
   ],
   "source": [
    "sample_maj_f_1"
   ],
   "metadata": {
    "collapsed": false,
    "pycharm": {
     "name": "#%%\n"
    }
   }
  },
  {
   "cell_type": "code",
   "execution_count": 19,
   "outputs": [
    {
     "data": {
      "text/plain": "        minority  sex  rent  education        age        income    loan_size  \\\n47326          0    1     0   2.164845  46.638777   8318.270627  8591.373531   \n237989         0    1     0   4.242553  53.312233  16869.096068  5299.301163   \n335077         0    1     0   1.638102  24.165117   5217.207850  7873.940058   \n319169         0    1     0   3.839684  60.182885  15732.675526   257.873742   \n367852         0    1     0   2.980547  41.141065  11078.711530   106.132417   \n\n        payment_timing  year  job_stability  zip0  zip1  zip2  zip3  \\\n47326         0.928454     5      95.942012     0     0     1     0   \n237989        3.599858    29      99.708919     1     0     0     0   \n335077        3.232533    11     109.157949     0     0     1     0   \n319169        2.643688     9      96.647786     0     0     1     0   \n367852        3.732087    15     108.592519     0     0     1     0   \n\n        occupation0  occupation1  occupation2  target  \n47326             1            0            0       0  \n237989            1            0            0       0  \n335077            1            0            0       0  \n319169            1            0            0       0  \n367852            1            0            0       0  ",
      "text/html": "<div>\n<style scoped>\n    .dataframe tbody tr th:only-of-type {\n        vertical-align: middle;\n    }\n\n    .dataframe tbody tr th {\n        vertical-align: top;\n    }\n\n    .dataframe thead th {\n        text-align: right;\n    }\n</style>\n<table border=\"1\" class=\"dataframe\">\n  <thead>\n    <tr style=\"text-align: right;\">\n      <th></th>\n      <th>minority</th>\n      <th>sex</th>\n      <th>rent</th>\n      <th>education</th>\n      <th>age</th>\n      <th>income</th>\n      <th>loan_size</th>\n      <th>payment_timing</th>\n      <th>year</th>\n      <th>job_stability</th>\n      <th>zip0</th>\n      <th>zip1</th>\n      <th>zip2</th>\n      <th>zip3</th>\n      <th>occupation0</th>\n      <th>occupation1</th>\n      <th>occupation2</th>\n      <th>target</th>\n    </tr>\n  </thead>\n  <tbody>\n    <tr>\n      <th>47326</th>\n      <td>0</td>\n      <td>1</td>\n      <td>0</td>\n      <td>2.164845</td>\n      <td>46.638777</td>\n      <td>8318.270627</td>\n      <td>8591.373531</td>\n      <td>0.928454</td>\n      <td>5</td>\n      <td>95.942012</td>\n      <td>0</td>\n      <td>0</td>\n      <td>1</td>\n      <td>0</td>\n      <td>1</td>\n      <td>0</td>\n      <td>0</td>\n      <td>0</td>\n    </tr>\n    <tr>\n      <th>237989</th>\n      <td>0</td>\n      <td>1</td>\n      <td>0</td>\n      <td>4.242553</td>\n      <td>53.312233</td>\n      <td>16869.096068</td>\n      <td>5299.301163</td>\n      <td>3.599858</td>\n      <td>29</td>\n      <td>99.708919</td>\n      <td>1</td>\n      <td>0</td>\n      <td>0</td>\n      <td>0</td>\n      <td>1</td>\n      <td>0</td>\n      <td>0</td>\n      <td>0</td>\n    </tr>\n    <tr>\n      <th>335077</th>\n      <td>0</td>\n      <td>1</td>\n      <td>0</td>\n      <td>1.638102</td>\n      <td>24.165117</td>\n      <td>5217.207850</td>\n      <td>7873.940058</td>\n      <td>3.232533</td>\n      <td>11</td>\n      <td>109.157949</td>\n      <td>0</td>\n      <td>0</td>\n      <td>1</td>\n      <td>0</td>\n      <td>1</td>\n      <td>0</td>\n      <td>0</td>\n      <td>0</td>\n    </tr>\n    <tr>\n      <th>319169</th>\n      <td>0</td>\n      <td>1</td>\n      <td>0</td>\n      <td>3.839684</td>\n      <td>60.182885</td>\n      <td>15732.675526</td>\n      <td>257.873742</td>\n      <td>2.643688</td>\n      <td>9</td>\n      <td>96.647786</td>\n      <td>0</td>\n      <td>0</td>\n      <td>1</td>\n      <td>0</td>\n      <td>1</td>\n      <td>0</td>\n      <td>0</td>\n      <td>0</td>\n    </tr>\n    <tr>\n      <th>367852</th>\n      <td>0</td>\n      <td>1</td>\n      <td>0</td>\n      <td>2.980547</td>\n      <td>41.141065</td>\n      <td>11078.711530</td>\n      <td>106.132417</td>\n      <td>3.732087</td>\n      <td>15</td>\n      <td>108.592519</td>\n      <td>0</td>\n      <td>0</td>\n      <td>1</td>\n      <td>0</td>\n      <td>1</td>\n      <td>0</td>\n      <td>0</td>\n      <td>0</td>\n    </tr>\n  </tbody>\n</table>\n</div>"
     },
     "execution_count": 19,
     "metadata": {},
     "output_type": "execute_result"
    }
   ],
   "source": [
    "sample_maj_m_0"
   ],
   "metadata": {
    "collapsed": false,
    "pycharm": {
     "name": "#%%\n"
    }
   }
  },
  {
   "cell_type": "code",
   "execution_count": 20,
   "outputs": [
    {
     "data": {
      "text/plain": "        minority  sex  rent  education        age       income    loan_size  \\\n465602         0    1     1   2.928320  18.999211  8622.136536  3356.078871   \n353962         0    1     1   1.986543  30.153874  6766.787105  8043.856295   \n179649         0    1     1   2.151620  50.446629  8436.319722  7203.728919   \n449609         0    1     1   2.107799  50.695497  8274.876879  1621.119807   \n403573         0    1     1   0.746696  51.829461  2947.925815  8731.722065   \n\n        payment_timing  year  job_stability  zip0  zip1  zip2  zip3  \\\n465602        3.905661    28       3.205876     0     1     0     0   \n353962        2.995401    14       6.306613     0     1     0     0   \n179649        3.431818    22       1.993902     0     0     0     1   \n449609        3.405753    26       4.305754     0     1     0     0   \n403573        3.525324    20       2.340764     0     0     0     1   \n\n        occupation0  occupation1  occupation2  target  \n465602            1            0            0       1  \n353962            1            0            0       1  \n179649            1            0            0       1  \n449609            1            0            0       1  \n403573            1            0            0       1  ",
      "text/html": "<div>\n<style scoped>\n    .dataframe tbody tr th:only-of-type {\n        vertical-align: middle;\n    }\n\n    .dataframe tbody tr th {\n        vertical-align: top;\n    }\n\n    .dataframe thead th {\n        text-align: right;\n    }\n</style>\n<table border=\"1\" class=\"dataframe\">\n  <thead>\n    <tr style=\"text-align: right;\">\n      <th></th>\n      <th>minority</th>\n      <th>sex</th>\n      <th>rent</th>\n      <th>education</th>\n      <th>age</th>\n      <th>income</th>\n      <th>loan_size</th>\n      <th>payment_timing</th>\n      <th>year</th>\n      <th>job_stability</th>\n      <th>zip0</th>\n      <th>zip1</th>\n      <th>zip2</th>\n      <th>zip3</th>\n      <th>occupation0</th>\n      <th>occupation1</th>\n      <th>occupation2</th>\n      <th>target</th>\n    </tr>\n  </thead>\n  <tbody>\n    <tr>\n      <th>465602</th>\n      <td>0</td>\n      <td>1</td>\n      <td>1</td>\n      <td>2.928320</td>\n      <td>18.999211</td>\n      <td>8622.136536</td>\n      <td>3356.078871</td>\n      <td>3.905661</td>\n      <td>28</td>\n      <td>3.205876</td>\n      <td>0</td>\n      <td>1</td>\n      <td>0</td>\n      <td>0</td>\n      <td>1</td>\n      <td>0</td>\n      <td>0</td>\n      <td>1</td>\n    </tr>\n    <tr>\n      <th>353962</th>\n      <td>0</td>\n      <td>1</td>\n      <td>1</td>\n      <td>1.986543</td>\n      <td>30.153874</td>\n      <td>6766.787105</td>\n      <td>8043.856295</td>\n      <td>2.995401</td>\n      <td>14</td>\n      <td>6.306613</td>\n      <td>0</td>\n      <td>1</td>\n      <td>0</td>\n      <td>0</td>\n      <td>1</td>\n      <td>0</td>\n      <td>0</td>\n      <td>1</td>\n    </tr>\n    <tr>\n      <th>179649</th>\n      <td>0</td>\n      <td>1</td>\n      <td>1</td>\n      <td>2.151620</td>\n      <td>50.446629</td>\n      <td>8436.319722</td>\n      <td>7203.728919</td>\n      <td>3.431818</td>\n      <td>22</td>\n      <td>1.993902</td>\n      <td>0</td>\n      <td>0</td>\n      <td>0</td>\n      <td>1</td>\n      <td>1</td>\n      <td>0</td>\n      <td>0</td>\n      <td>1</td>\n    </tr>\n    <tr>\n      <th>449609</th>\n      <td>0</td>\n      <td>1</td>\n      <td>1</td>\n      <td>2.107799</td>\n      <td>50.695497</td>\n      <td>8274.876879</td>\n      <td>1621.119807</td>\n      <td>3.405753</td>\n      <td>26</td>\n      <td>4.305754</td>\n      <td>0</td>\n      <td>1</td>\n      <td>0</td>\n      <td>0</td>\n      <td>1</td>\n      <td>0</td>\n      <td>0</td>\n      <td>1</td>\n    </tr>\n    <tr>\n      <th>403573</th>\n      <td>0</td>\n      <td>1</td>\n      <td>1</td>\n      <td>0.746696</td>\n      <td>51.829461</td>\n      <td>2947.925815</td>\n      <td>8731.722065</td>\n      <td>3.525324</td>\n      <td>20</td>\n      <td>2.340764</td>\n      <td>0</td>\n      <td>0</td>\n      <td>0</td>\n      <td>1</td>\n      <td>1</td>\n      <td>0</td>\n      <td>0</td>\n      <td>1</td>\n    </tr>\n  </tbody>\n</table>\n</div>"
     },
     "execution_count": 20,
     "metadata": {},
     "output_type": "execute_result"
    }
   ],
   "source": [
    "sample_maj_m_1"
   ],
   "metadata": {
    "collapsed": false,
    "pycharm": {
     "name": "#%%\n"
    }
   }
  },
  {
   "cell_type": "code",
   "execution_count": 21,
   "outputs": [
    {
     "data": {
      "text/plain": "        minority  sex  rent  education        age         income    loan_size  \\\n118616         1    0     0  55.280348  35.757428  197724.427341  6844.318297   \n150195         1    0     0  56.073187  36.791768  202159.209376  4873.612161   \n102127         1    0     0  51.215728  63.578345  212661.681676  9703.512921   \n164537         1    0     0  57.421026  37.537682  208171.045667  5890.923787   \n158207         1    0     0  54.079354  53.975226  215696.863656  7965.703257   \n\n        payment_timing  year  job_stability  zip0  zip1  zip2  zip3  \\\n118616        3.171925    14     119.755286     0     0     1     0   \n150195        3.703670    18     101.883725     0     0     1     0   \n102127        3.980854    12     113.271641     0     0     1     0   \n164537        2.349167    20      81.268653     1     0     0     0   \n158207        1.396740    19      96.382217     0     0     1     0   \n\n        occupation0  occupation1  occupation2  target  \n118616            0            1            0       0  \n150195            0            1            0       0  \n102127            0            1            0       0  \n164537            0            1            0       0  \n158207            0            1            0       0  ",
      "text/html": "<div>\n<style scoped>\n    .dataframe tbody tr th:only-of-type {\n        vertical-align: middle;\n    }\n\n    .dataframe tbody tr th {\n        vertical-align: top;\n    }\n\n    .dataframe thead th {\n        text-align: right;\n    }\n</style>\n<table border=\"1\" class=\"dataframe\">\n  <thead>\n    <tr style=\"text-align: right;\">\n      <th></th>\n      <th>minority</th>\n      <th>sex</th>\n      <th>rent</th>\n      <th>education</th>\n      <th>age</th>\n      <th>income</th>\n      <th>loan_size</th>\n      <th>payment_timing</th>\n      <th>year</th>\n      <th>job_stability</th>\n      <th>zip0</th>\n      <th>zip1</th>\n      <th>zip2</th>\n      <th>zip3</th>\n      <th>occupation0</th>\n      <th>occupation1</th>\n      <th>occupation2</th>\n      <th>target</th>\n    </tr>\n  </thead>\n  <tbody>\n    <tr>\n      <th>118616</th>\n      <td>1</td>\n      <td>0</td>\n      <td>0</td>\n      <td>55.280348</td>\n      <td>35.757428</td>\n      <td>197724.427341</td>\n      <td>6844.318297</td>\n      <td>3.171925</td>\n      <td>14</td>\n      <td>119.755286</td>\n      <td>0</td>\n      <td>0</td>\n      <td>1</td>\n      <td>0</td>\n      <td>0</td>\n      <td>1</td>\n      <td>0</td>\n      <td>0</td>\n    </tr>\n    <tr>\n      <th>150195</th>\n      <td>1</td>\n      <td>0</td>\n      <td>0</td>\n      <td>56.073187</td>\n      <td>36.791768</td>\n      <td>202159.209376</td>\n      <td>4873.612161</td>\n      <td>3.703670</td>\n      <td>18</td>\n      <td>101.883725</td>\n      <td>0</td>\n      <td>0</td>\n      <td>1</td>\n      <td>0</td>\n      <td>0</td>\n      <td>1</td>\n      <td>0</td>\n      <td>0</td>\n    </tr>\n    <tr>\n      <th>102127</th>\n      <td>1</td>\n      <td>0</td>\n      <td>0</td>\n      <td>51.215728</td>\n      <td>63.578345</td>\n      <td>212661.681676</td>\n      <td>9703.512921</td>\n      <td>3.980854</td>\n      <td>12</td>\n      <td>113.271641</td>\n      <td>0</td>\n      <td>0</td>\n      <td>1</td>\n      <td>0</td>\n      <td>0</td>\n      <td>1</td>\n      <td>0</td>\n      <td>0</td>\n    </tr>\n    <tr>\n      <th>164537</th>\n      <td>1</td>\n      <td>0</td>\n      <td>0</td>\n      <td>57.421026</td>\n      <td>37.537682</td>\n      <td>208171.045667</td>\n      <td>5890.923787</td>\n      <td>2.349167</td>\n      <td>20</td>\n      <td>81.268653</td>\n      <td>1</td>\n      <td>0</td>\n      <td>0</td>\n      <td>0</td>\n      <td>0</td>\n      <td>1</td>\n      <td>0</td>\n      <td>0</td>\n    </tr>\n    <tr>\n      <th>158207</th>\n      <td>1</td>\n      <td>0</td>\n      <td>0</td>\n      <td>54.079354</td>\n      <td>53.975226</td>\n      <td>215696.863656</td>\n      <td>7965.703257</td>\n      <td>1.396740</td>\n      <td>19</td>\n      <td>96.382217</td>\n      <td>0</td>\n      <td>0</td>\n      <td>1</td>\n      <td>0</td>\n      <td>0</td>\n      <td>1</td>\n      <td>0</td>\n      <td>0</td>\n    </tr>\n  </tbody>\n</table>\n</div>"
     },
     "execution_count": 21,
     "metadata": {},
     "output_type": "execute_result"
    }
   ],
   "source": [
    "sample_min_f_0"
   ],
   "metadata": {
    "collapsed": false,
    "pycharm": {
     "name": "#%%\n"
    }
   }
  },
  {
   "cell_type": "code",
   "execution_count": 22,
   "outputs": [
    {
     "data": {
      "text/plain": "        minority  sex  rent  education        age         income    loan_size  \\\n144660         1    0     1  56.627904  21.459377  173630.309814  4483.687089   \n264520         1    0     0  55.437825  41.223087  206173.185572  3723.340535   \n264211         1    0     1  48.903982  59.995792  200226.321591  9208.772021   \n210979         1    0     1  46.207488  50.678200  181387.302009  6869.924686   \n184602         1    0     1  59.190770  34.214519  209100.280183  7009.455511   \n\n        payment_timing  year  job_stability  zip0  zip1  zip2  zip3  \\\n144660        3.959217    18       0.628364     0     1     0     0   \n264520        3.121225     3       1.260378     0     1     0     0   \n264211        3.201213     3       4.023071     0     1     0     0   \n210979       -0.588983    26       2.328415     0     0     0     1   \n184602        3.202205    23       2.448276     0     1     0     0   \n\n        occupation0  occupation1  occupation2  target  \n144660            0            1            0       1  \n264520            0            1            0       1  \n264211            0            1            0       1  \n210979            0            1            0       1  \n184602            0            1            0       1  ",
      "text/html": "<div>\n<style scoped>\n    .dataframe tbody tr th:only-of-type {\n        vertical-align: middle;\n    }\n\n    .dataframe tbody tr th {\n        vertical-align: top;\n    }\n\n    .dataframe thead th {\n        text-align: right;\n    }\n</style>\n<table border=\"1\" class=\"dataframe\">\n  <thead>\n    <tr style=\"text-align: right;\">\n      <th></th>\n      <th>minority</th>\n      <th>sex</th>\n      <th>rent</th>\n      <th>education</th>\n      <th>age</th>\n      <th>income</th>\n      <th>loan_size</th>\n      <th>payment_timing</th>\n      <th>year</th>\n      <th>job_stability</th>\n      <th>zip0</th>\n      <th>zip1</th>\n      <th>zip2</th>\n      <th>zip3</th>\n      <th>occupation0</th>\n      <th>occupation1</th>\n      <th>occupation2</th>\n      <th>target</th>\n    </tr>\n  </thead>\n  <tbody>\n    <tr>\n      <th>144660</th>\n      <td>1</td>\n      <td>0</td>\n      <td>1</td>\n      <td>56.627904</td>\n      <td>21.459377</td>\n      <td>173630.309814</td>\n      <td>4483.687089</td>\n      <td>3.959217</td>\n      <td>18</td>\n      <td>0.628364</td>\n      <td>0</td>\n      <td>1</td>\n      <td>0</td>\n      <td>0</td>\n      <td>0</td>\n      <td>1</td>\n      <td>0</td>\n      <td>1</td>\n    </tr>\n    <tr>\n      <th>264520</th>\n      <td>1</td>\n      <td>0</td>\n      <td>0</td>\n      <td>55.437825</td>\n      <td>41.223087</td>\n      <td>206173.185572</td>\n      <td>3723.340535</td>\n      <td>3.121225</td>\n      <td>3</td>\n      <td>1.260378</td>\n      <td>0</td>\n      <td>1</td>\n      <td>0</td>\n      <td>0</td>\n      <td>0</td>\n      <td>1</td>\n      <td>0</td>\n      <td>1</td>\n    </tr>\n    <tr>\n      <th>264211</th>\n      <td>1</td>\n      <td>0</td>\n      <td>1</td>\n      <td>48.903982</td>\n      <td>59.995792</td>\n      <td>200226.321591</td>\n      <td>9208.772021</td>\n      <td>3.201213</td>\n      <td>3</td>\n      <td>4.023071</td>\n      <td>0</td>\n      <td>1</td>\n      <td>0</td>\n      <td>0</td>\n      <td>0</td>\n      <td>1</td>\n      <td>0</td>\n      <td>1</td>\n    </tr>\n    <tr>\n      <th>210979</th>\n      <td>1</td>\n      <td>0</td>\n      <td>1</td>\n      <td>46.207488</td>\n      <td>50.678200</td>\n      <td>181387.302009</td>\n      <td>6869.924686</td>\n      <td>-0.588983</td>\n      <td>26</td>\n      <td>2.328415</td>\n      <td>0</td>\n      <td>0</td>\n      <td>0</td>\n      <td>1</td>\n      <td>0</td>\n      <td>1</td>\n      <td>0</td>\n      <td>1</td>\n    </tr>\n    <tr>\n      <th>184602</th>\n      <td>1</td>\n      <td>0</td>\n      <td>1</td>\n      <td>59.190770</td>\n      <td>34.214519</td>\n      <td>209100.280183</td>\n      <td>7009.455511</td>\n      <td>3.202205</td>\n      <td>23</td>\n      <td>2.448276</td>\n      <td>0</td>\n      <td>1</td>\n      <td>0</td>\n      <td>0</td>\n      <td>0</td>\n      <td>1</td>\n      <td>0</td>\n      <td>1</td>\n    </tr>\n  </tbody>\n</table>\n</div>"
     },
     "execution_count": 22,
     "metadata": {},
     "output_type": "execute_result"
    }
   ],
   "source": [
    "sample_min_f_1"
   ],
   "metadata": {
    "collapsed": false,
    "pycharm": {
     "name": "#%%\n"
    }
   }
  },
  {
   "cell_type": "code",
   "execution_count": 23,
   "outputs": [
    {
     "data": {
      "text/plain": "        minority  sex  rent  education        age       income    loan_size  \\\n1996           1    1     1   0.035914  43.691222   135.652789  8665.929973   \n197602         1    1     0   1.178438  41.741417  4397.333073  8698.927097   \n125987         1    1     0   2.891908  23.010100  9068.831285  7788.754000   \n209878         1    1     1   0.035597  53.144439   141.429067  7851.195146   \n169134         1    1     1   0.002336  22.880864     7.311613  9466.914572   \n\n        payment_timing  year  job_stability  zip0  zip1  zip2  zip3  \\\n1996          3.483781     0       1.956747     0     1     0     0   \n197602        3.704142    24      81.486306     1     0     0     0   \n125987        3.551928    15      77.687664     1     0     0     0   \n209878        2.692791    26       2.576258     0     1     0     0   \n169134        3.360575    21       1.941544     0     1     0     0   \n\n        occupation0  occupation1  occupation2  target  \n1996              0            0            1       0  \n197602            0            0            1       0  \n125987            0            0            1       0  \n209878            0            0            1       0  \n169134            0            0            1       0  ",
      "text/html": "<div>\n<style scoped>\n    .dataframe tbody tr th:only-of-type {\n        vertical-align: middle;\n    }\n\n    .dataframe tbody tr th {\n        vertical-align: top;\n    }\n\n    .dataframe thead th {\n        text-align: right;\n    }\n</style>\n<table border=\"1\" class=\"dataframe\">\n  <thead>\n    <tr style=\"text-align: right;\">\n      <th></th>\n      <th>minority</th>\n      <th>sex</th>\n      <th>rent</th>\n      <th>education</th>\n      <th>age</th>\n      <th>income</th>\n      <th>loan_size</th>\n      <th>payment_timing</th>\n      <th>year</th>\n      <th>job_stability</th>\n      <th>zip0</th>\n      <th>zip1</th>\n      <th>zip2</th>\n      <th>zip3</th>\n      <th>occupation0</th>\n      <th>occupation1</th>\n      <th>occupation2</th>\n      <th>target</th>\n    </tr>\n  </thead>\n  <tbody>\n    <tr>\n      <th>1996</th>\n      <td>1</td>\n      <td>1</td>\n      <td>1</td>\n      <td>0.035914</td>\n      <td>43.691222</td>\n      <td>135.652789</td>\n      <td>8665.929973</td>\n      <td>3.483781</td>\n      <td>0</td>\n      <td>1.956747</td>\n      <td>0</td>\n      <td>1</td>\n      <td>0</td>\n      <td>0</td>\n      <td>0</td>\n      <td>0</td>\n      <td>1</td>\n      <td>0</td>\n    </tr>\n    <tr>\n      <th>197602</th>\n      <td>1</td>\n      <td>1</td>\n      <td>0</td>\n      <td>1.178438</td>\n      <td>41.741417</td>\n      <td>4397.333073</td>\n      <td>8698.927097</td>\n      <td>3.704142</td>\n      <td>24</td>\n      <td>81.486306</td>\n      <td>1</td>\n      <td>0</td>\n      <td>0</td>\n      <td>0</td>\n      <td>0</td>\n      <td>0</td>\n      <td>1</td>\n      <td>0</td>\n    </tr>\n    <tr>\n      <th>125987</th>\n      <td>1</td>\n      <td>1</td>\n      <td>0</td>\n      <td>2.891908</td>\n      <td>23.010100</td>\n      <td>9068.831285</td>\n      <td>7788.754000</td>\n      <td>3.551928</td>\n      <td>15</td>\n      <td>77.687664</td>\n      <td>1</td>\n      <td>0</td>\n      <td>0</td>\n      <td>0</td>\n      <td>0</td>\n      <td>0</td>\n      <td>1</td>\n      <td>0</td>\n    </tr>\n    <tr>\n      <th>209878</th>\n      <td>1</td>\n      <td>1</td>\n      <td>1</td>\n      <td>0.035597</td>\n      <td>53.144439</td>\n      <td>141.429067</td>\n      <td>7851.195146</td>\n      <td>2.692791</td>\n      <td>26</td>\n      <td>2.576258</td>\n      <td>0</td>\n      <td>1</td>\n      <td>0</td>\n      <td>0</td>\n      <td>0</td>\n      <td>0</td>\n      <td>1</td>\n      <td>0</td>\n    </tr>\n    <tr>\n      <th>169134</th>\n      <td>1</td>\n      <td>1</td>\n      <td>1</td>\n      <td>0.002336</td>\n      <td>22.880864</td>\n      <td>7.311613</td>\n      <td>9466.914572</td>\n      <td>3.360575</td>\n      <td>21</td>\n      <td>1.941544</td>\n      <td>0</td>\n      <td>1</td>\n      <td>0</td>\n      <td>0</td>\n      <td>0</td>\n      <td>0</td>\n      <td>1</td>\n      <td>0</td>\n    </tr>\n  </tbody>\n</table>\n</div>"
     },
     "execution_count": 23,
     "metadata": {},
     "output_type": "execute_result"
    }
   ],
   "source": [
    "sample_min_m_0"
   ],
   "metadata": {
    "collapsed": false,
    "pycharm": {
     "name": "#%%\n"
    }
   }
  },
  {
   "cell_type": "code",
   "execution_count": 24,
   "outputs": [
    {
     "data": {
      "text/plain": "        minority  sex  rent  education        age       income    loan_size  \\\n179305         1    1     1   1.123165  67.992698  4739.084014  8424.654052   \n163432         1    1     1   0.522488  63.931286  2172.403820  9815.480583   \n163667         1    1     1   1.371532  33.470108  4814.971135  5242.476125   \n25677          1    1     1   1.567676  66.327768  6575.786164  1374.550270   \n171501         1    1     1   0.725187  46.984788  2791.843104  8194.668271   \n\n        payment_timing  year  job_stability  zip0  zip1  zip2  zip3  \\\n179305        3.689902    22       1.751957     0     0     0     1   \n163432        2.334838    20       0.475898     0     0     0     1   \n163667        3.826204    20       0.514001     0     0     0     1   \n25677         1.352672     3       1.081904     0     1     0     0   \n171501        3.435982    21       1.220030     0     0     0     1   \n\n        occupation0  occupation1  occupation2  target  \n179305            0            0            1       1  \n163432            0            0            1       1  \n163667            0            0            1       1  \n25677             0            0            1       1  \n171501            0            0            1       1  ",
      "text/html": "<div>\n<style scoped>\n    .dataframe tbody tr th:only-of-type {\n        vertical-align: middle;\n    }\n\n    .dataframe tbody tr th {\n        vertical-align: top;\n    }\n\n    .dataframe thead th {\n        text-align: right;\n    }\n</style>\n<table border=\"1\" class=\"dataframe\">\n  <thead>\n    <tr style=\"text-align: right;\">\n      <th></th>\n      <th>minority</th>\n      <th>sex</th>\n      <th>rent</th>\n      <th>education</th>\n      <th>age</th>\n      <th>income</th>\n      <th>loan_size</th>\n      <th>payment_timing</th>\n      <th>year</th>\n      <th>job_stability</th>\n      <th>zip0</th>\n      <th>zip1</th>\n      <th>zip2</th>\n      <th>zip3</th>\n      <th>occupation0</th>\n      <th>occupation1</th>\n      <th>occupation2</th>\n      <th>target</th>\n    </tr>\n  </thead>\n  <tbody>\n    <tr>\n      <th>179305</th>\n      <td>1</td>\n      <td>1</td>\n      <td>1</td>\n      <td>1.123165</td>\n      <td>67.992698</td>\n      <td>4739.084014</td>\n      <td>8424.654052</td>\n      <td>3.689902</td>\n      <td>22</td>\n      <td>1.751957</td>\n      <td>0</td>\n      <td>0</td>\n      <td>0</td>\n      <td>1</td>\n      <td>0</td>\n      <td>0</td>\n      <td>1</td>\n      <td>1</td>\n    </tr>\n    <tr>\n      <th>163432</th>\n      <td>1</td>\n      <td>1</td>\n      <td>1</td>\n      <td>0.522488</td>\n      <td>63.931286</td>\n      <td>2172.403820</td>\n      <td>9815.480583</td>\n      <td>2.334838</td>\n      <td>20</td>\n      <td>0.475898</td>\n      <td>0</td>\n      <td>0</td>\n      <td>0</td>\n      <td>1</td>\n      <td>0</td>\n      <td>0</td>\n      <td>1</td>\n      <td>1</td>\n    </tr>\n    <tr>\n      <th>163667</th>\n      <td>1</td>\n      <td>1</td>\n      <td>1</td>\n      <td>1.371532</td>\n      <td>33.470108</td>\n      <td>4814.971135</td>\n      <td>5242.476125</td>\n      <td>3.826204</td>\n      <td>20</td>\n      <td>0.514001</td>\n      <td>0</td>\n      <td>0</td>\n      <td>0</td>\n      <td>1</td>\n      <td>0</td>\n      <td>0</td>\n      <td>1</td>\n      <td>1</td>\n    </tr>\n    <tr>\n      <th>25677</th>\n      <td>1</td>\n      <td>1</td>\n      <td>1</td>\n      <td>1.567676</td>\n      <td>66.327768</td>\n      <td>6575.786164</td>\n      <td>1374.550270</td>\n      <td>1.352672</td>\n      <td>3</td>\n      <td>1.081904</td>\n      <td>0</td>\n      <td>1</td>\n      <td>0</td>\n      <td>0</td>\n      <td>0</td>\n      <td>0</td>\n      <td>1</td>\n      <td>1</td>\n    </tr>\n    <tr>\n      <th>171501</th>\n      <td>1</td>\n      <td>1</td>\n      <td>1</td>\n      <td>0.725187</td>\n      <td>46.984788</td>\n      <td>2791.843104</td>\n      <td>8194.668271</td>\n      <td>3.435982</td>\n      <td>21</td>\n      <td>1.220030</td>\n      <td>0</td>\n      <td>0</td>\n      <td>0</td>\n      <td>1</td>\n      <td>0</td>\n      <td>0</td>\n      <td>1</td>\n      <td>1</td>\n    </tr>\n  </tbody>\n</table>\n</div>"
     },
     "execution_count": 24,
     "metadata": {},
     "output_type": "execute_result"
    }
   ],
   "source": [
    "sample_min_m_1"
   ],
   "metadata": {
    "collapsed": false,
    "pycharm": {
     "name": "#%%\n"
    }
   }
  }
 ],
 "metadata": {
  "kernelspec": {
   "display_name": "Python 3",
   "language": "python",
   "name": "python3"
  },
  "language_info": {
   "codemirror_mode": {
    "name": "ipython",
    "version": 2
   },
   "file_extension": ".py",
   "mimetype": "text/x-python",
   "name": "python",
   "nbconvert_exporter": "python",
   "pygments_lexer": "ipython2",
   "version": "2.7.6"
  }
 },
 "nbformat": 4,
 "nbformat_minor": 0
}