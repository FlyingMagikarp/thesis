{
 "cells": [
  {
   "cell_type": "markdown",
   "source": [
    "# Analysis CC"
   ],
   "metadata": {
    "collapsed": false
   }
  },
  {
   "cell_type": "code",
   "execution_count": 1,
   "outputs": [],
   "source": [
    "import pandas as pd\n",
    "import numpy as np\n",
    "import matplotlib.pyplot as plt\n",
    "%matplotlib notebook"
   ],
   "metadata": {
    "collapsed": false
   }
  },
  {
   "cell_type": "code",
   "execution_count": 2,
   "outputs": [
    {
     "data": {
      "text/plain": "   minority  sex  rent  education        age         income    loan_size  \\\n0         1    0     1  57.230650  36.050927  205168.022244  7600.292199   \n1         1    0     1  45.891343  59.525251  187530.409981  5534.271289   \n2         1    0     1  46.775489  67.338108  196912.006690  2009.903438   \n3         1    0     1  41.784839  24.067401  132911.650615  3112.280893   \n4         1    0     1  41.744838  47.496605  161162.551205  1372.077093   \n\n   payment_timing  year  job_stability  zip0  zip1  zip2  zip3  occupation0  \\\n0        3.302193     0       3.015554     0     1     0     0            0   \n1        3.843058     0       5.938132     0     1     0     0            0   \n2        2.059034     0       2.190777     0     1     0     0            0   \n3        3.936169     0       1.725860     0     1     0     0            0   \n4        3.709910     0       0.883104     0     1     0     0            0   \n\n   occupation1  occupation2  target  \n0            1            0       1  \n1            1            0       1  \n2            1            0       1  \n3            1            0       1  \n4            1            0       1  ",
      "text/html": "<div>\n<style scoped>\n    .dataframe tbody tr th:only-of-type {\n        vertical-align: middle;\n    }\n\n    .dataframe tbody tr th {\n        vertical-align: top;\n    }\n\n    .dataframe thead th {\n        text-align: right;\n    }\n</style>\n<table border=\"1\" class=\"dataframe\">\n  <thead>\n    <tr style=\"text-align: right;\">\n      <th></th>\n      <th>minority</th>\n      <th>sex</th>\n      <th>rent</th>\n      <th>education</th>\n      <th>age</th>\n      <th>income</th>\n      <th>loan_size</th>\n      <th>payment_timing</th>\n      <th>year</th>\n      <th>job_stability</th>\n      <th>zip0</th>\n      <th>zip1</th>\n      <th>zip2</th>\n      <th>zip3</th>\n      <th>occupation0</th>\n      <th>occupation1</th>\n      <th>occupation2</th>\n      <th>target</th>\n    </tr>\n  </thead>\n  <tbody>\n    <tr>\n      <th>0</th>\n      <td>1</td>\n      <td>0</td>\n      <td>1</td>\n      <td>57.230650</td>\n      <td>36.050927</td>\n      <td>205168.022244</td>\n      <td>7600.292199</td>\n      <td>3.302193</td>\n      <td>0</td>\n      <td>3.015554</td>\n      <td>0</td>\n      <td>1</td>\n      <td>0</td>\n      <td>0</td>\n      <td>0</td>\n      <td>1</td>\n      <td>0</td>\n      <td>1</td>\n    </tr>\n    <tr>\n      <th>1</th>\n      <td>1</td>\n      <td>0</td>\n      <td>1</td>\n      <td>45.891343</td>\n      <td>59.525251</td>\n      <td>187530.409981</td>\n      <td>5534.271289</td>\n      <td>3.843058</td>\n      <td>0</td>\n      <td>5.938132</td>\n      <td>0</td>\n      <td>1</td>\n      <td>0</td>\n      <td>0</td>\n      <td>0</td>\n      <td>1</td>\n      <td>0</td>\n      <td>1</td>\n    </tr>\n    <tr>\n      <th>2</th>\n      <td>1</td>\n      <td>0</td>\n      <td>1</td>\n      <td>46.775489</td>\n      <td>67.338108</td>\n      <td>196912.006690</td>\n      <td>2009.903438</td>\n      <td>2.059034</td>\n      <td>0</td>\n      <td>2.190777</td>\n      <td>0</td>\n      <td>1</td>\n      <td>0</td>\n      <td>0</td>\n      <td>0</td>\n      <td>1</td>\n      <td>0</td>\n      <td>1</td>\n    </tr>\n    <tr>\n      <th>3</th>\n      <td>1</td>\n      <td>0</td>\n      <td>1</td>\n      <td>41.784839</td>\n      <td>24.067401</td>\n      <td>132911.650615</td>\n      <td>3112.280893</td>\n      <td>3.936169</td>\n      <td>0</td>\n      <td>1.725860</td>\n      <td>0</td>\n      <td>1</td>\n      <td>0</td>\n      <td>0</td>\n      <td>0</td>\n      <td>1</td>\n      <td>0</td>\n      <td>1</td>\n    </tr>\n    <tr>\n      <th>4</th>\n      <td>1</td>\n      <td>0</td>\n      <td>1</td>\n      <td>41.744838</td>\n      <td>47.496605</td>\n      <td>161162.551205</td>\n      <td>1372.077093</td>\n      <td>3.709910</td>\n      <td>0</td>\n      <td>0.883104</td>\n      <td>0</td>\n      <td>1</td>\n      <td>0</td>\n      <td>0</td>\n      <td>0</td>\n      <td>1</td>\n      <td>0</td>\n      <td>1</td>\n    </tr>\n  </tbody>\n</table>\n</div>"
     },
     "execution_count": 2,
     "metadata": {},
     "output_type": "execute_result"
    }
   ],
   "source": [
    "df = pd.read_csv('../data/train_clean.csv')\n",
    "#df2 = pd.read_csv('../data/test_clean.csv')\n",
    "#df = pd.concat([df, df2])\n",
    "df.head()"
   ],
   "metadata": {
    "collapsed": false
   }
  },
  {
   "cell_type": "code",
   "execution_count": 3,
   "outputs": [
    {
     "data": {
      "text/plain": "480000"
     },
     "execution_count": 3,
     "metadata": {},
     "output_type": "execute_result"
    }
   ],
   "source": [
    "len(df)"
   ],
   "metadata": {
    "collapsed": false
   }
  },
  {
   "cell_type": "code",
   "execution_count": 4,
   "outputs": [
    {
     "name": "stdout",
     "output_type": "stream",
     "text": [
      "Total Entires 480000\n",
      "Default 239927\n",
      "NO Default 240073\n",
      "#####\n",
      "Male 240000\n",
      "Female 240000\n",
      "Male Default 119927\n",
      "Female Default 120000\n",
      "#####\n",
      "Majority 240167\n",
      "Minorities 239833\n",
      "Majority Default 349\n",
      "Majority no Default 239818\n",
      "Minority Default 239578\n",
      "Minority no Default 255\n"
     ]
    }
   ],
   "source": [
    "print('Total Entires', len(df))\n",
    "print('Default', len(df.loc[df['target'] == 1]))\n",
    "print('NO Default', len(df.loc[df['target'] == 0]))\n",
    "print('#####')\n",
    "print('Male', len(df.loc[df['sex'] == 1]))\n",
    "print('Female', len(df.loc[df['sex'] == 0]))\n",
    "print('Male Default', len(df.loc[(df['sex'] == 1) & (df['target'] == 1)]))\n",
    "print('Female Default', len(df.loc[(df['sex'] == 0) & (df['target'] == 1)]))\n",
    "print('#####')\n",
    "print('Majority', len(df.loc[df['minority'] == 0]))\n",
    "print('Minorities', len(df.loc[df['minority'] == 1]))\n",
    "print('Majority Default', len(df.loc[(df['minority'] == 0) & (df['target'] == 1)]))\n",
    "print('Majority no Default', len(df.loc[(df['minority'] == 0) & (df['target'] == 0)]))\n",
    "print('Minority Default', len(df.loc[(df['minority'] == 1) & (df['target'] == 1)]))\n",
    "print('Minority no Default', len(df.loc[(df['minority'] == 1) & (df['target'] == 0)]))"
   ],
   "metadata": {
    "collapsed": false
   }
  },
  {
   "cell_type": "code",
   "execution_count": 5,
   "outputs": [
    {
     "name": "stdout",
     "output_type": "stream",
     "text": [
      "480000 239927 240073\n"
     ]
    }
   ],
   "source": [
    "# general split, default/not default\n",
    "total = len(df)\n",
    "did_def = len(df.loc[df['target'] == 1])\n",
    "did_not_def = len(df.loc[df['target'] == 0])\n",
    "\n",
    "print(total, did_def, did_not_def)"
   ],
   "metadata": {
    "collapsed": false
   }
  },
  {
   "cell_type": "code",
   "execution_count": 6,
   "outputs": [
    {
     "name": "stdout",
     "output_type": "stream",
     "text": [
      "Defaulted % 49.98479166666667\n"
     ]
    }
   ],
   "source": [
    "print('Defaulted %', 100/total*did_def)"
   ],
   "metadata": {
    "collapsed": false
   }
  },
  {
   "cell_type": "code",
   "execution_count": 7,
   "outputs": [
    {
     "name": "stdout",
     "output_type": "stream",
     "text": [
      "480000 240000 240000\n",
      "Male % 50.0\n"
     ]
    }
   ],
   "source": [
    "# general gender split\n",
    "male = len(df.loc[df['sex'] == 1])\n",
    "female = len(df.loc[df['sex'] == 0])\n",
    "\n",
    "print(total, male, female)\n",
    "print('Male %', 100/total*male)"
   ],
   "metadata": {
    "collapsed": false
   }
  },
  {
   "cell_type": "code",
   "execution_count": 8,
   "outputs": [],
   "source": [
    "df_male = df.loc[df['sex'] == 1]\n",
    "df_female = df.loc[df['sex'] == 0]"
   ],
   "metadata": {
    "collapsed": false
   }
  },
  {
   "cell_type": "markdown",
   "source": [
    "## Male Analysis"
   ],
   "metadata": {
    "collapsed": false
   }
  },
  {
   "cell_type": "code",
   "execution_count": 9,
   "outputs": [
    {
     "name": "stdout",
     "output_type": "stream",
     "text": [
      "240000 119927 120073\n",
      "Defaulted male % 49.96958333333334\n"
     ]
    }
   ],
   "source": [
    "total = len(df_male)\n",
    "did_def = len(df_male.loc[df_male['target'] == 1])\n",
    "did_not_def = len(df_male.loc[df_male['target'] == 0])\n",
    "\n",
    "print(total, did_def, did_not_def)\n",
    "print('Defaulted male %', 100/total*did_def)"
   ],
   "metadata": {
    "collapsed": false
   }
  },
  {
   "cell_type": "code",
   "execution_count": 10,
   "outputs": [
    {
     "name": "stdout",
     "output_type": "stream",
     "text": [
      "Races split\n",
      "majority 120111 50.04625\n",
      "minority 119889 49.95375000000001\n"
     ]
    }
   ],
   "source": [
    "majority = df_male.loc[df_male['minority'] == 0]\n",
    "minority = df_male.loc[df_male['minority'] == 1]\n",
    "\n",
    "print('Races split')\n",
    "print('majority', len(majority), 100/total*len(majority))\n",
    "print('minority', len(minority), 100/total*len(minority))"
   ],
   "metadata": {
    "collapsed": false
   }
  },
  {
   "cell_type": "code",
   "execution_count": 11,
   "outputs": [
    {
     "name": "stdout",
     "output_type": "stream",
     "text": [
      "% of positive labels per race\n",
      "majority 186 0.0775\n",
      "minority 119741 49.89208333333334\n"
     ]
    }
   ],
   "source": [
    "print('% of positive labels per race')\n",
    "print('majority', len(majority.loc[majority['target'] == 1]), 100/total*len(majority.loc[majority['target'] == 1]))\n",
    "print('minority', len(minority.loc[minority['target'] == 1]), 100/total*len(minority.loc[minority['target'] == 1]))"
   ],
   "metadata": {
    "collapsed": false
   }
  },
  {
   "cell_type": "markdown",
   "source": [
    "## Female Analysis"
   ],
   "metadata": {
    "collapsed": false
   }
  },
  {
   "cell_type": "code",
   "execution_count": 12,
   "outputs": [
    {
     "name": "stdout",
     "output_type": "stream",
     "text": [
      "240000 120000 120000\n",
      "Defaulted female % 50.0\n"
     ]
    }
   ],
   "source": [
    "total = len(df_female)\n",
    "did_def = len(df_female.loc[df_female['target'] == 1])\n",
    "did_not_def = len(df_female.loc[df_female['target'] == 0])\n",
    "\n",
    "print(total, did_def, did_not_def)\n",
    "print('Defaulted female %', 100/total*did_def)"
   ],
   "metadata": {
    "collapsed": false
   }
  },
  {
   "cell_type": "code",
   "execution_count": 13,
   "outputs": [
    {
     "name": "stdout",
     "output_type": "stream",
     "text": [
      "Races split\n",
      "majority 120056 50.02333333333333\n",
      "minority 119944 49.97666666666667\n"
     ]
    }
   ],
   "source": [
    "majority = df_female.loc[df_female['minority'] == 0]\n",
    "minority = df_female.loc[df_female['minority'] == 1]\n",
    "\n",
    "print('Races split')\n",
    "print('majority', len(majority), 100/total*len(majority))\n",
    "print('minority', len(minority), 100/total*len(minority))"
   ],
   "metadata": {
    "collapsed": false
   }
  },
  {
   "cell_type": "code",
   "execution_count": 14,
   "outputs": [
    {
     "name": "stdout",
     "output_type": "stream",
     "text": [
      "% of positive labels per race\n",
      "majority 163 0.06791666666666667\n",
      "minority 119837 49.93208333333334\n"
     ]
    }
   ],
   "source": [
    "print('% of positive labels per race')\n",
    "print('majority', len(majority.loc[majority['target'] == 1]), 100/total*len(majority.loc[majority['target'] == 1]))\n",
    "print('minority', len(minority.loc[minority['target'] == 1]), 100/total*len(minority.loc[minority['target'] == 1]))"
   ],
   "metadata": {
    "collapsed": false
   }
  },
  {
   "cell_type": "code",
   "execution_count": 15,
   "outputs": [],
   "source": [
    "sample_maj_f_0 = df[(df['minority'] == 0) & (df['sex'] == 0) & (df['target'] == 0)].sample(5)\n",
    "sample_maj_f_1 = df[(df['minority'] == 0) & (df['sex'] == 0) & (df['target'] == 1)].sample(5)\n",
    "\n",
    "sample_maj_m_0 = df[(df['minority'] == 0) & (df['sex'] == 1) & (df['target'] == 0)].sample(5)\n",
    "sample_maj_m_1 = df[(df['minority'] == 0) & (df['sex'] == 1) & (df['target'] == 1)].sample(5)"
   ],
   "metadata": {
    "collapsed": false
   }
  },
  {
   "cell_type": "code",
   "execution_count": 16,
   "outputs": [],
   "source": [
    "sample_min_f_0 = df[(df['minority'] == 1) & (df['sex'] == 0) & (df['target'] == 0)].sample(5)\n",
    "sample_min_f_1 = df[(df['minority'] == 1) & (df['sex'] == 0) & (df['target'] == 1)].sample(5)\n",
    "\n",
    "sample_min_m_0 = df[(df['minority'] == 1) & (df['sex'] == 1) & (df['target'] == 0)].sample(5)\n",
    "sample_min_m_1 = df[(df['minority'] == 1) & (df['sex'] == 1) & (df['target'] == 1)].sample(5)"
   ],
   "metadata": {
    "collapsed": false
   }
  },
  {
   "cell_type": "code",
   "execution_count": 17,
   "outputs": [
    {
     "data": {
      "text/plain": "        minority  sex  rent  education        age         income    loan_size  \\\n28393          0    0     0  42.299986  52.283851  167367.829790  9208.398391   \n68068          0    0     1  50.359221  56.028620  202739.306287  8493.185899   \n20962          0    0     0  40.886379  30.881067  140246.138239  2333.067890   \n100687         0    0     1  41.730957  47.033914  160700.444121  3901.595758   \n292373         0    0     0  52.181010  41.727289  194695.454738  6444.029621   \n\n        payment_timing  year  job_stability  zip0  zip1  zip2  zip3  \\\n28393         1.442961     3      86.416338     1     0     0     0   \n68068         3.933882     8      80.748107     1     0     0     0   \n20962         2.478423     2      76.708118     1     0     0     0   \n100687        2.582367    12      76.083281     1     0     0     0   \n292373        3.657337     6     107.621514     1     0     0     0   \n\n        occupation0  occupation1  occupation2  target  \n28393             1            0            0       0  \n68068             1            0            0       0  \n20962             1            0            0       0  \n100687            1            0            0       0  \n292373            1            0            0       0  ",
      "text/html": "<div>\n<style scoped>\n    .dataframe tbody tr th:only-of-type {\n        vertical-align: middle;\n    }\n\n    .dataframe tbody tr th {\n        vertical-align: top;\n    }\n\n    .dataframe thead th {\n        text-align: right;\n    }\n</style>\n<table border=\"1\" class=\"dataframe\">\n  <thead>\n    <tr style=\"text-align: right;\">\n      <th></th>\n      <th>minority</th>\n      <th>sex</th>\n      <th>rent</th>\n      <th>education</th>\n      <th>age</th>\n      <th>income</th>\n      <th>loan_size</th>\n      <th>payment_timing</th>\n      <th>year</th>\n      <th>job_stability</th>\n      <th>zip0</th>\n      <th>zip1</th>\n      <th>zip2</th>\n      <th>zip3</th>\n      <th>occupation0</th>\n      <th>occupation1</th>\n      <th>occupation2</th>\n      <th>target</th>\n    </tr>\n  </thead>\n  <tbody>\n    <tr>\n      <th>28393</th>\n      <td>0</td>\n      <td>0</td>\n      <td>0</td>\n      <td>42.299986</td>\n      <td>52.283851</td>\n      <td>167367.829790</td>\n      <td>9208.398391</td>\n      <td>1.442961</td>\n      <td>3</td>\n      <td>86.416338</td>\n      <td>1</td>\n      <td>0</td>\n      <td>0</td>\n      <td>0</td>\n      <td>1</td>\n      <td>0</td>\n      <td>0</td>\n      <td>0</td>\n    </tr>\n    <tr>\n      <th>68068</th>\n      <td>0</td>\n      <td>0</td>\n      <td>1</td>\n      <td>50.359221</td>\n      <td>56.028620</td>\n      <td>202739.306287</td>\n      <td>8493.185899</td>\n      <td>3.933882</td>\n      <td>8</td>\n      <td>80.748107</td>\n      <td>1</td>\n      <td>0</td>\n      <td>0</td>\n      <td>0</td>\n      <td>1</td>\n      <td>0</td>\n      <td>0</td>\n      <td>0</td>\n    </tr>\n    <tr>\n      <th>20962</th>\n      <td>0</td>\n      <td>0</td>\n      <td>0</td>\n      <td>40.886379</td>\n      <td>30.881067</td>\n      <td>140246.138239</td>\n      <td>2333.067890</td>\n      <td>2.478423</td>\n      <td>2</td>\n      <td>76.708118</td>\n      <td>1</td>\n      <td>0</td>\n      <td>0</td>\n      <td>0</td>\n      <td>1</td>\n      <td>0</td>\n      <td>0</td>\n      <td>0</td>\n    </tr>\n    <tr>\n      <th>100687</th>\n      <td>0</td>\n      <td>0</td>\n      <td>1</td>\n      <td>41.730957</td>\n      <td>47.033914</td>\n      <td>160700.444121</td>\n      <td>3901.595758</td>\n      <td>2.582367</td>\n      <td>12</td>\n      <td>76.083281</td>\n      <td>1</td>\n      <td>0</td>\n      <td>0</td>\n      <td>0</td>\n      <td>1</td>\n      <td>0</td>\n      <td>0</td>\n      <td>0</td>\n    </tr>\n    <tr>\n      <th>292373</th>\n      <td>0</td>\n      <td>0</td>\n      <td>0</td>\n      <td>52.181010</td>\n      <td>41.727289</td>\n      <td>194695.454738</td>\n      <td>6444.029621</td>\n      <td>3.657337</td>\n      <td>6</td>\n      <td>107.621514</td>\n      <td>1</td>\n      <td>0</td>\n      <td>0</td>\n      <td>0</td>\n      <td>1</td>\n      <td>0</td>\n      <td>0</td>\n      <td>0</td>\n    </tr>\n  </tbody>\n</table>\n</div>"
     },
     "execution_count": 17,
     "metadata": {},
     "output_type": "execute_result"
    }
   ],
   "source": [
    "sample_maj_f_0"
   ],
   "metadata": {
    "collapsed": false
   }
  },
  {
   "cell_type": "code",
   "execution_count": 18,
   "outputs": [
    {
     "data": {
      "text/plain": "        minority  sex  rent  education        age         income    loan_size  \\\n472801         0    0     1  48.505613  25.747328  157562.279810  6190.404042   \n48774          0    0     1  43.791026  27.529494  145178.547493  8587.529345   \n464251         0    0     1  53.464835  28.018410  178190.904843  1738.839580   \n234645         0    0     0  51.084601  51.790384  201641.365770  8836.416529   \n200257         0    0     1  54.342559  27.564819  180229.283954  6829.490631   \n\n        payment_timing  year  job_stability  zip0  zip1  zip2  zip3  \\\n472801        3.413200    29       1.053664     0     1     0     0   \n48774         3.821719     6       4.511657     0     1     0     0   \n464251        3.024336    28       6.361822     0     1     0     0   \n234645        3.935320    29       1.668401     0     0     0     1   \n200257        2.258698    25       2.134125     0     1     0     0   \n\n        occupation0  occupation1  occupation2  target  \n472801            1            0            0       1  \n48774             1            0            0       1  \n464251            1            0            0       1  \n234645            1            0            0       1  \n200257            1            0            0       1  ",
      "text/html": "<div>\n<style scoped>\n    .dataframe tbody tr th:only-of-type {\n        vertical-align: middle;\n    }\n\n    .dataframe tbody tr th {\n        vertical-align: top;\n    }\n\n    .dataframe thead th {\n        text-align: right;\n    }\n</style>\n<table border=\"1\" class=\"dataframe\">\n  <thead>\n    <tr style=\"text-align: right;\">\n      <th></th>\n      <th>minority</th>\n      <th>sex</th>\n      <th>rent</th>\n      <th>education</th>\n      <th>age</th>\n      <th>income</th>\n      <th>loan_size</th>\n      <th>payment_timing</th>\n      <th>year</th>\n      <th>job_stability</th>\n      <th>zip0</th>\n      <th>zip1</th>\n      <th>zip2</th>\n      <th>zip3</th>\n      <th>occupation0</th>\n      <th>occupation1</th>\n      <th>occupation2</th>\n      <th>target</th>\n    </tr>\n  </thead>\n  <tbody>\n    <tr>\n      <th>472801</th>\n      <td>0</td>\n      <td>0</td>\n      <td>1</td>\n      <td>48.505613</td>\n      <td>25.747328</td>\n      <td>157562.279810</td>\n      <td>6190.404042</td>\n      <td>3.413200</td>\n      <td>29</td>\n      <td>1.053664</td>\n      <td>0</td>\n      <td>1</td>\n      <td>0</td>\n      <td>0</td>\n      <td>1</td>\n      <td>0</td>\n      <td>0</td>\n      <td>1</td>\n    </tr>\n    <tr>\n      <th>48774</th>\n      <td>0</td>\n      <td>0</td>\n      <td>1</td>\n      <td>43.791026</td>\n      <td>27.529494</td>\n      <td>145178.547493</td>\n      <td>8587.529345</td>\n      <td>3.821719</td>\n      <td>6</td>\n      <td>4.511657</td>\n      <td>0</td>\n      <td>1</td>\n      <td>0</td>\n      <td>0</td>\n      <td>1</td>\n      <td>0</td>\n      <td>0</td>\n      <td>1</td>\n    </tr>\n    <tr>\n      <th>464251</th>\n      <td>0</td>\n      <td>0</td>\n      <td>1</td>\n      <td>53.464835</td>\n      <td>28.018410</td>\n      <td>178190.904843</td>\n      <td>1738.839580</td>\n      <td>3.024336</td>\n      <td>28</td>\n      <td>6.361822</td>\n      <td>0</td>\n      <td>1</td>\n      <td>0</td>\n      <td>0</td>\n      <td>1</td>\n      <td>0</td>\n      <td>0</td>\n      <td>1</td>\n    </tr>\n    <tr>\n      <th>234645</th>\n      <td>0</td>\n      <td>0</td>\n      <td>0</td>\n      <td>51.084601</td>\n      <td>51.790384</td>\n      <td>201641.365770</td>\n      <td>8836.416529</td>\n      <td>3.935320</td>\n      <td>29</td>\n      <td>1.668401</td>\n      <td>0</td>\n      <td>0</td>\n      <td>0</td>\n      <td>1</td>\n      <td>1</td>\n      <td>0</td>\n      <td>0</td>\n      <td>1</td>\n    </tr>\n    <tr>\n      <th>200257</th>\n      <td>0</td>\n      <td>0</td>\n      <td>1</td>\n      <td>54.342559</td>\n      <td>27.564819</td>\n      <td>180229.283954</td>\n      <td>6829.490631</td>\n      <td>2.258698</td>\n      <td>25</td>\n      <td>2.134125</td>\n      <td>0</td>\n      <td>1</td>\n      <td>0</td>\n      <td>0</td>\n      <td>1</td>\n      <td>0</td>\n      <td>0</td>\n      <td>1</td>\n    </tr>\n  </tbody>\n</table>\n</div>"
     },
     "execution_count": 18,
     "metadata": {},
     "output_type": "execute_result"
    }
   ],
   "source": [
    "sample_maj_f_1"
   ],
   "metadata": {
    "collapsed": false
   }
  },
  {
   "cell_type": "code",
   "execution_count": 19,
   "outputs": [
    {
     "data": {
      "text/plain": "        minority  sex  rent  education        age        income    loan_size  \\\n215591         0    1     0   2.755931  58.859256  11230.830665  4809.192623   \n253174         0    1     0   0.615839  67.237939   2591.595616  9650.738699   \n31963          0    1     0   1.607269  40.469615   5947.780002  1690.505567   \n279803         0    1     0   8.743682  61.519555  36018.329250  9475.663946   \n271734         0    1     0   0.074870  35.932701    268.158643  3835.974503   \n\n        payment_timing  year  job_stability  zip0  zip1  zip2  zip3  \\\n215591        3.001818    26     104.649787     0     0     1     0   \n253174        3.793529     1      90.843871     1     0     0     0   \n31963         2.988614     3      89.117604     0     0     1     0   \n279803        3.754400     4     103.320269     0     0     1     0   \n271734        3.897916     3      93.209395     0     0     1     0   \n\n        occupation0  occupation1  occupation2  target  \n215591            1            0            0       0  \n253174            1            0            0       0  \n31963             1            0            0       0  \n279803            1            0            0       0  \n271734            1            0            0       0  ",
      "text/html": "<div>\n<style scoped>\n    .dataframe tbody tr th:only-of-type {\n        vertical-align: middle;\n    }\n\n    .dataframe tbody tr th {\n        vertical-align: top;\n    }\n\n    .dataframe thead th {\n        text-align: right;\n    }\n</style>\n<table border=\"1\" class=\"dataframe\">\n  <thead>\n    <tr style=\"text-align: right;\">\n      <th></th>\n      <th>minority</th>\n      <th>sex</th>\n      <th>rent</th>\n      <th>education</th>\n      <th>age</th>\n      <th>income</th>\n      <th>loan_size</th>\n      <th>payment_timing</th>\n      <th>year</th>\n      <th>job_stability</th>\n      <th>zip0</th>\n      <th>zip1</th>\n      <th>zip2</th>\n      <th>zip3</th>\n      <th>occupation0</th>\n      <th>occupation1</th>\n      <th>occupation2</th>\n      <th>target</th>\n    </tr>\n  </thead>\n  <tbody>\n    <tr>\n      <th>215591</th>\n      <td>0</td>\n      <td>1</td>\n      <td>0</td>\n      <td>2.755931</td>\n      <td>58.859256</td>\n      <td>11230.830665</td>\n      <td>4809.192623</td>\n      <td>3.001818</td>\n      <td>26</td>\n      <td>104.649787</td>\n      <td>0</td>\n      <td>0</td>\n      <td>1</td>\n      <td>0</td>\n      <td>1</td>\n      <td>0</td>\n      <td>0</td>\n      <td>0</td>\n    </tr>\n    <tr>\n      <th>253174</th>\n      <td>0</td>\n      <td>1</td>\n      <td>0</td>\n      <td>0.615839</td>\n      <td>67.237939</td>\n      <td>2591.595616</td>\n      <td>9650.738699</td>\n      <td>3.793529</td>\n      <td>1</td>\n      <td>90.843871</td>\n      <td>1</td>\n      <td>0</td>\n      <td>0</td>\n      <td>0</td>\n      <td>1</td>\n      <td>0</td>\n      <td>0</td>\n      <td>0</td>\n    </tr>\n    <tr>\n      <th>31963</th>\n      <td>0</td>\n      <td>1</td>\n      <td>0</td>\n      <td>1.607269</td>\n      <td>40.469615</td>\n      <td>5947.780002</td>\n      <td>1690.505567</td>\n      <td>2.988614</td>\n      <td>3</td>\n      <td>89.117604</td>\n      <td>0</td>\n      <td>0</td>\n      <td>1</td>\n      <td>0</td>\n      <td>1</td>\n      <td>0</td>\n      <td>0</td>\n      <td>0</td>\n    </tr>\n    <tr>\n      <th>279803</th>\n      <td>0</td>\n      <td>1</td>\n      <td>0</td>\n      <td>8.743682</td>\n      <td>61.519555</td>\n      <td>36018.329250</td>\n      <td>9475.663946</td>\n      <td>3.754400</td>\n      <td>4</td>\n      <td>103.320269</td>\n      <td>0</td>\n      <td>0</td>\n      <td>1</td>\n      <td>0</td>\n      <td>1</td>\n      <td>0</td>\n      <td>0</td>\n      <td>0</td>\n    </tr>\n    <tr>\n      <th>271734</th>\n      <td>0</td>\n      <td>1</td>\n      <td>0</td>\n      <td>0.074870</td>\n      <td>35.932701</td>\n      <td>268.158643</td>\n      <td>3835.974503</td>\n      <td>3.897916</td>\n      <td>3</td>\n      <td>93.209395</td>\n      <td>0</td>\n      <td>0</td>\n      <td>1</td>\n      <td>0</td>\n      <td>1</td>\n      <td>0</td>\n      <td>0</td>\n      <td>0</td>\n    </tr>\n  </tbody>\n</table>\n</div>"
     },
     "execution_count": 19,
     "metadata": {},
     "output_type": "execute_result"
    }
   ],
   "source": [
    "sample_maj_m_0"
   ],
   "metadata": {
    "collapsed": false
   }
  },
  {
   "cell_type": "code",
   "execution_count": 20,
   "outputs": [
    {
     "data": {
      "text/plain": "        minority  sex  rent  education        age        income    loan_size  \\\n145036         0    1     0   0.519663  28.350003   1738.078993  3149.826800   \n467980         0    1     1   0.799193  40.321132   2954.517325   660.624678   \n217650         0    1     1   3.074016  40.621922  11387.100007  4867.484960   \n219556         0    1     1   2.398939  63.065428   9941.616520  7304.183924   \n465876         0    1     1   0.547739  63.416518   2272.965094  9234.943165   \n\n        payment_timing  year  job_stability  zip0  zip1  zip2  zip3  \\\n145036        2.668147    18       1.495414     0     1     0     0   \n467980        3.046627    28       2.548144     0     0     0     1   \n217650        0.665688    27       1.440837     0     1     0     0   \n219556        1.532043    27       1.505504     0     0     0     1   \n465876        3.413723    28       0.475632     0     1     0     0   \n\n        occupation0  occupation1  occupation2  target  \n145036            1            0            0       1  \n467980            1            0            0       1  \n217650            1            0            0       1  \n219556            1            0            0       1  \n465876            1            0            0       1  ",
      "text/html": "<div>\n<style scoped>\n    .dataframe tbody tr th:only-of-type {\n        vertical-align: middle;\n    }\n\n    .dataframe tbody tr th {\n        vertical-align: top;\n    }\n\n    .dataframe thead th {\n        text-align: right;\n    }\n</style>\n<table border=\"1\" class=\"dataframe\">\n  <thead>\n    <tr style=\"text-align: right;\">\n      <th></th>\n      <th>minority</th>\n      <th>sex</th>\n      <th>rent</th>\n      <th>education</th>\n      <th>age</th>\n      <th>income</th>\n      <th>loan_size</th>\n      <th>payment_timing</th>\n      <th>year</th>\n      <th>job_stability</th>\n      <th>zip0</th>\n      <th>zip1</th>\n      <th>zip2</th>\n      <th>zip3</th>\n      <th>occupation0</th>\n      <th>occupation1</th>\n      <th>occupation2</th>\n      <th>target</th>\n    </tr>\n  </thead>\n  <tbody>\n    <tr>\n      <th>145036</th>\n      <td>0</td>\n      <td>1</td>\n      <td>0</td>\n      <td>0.519663</td>\n      <td>28.350003</td>\n      <td>1738.078993</td>\n      <td>3149.826800</td>\n      <td>2.668147</td>\n      <td>18</td>\n      <td>1.495414</td>\n      <td>0</td>\n      <td>1</td>\n      <td>0</td>\n      <td>0</td>\n      <td>1</td>\n      <td>0</td>\n      <td>0</td>\n      <td>1</td>\n    </tr>\n    <tr>\n      <th>467980</th>\n      <td>0</td>\n      <td>1</td>\n      <td>1</td>\n      <td>0.799193</td>\n      <td>40.321132</td>\n      <td>2954.517325</td>\n      <td>660.624678</td>\n      <td>3.046627</td>\n      <td>28</td>\n      <td>2.548144</td>\n      <td>0</td>\n      <td>0</td>\n      <td>0</td>\n      <td>1</td>\n      <td>1</td>\n      <td>0</td>\n      <td>0</td>\n      <td>1</td>\n    </tr>\n    <tr>\n      <th>217650</th>\n      <td>0</td>\n      <td>1</td>\n      <td>1</td>\n      <td>3.074016</td>\n      <td>40.621922</td>\n      <td>11387.100007</td>\n      <td>4867.484960</td>\n      <td>0.665688</td>\n      <td>27</td>\n      <td>1.440837</td>\n      <td>0</td>\n      <td>1</td>\n      <td>0</td>\n      <td>0</td>\n      <td>1</td>\n      <td>0</td>\n      <td>0</td>\n      <td>1</td>\n    </tr>\n    <tr>\n      <th>219556</th>\n      <td>0</td>\n      <td>1</td>\n      <td>1</td>\n      <td>2.398939</td>\n      <td>63.065428</td>\n      <td>9941.616520</td>\n      <td>7304.183924</td>\n      <td>1.532043</td>\n      <td>27</td>\n      <td>1.505504</td>\n      <td>0</td>\n      <td>0</td>\n      <td>0</td>\n      <td>1</td>\n      <td>1</td>\n      <td>0</td>\n      <td>0</td>\n      <td>1</td>\n    </tr>\n    <tr>\n      <th>465876</th>\n      <td>0</td>\n      <td>1</td>\n      <td>1</td>\n      <td>0.547739</td>\n      <td>63.416518</td>\n      <td>2272.965094</td>\n      <td>9234.943165</td>\n      <td>3.413723</td>\n      <td>28</td>\n      <td>0.475632</td>\n      <td>0</td>\n      <td>1</td>\n      <td>0</td>\n      <td>0</td>\n      <td>1</td>\n      <td>0</td>\n      <td>0</td>\n      <td>1</td>\n    </tr>\n  </tbody>\n</table>\n</div>"
     },
     "execution_count": 20,
     "metadata": {},
     "output_type": "execute_result"
    }
   ],
   "source": [
    "sample_maj_m_1"
   ],
   "metadata": {
    "collapsed": false
   }
  },
  {
   "cell_type": "code",
   "execution_count": 21,
   "outputs": [
    {
     "data": {
      "text/plain": "        minority  sex  rent  education        age         income    loan_size  \\\n140871         1    0     0  47.402936  64.912540  197814.386873  7541.309338   \n102584         1    0     0  55.108314  62.075155  227506.176724  2346.741069   \n220752         1    0     0  38.219152  66.925622  160657.334965  9836.152627   \n220512         1    0     0  49.925626  48.369448  193654.933268  1315.362942   \n156293         1    0     0  55.189351  18.498826  161026.370849  3124.182338   \n\n        payment_timing  year  job_stability  zip0  zip1  zip2  zip3  \\\n140871        2.973735    17      87.397642     1     0     0     0   \n102584        3.666627    12     117.563421     0     0     1     0   \n220752        2.220443    27      92.628454     1     0     0     0   \n220512        3.250089    27      93.213868     1     0     0     0   \n156293        2.728545    19      75.039978     1     0     0     0   \n\n        occupation0  occupation1  occupation2  target  \n140871            0            1            0       0  \n102584            0            1            0       0  \n220752            0            1            0       0  \n220512            0            1            0       0  \n156293            0            1            0       0  ",
      "text/html": "<div>\n<style scoped>\n    .dataframe tbody tr th:only-of-type {\n        vertical-align: middle;\n    }\n\n    .dataframe tbody tr th {\n        vertical-align: top;\n    }\n\n    .dataframe thead th {\n        text-align: right;\n    }\n</style>\n<table border=\"1\" class=\"dataframe\">\n  <thead>\n    <tr style=\"text-align: right;\">\n      <th></th>\n      <th>minority</th>\n      <th>sex</th>\n      <th>rent</th>\n      <th>education</th>\n      <th>age</th>\n      <th>income</th>\n      <th>loan_size</th>\n      <th>payment_timing</th>\n      <th>year</th>\n      <th>job_stability</th>\n      <th>zip0</th>\n      <th>zip1</th>\n      <th>zip2</th>\n      <th>zip3</th>\n      <th>occupation0</th>\n      <th>occupation1</th>\n      <th>occupation2</th>\n      <th>target</th>\n    </tr>\n  </thead>\n  <tbody>\n    <tr>\n      <th>140871</th>\n      <td>1</td>\n      <td>0</td>\n      <td>0</td>\n      <td>47.402936</td>\n      <td>64.912540</td>\n      <td>197814.386873</td>\n      <td>7541.309338</td>\n      <td>2.973735</td>\n      <td>17</td>\n      <td>87.397642</td>\n      <td>1</td>\n      <td>0</td>\n      <td>0</td>\n      <td>0</td>\n      <td>0</td>\n      <td>1</td>\n      <td>0</td>\n      <td>0</td>\n    </tr>\n    <tr>\n      <th>102584</th>\n      <td>1</td>\n      <td>0</td>\n      <td>0</td>\n      <td>55.108314</td>\n      <td>62.075155</td>\n      <td>227506.176724</td>\n      <td>2346.741069</td>\n      <td>3.666627</td>\n      <td>12</td>\n      <td>117.563421</td>\n      <td>0</td>\n      <td>0</td>\n      <td>1</td>\n      <td>0</td>\n      <td>0</td>\n      <td>1</td>\n      <td>0</td>\n      <td>0</td>\n    </tr>\n    <tr>\n      <th>220752</th>\n      <td>1</td>\n      <td>0</td>\n      <td>0</td>\n      <td>38.219152</td>\n      <td>66.925622</td>\n      <td>160657.334965</td>\n      <td>9836.152627</td>\n      <td>2.220443</td>\n      <td>27</td>\n      <td>92.628454</td>\n      <td>1</td>\n      <td>0</td>\n      <td>0</td>\n      <td>0</td>\n      <td>0</td>\n      <td>1</td>\n      <td>0</td>\n      <td>0</td>\n    </tr>\n    <tr>\n      <th>220512</th>\n      <td>1</td>\n      <td>0</td>\n      <td>0</td>\n      <td>49.925626</td>\n      <td>48.369448</td>\n      <td>193654.933268</td>\n      <td>1315.362942</td>\n      <td>3.250089</td>\n      <td>27</td>\n      <td>93.213868</td>\n      <td>1</td>\n      <td>0</td>\n      <td>0</td>\n      <td>0</td>\n      <td>0</td>\n      <td>1</td>\n      <td>0</td>\n      <td>0</td>\n    </tr>\n    <tr>\n      <th>156293</th>\n      <td>1</td>\n      <td>0</td>\n      <td>0</td>\n      <td>55.189351</td>\n      <td>18.498826</td>\n      <td>161026.370849</td>\n      <td>3124.182338</td>\n      <td>2.728545</td>\n      <td>19</td>\n      <td>75.039978</td>\n      <td>1</td>\n      <td>0</td>\n      <td>0</td>\n      <td>0</td>\n      <td>0</td>\n      <td>1</td>\n      <td>0</td>\n      <td>0</td>\n    </tr>\n  </tbody>\n</table>\n</div>"
     },
     "execution_count": 21,
     "metadata": {},
     "output_type": "execute_result"
    }
   ],
   "source": [
    "sample_min_f_0"
   ],
   "metadata": {
    "collapsed": false
   }
  },
  {
   "cell_type": "code",
   "execution_count": 22,
   "outputs": [
    {
     "data": {
      "text/plain": "        minority  sex  rent  education        age         income    loan_size  \\\n314537         1    0     1  43.278486  47.644561  167218.048451  2081.247131   \n32937          1    0     1  43.616598  67.657411  183820.272088  4809.495556   \n256132         1    0     1  60.955692  55.811337  245162.392901  1805.086999   \n296150         1    0     1  57.736941  28.497897  193408.955306  4704.647924   \n208805         1    0     1  60.045127  41.098575  223126.098782  6540.299899   \n\n        payment_timing  year  job_stability  zip0  zip1  zip2  zip3  \\\n314537        2.070332     9       0.020067     0     0     0     1   \n32937         3.786963     4       1.256276     0     1     0     0   \n256132        3.844759     2       1.375355     0     1     0     0   \n296150        3.567199     7       1.759348     0     1     0     0   \n208805        3.417166    26       0.837293     0     1     0     0   \n\n        occupation0  occupation1  occupation2  target  \n314537            0            1            0       1  \n32937             0            1            0       1  \n256132            0            1            0       1  \n296150            0            1            0       1  \n208805            0            1            0       1  ",
      "text/html": "<div>\n<style scoped>\n    .dataframe tbody tr th:only-of-type {\n        vertical-align: middle;\n    }\n\n    .dataframe tbody tr th {\n        vertical-align: top;\n    }\n\n    .dataframe thead th {\n        text-align: right;\n    }\n</style>\n<table border=\"1\" class=\"dataframe\">\n  <thead>\n    <tr style=\"text-align: right;\">\n      <th></th>\n      <th>minority</th>\n      <th>sex</th>\n      <th>rent</th>\n      <th>education</th>\n      <th>age</th>\n      <th>income</th>\n      <th>loan_size</th>\n      <th>payment_timing</th>\n      <th>year</th>\n      <th>job_stability</th>\n      <th>zip0</th>\n      <th>zip1</th>\n      <th>zip2</th>\n      <th>zip3</th>\n      <th>occupation0</th>\n      <th>occupation1</th>\n      <th>occupation2</th>\n      <th>target</th>\n    </tr>\n  </thead>\n  <tbody>\n    <tr>\n      <th>314537</th>\n      <td>1</td>\n      <td>0</td>\n      <td>1</td>\n      <td>43.278486</td>\n      <td>47.644561</td>\n      <td>167218.048451</td>\n      <td>2081.247131</td>\n      <td>2.070332</td>\n      <td>9</td>\n      <td>0.020067</td>\n      <td>0</td>\n      <td>0</td>\n      <td>0</td>\n      <td>1</td>\n      <td>0</td>\n      <td>1</td>\n      <td>0</td>\n      <td>1</td>\n    </tr>\n    <tr>\n      <th>32937</th>\n      <td>1</td>\n      <td>0</td>\n      <td>1</td>\n      <td>43.616598</td>\n      <td>67.657411</td>\n      <td>183820.272088</td>\n      <td>4809.495556</td>\n      <td>3.786963</td>\n      <td>4</td>\n      <td>1.256276</td>\n      <td>0</td>\n      <td>1</td>\n      <td>0</td>\n      <td>0</td>\n      <td>0</td>\n      <td>1</td>\n      <td>0</td>\n      <td>1</td>\n    </tr>\n    <tr>\n      <th>256132</th>\n      <td>1</td>\n      <td>0</td>\n      <td>1</td>\n      <td>60.955692</td>\n      <td>55.811337</td>\n      <td>245162.392901</td>\n      <td>1805.086999</td>\n      <td>3.844759</td>\n      <td>2</td>\n      <td>1.375355</td>\n      <td>0</td>\n      <td>1</td>\n      <td>0</td>\n      <td>0</td>\n      <td>0</td>\n      <td>1</td>\n      <td>0</td>\n      <td>1</td>\n    </tr>\n    <tr>\n      <th>296150</th>\n      <td>1</td>\n      <td>0</td>\n      <td>1</td>\n      <td>57.736941</td>\n      <td>28.497897</td>\n      <td>193408.955306</td>\n      <td>4704.647924</td>\n      <td>3.567199</td>\n      <td>7</td>\n      <td>1.759348</td>\n      <td>0</td>\n      <td>1</td>\n      <td>0</td>\n      <td>0</td>\n      <td>0</td>\n      <td>1</td>\n      <td>0</td>\n      <td>1</td>\n    </tr>\n    <tr>\n      <th>208805</th>\n      <td>1</td>\n      <td>0</td>\n      <td>1</td>\n      <td>60.045127</td>\n      <td>41.098575</td>\n      <td>223126.098782</td>\n      <td>6540.299899</td>\n      <td>3.417166</td>\n      <td>26</td>\n      <td>0.837293</td>\n      <td>0</td>\n      <td>1</td>\n      <td>0</td>\n      <td>0</td>\n      <td>0</td>\n      <td>1</td>\n      <td>0</td>\n      <td>1</td>\n    </tr>\n  </tbody>\n</table>\n</div>"
     },
     "execution_count": 22,
     "metadata": {},
     "output_type": "execute_result"
    }
   ],
   "source": [
    "sample_min_f_1"
   ],
   "metadata": {
    "collapsed": false
   }
  },
  {
   "cell_type": "code",
   "execution_count": 23,
   "outputs": [
    {
     "data": {
      "text/plain": "        minority  sex  rent  education        age       income    loan_size  \\\n21114          1    1     0   0.463693  38.967019  1698.375755  4442.607378   \n229708         1    1     0   2.273128  29.384498  7684.233428  3185.640491   \n1873           1    1     1   0.036685  67.924707   154.751529  9760.913489   \n19484          1    1     0   0.025215  19.204906    74.514625  8197.988748   \n99600          1    1     1   0.057553  52.590773   228.056678  9807.149306   \n\n        payment_timing  year  job_stability  zip0  zip1  zip2  zip3  \\\n21114         2.976688     2      82.587566     1     0     0     0   \n229708        3.204615    28      80.705474     1     0     0     0   \n1873          3.974226     0       1.468664     0     1     0     0   \n19484         3.801730     2       0.368245     0     0     0     1   \n99600        -0.186905    12       5.797323     0     0     0     1   \n\n        occupation0  occupation1  occupation2  target  \n21114             0            0            1       0  \n229708            0            0            1       0  \n1873              0            0            1       0  \n19484             0            0            1       0  \n99600             0            0            1       0  ",
      "text/html": "<div>\n<style scoped>\n    .dataframe tbody tr th:only-of-type {\n        vertical-align: middle;\n    }\n\n    .dataframe tbody tr th {\n        vertical-align: top;\n    }\n\n    .dataframe thead th {\n        text-align: right;\n    }\n</style>\n<table border=\"1\" class=\"dataframe\">\n  <thead>\n    <tr style=\"text-align: right;\">\n      <th></th>\n      <th>minority</th>\n      <th>sex</th>\n      <th>rent</th>\n      <th>education</th>\n      <th>age</th>\n      <th>income</th>\n      <th>loan_size</th>\n      <th>payment_timing</th>\n      <th>year</th>\n      <th>job_stability</th>\n      <th>zip0</th>\n      <th>zip1</th>\n      <th>zip2</th>\n      <th>zip3</th>\n      <th>occupation0</th>\n      <th>occupation1</th>\n      <th>occupation2</th>\n      <th>target</th>\n    </tr>\n  </thead>\n  <tbody>\n    <tr>\n      <th>21114</th>\n      <td>1</td>\n      <td>1</td>\n      <td>0</td>\n      <td>0.463693</td>\n      <td>38.967019</td>\n      <td>1698.375755</td>\n      <td>4442.607378</td>\n      <td>2.976688</td>\n      <td>2</td>\n      <td>82.587566</td>\n      <td>1</td>\n      <td>0</td>\n      <td>0</td>\n      <td>0</td>\n      <td>0</td>\n      <td>0</td>\n      <td>1</td>\n      <td>0</td>\n    </tr>\n    <tr>\n      <th>229708</th>\n      <td>1</td>\n      <td>1</td>\n      <td>0</td>\n      <td>2.273128</td>\n      <td>29.384498</td>\n      <td>7684.233428</td>\n      <td>3185.640491</td>\n      <td>3.204615</td>\n      <td>28</td>\n      <td>80.705474</td>\n      <td>1</td>\n      <td>0</td>\n      <td>0</td>\n      <td>0</td>\n      <td>0</td>\n      <td>0</td>\n      <td>1</td>\n      <td>0</td>\n    </tr>\n    <tr>\n      <th>1873</th>\n      <td>1</td>\n      <td>1</td>\n      <td>1</td>\n      <td>0.036685</td>\n      <td>67.924707</td>\n      <td>154.751529</td>\n      <td>9760.913489</td>\n      <td>3.974226</td>\n      <td>0</td>\n      <td>1.468664</td>\n      <td>0</td>\n      <td>1</td>\n      <td>0</td>\n      <td>0</td>\n      <td>0</td>\n      <td>0</td>\n      <td>1</td>\n      <td>0</td>\n    </tr>\n    <tr>\n      <th>19484</th>\n      <td>1</td>\n      <td>1</td>\n      <td>0</td>\n      <td>0.025215</td>\n      <td>19.204906</td>\n      <td>74.514625</td>\n      <td>8197.988748</td>\n      <td>3.801730</td>\n      <td>2</td>\n      <td>0.368245</td>\n      <td>0</td>\n      <td>0</td>\n      <td>0</td>\n      <td>1</td>\n      <td>0</td>\n      <td>0</td>\n      <td>1</td>\n      <td>0</td>\n    </tr>\n    <tr>\n      <th>99600</th>\n      <td>1</td>\n      <td>1</td>\n      <td>1</td>\n      <td>0.057553</td>\n      <td>52.590773</td>\n      <td>228.056678</td>\n      <td>9807.149306</td>\n      <td>-0.186905</td>\n      <td>12</td>\n      <td>5.797323</td>\n      <td>0</td>\n      <td>0</td>\n      <td>0</td>\n      <td>1</td>\n      <td>0</td>\n      <td>0</td>\n      <td>1</td>\n      <td>0</td>\n    </tr>\n  </tbody>\n</table>\n</div>"
     },
     "execution_count": 23,
     "metadata": {},
     "output_type": "execute_result"
    }
   ],
   "source": [
    "sample_min_m_0"
   ],
   "metadata": {
    "collapsed": false
   }
  },
  {
   "cell_type": "code",
   "execution_count": 24,
   "outputs": [
    {
     "data": {
      "text/plain": "        minority  sex  rent  education        age        income    loan_size  \\\n299140         1    1     1   1.421009  33.787088   5002.061986  3177.524840   \n363805         1    1     1   1.742291  53.214248   6924.433167  3568.635372   \n395278         1    1     1   5.432245  22.716976  16965.511376  7231.392295   \n345128         1    1     1   1.534119  55.593355   6164.186377  1445.072650   \n473518         1    1     0   0.456753  22.296025   1417.948816  8904.769913   \n\n        payment_timing  year  job_stability  zip0  zip1  zip2  zip3  \\\n299140        3.147332     7       0.674440     0     0     0     1   \n363805        3.530484    15       1.912212     0     0     0     1   \n395278        3.858256    19       1.958986     0     0     0     1   \n345128        3.877951    13       3.478078     0     1     0     0   \n473518        3.036858    29       2.088447     0     1     0     0   \n\n        occupation0  occupation1  occupation2  target  \n299140            0            0            1       1  \n363805            0            0            1       1  \n395278            0            0            1       1  \n345128            0            0            1       1  \n473518            0            0            1       1  ",
      "text/html": "<div>\n<style scoped>\n    .dataframe tbody tr th:only-of-type {\n        vertical-align: middle;\n    }\n\n    .dataframe tbody tr th {\n        vertical-align: top;\n    }\n\n    .dataframe thead th {\n        text-align: right;\n    }\n</style>\n<table border=\"1\" class=\"dataframe\">\n  <thead>\n    <tr style=\"text-align: right;\">\n      <th></th>\n      <th>minority</th>\n      <th>sex</th>\n      <th>rent</th>\n      <th>education</th>\n      <th>age</th>\n      <th>income</th>\n      <th>loan_size</th>\n      <th>payment_timing</th>\n      <th>year</th>\n      <th>job_stability</th>\n      <th>zip0</th>\n      <th>zip1</th>\n      <th>zip2</th>\n      <th>zip3</th>\n      <th>occupation0</th>\n      <th>occupation1</th>\n      <th>occupation2</th>\n      <th>target</th>\n    </tr>\n  </thead>\n  <tbody>\n    <tr>\n      <th>299140</th>\n      <td>1</td>\n      <td>1</td>\n      <td>1</td>\n      <td>1.421009</td>\n      <td>33.787088</td>\n      <td>5002.061986</td>\n      <td>3177.524840</td>\n      <td>3.147332</td>\n      <td>7</td>\n      <td>0.674440</td>\n      <td>0</td>\n      <td>0</td>\n      <td>0</td>\n      <td>1</td>\n      <td>0</td>\n      <td>0</td>\n      <td>1</td>\n      <td>1</td>\n    </tr>\n    <tr>\n      <th>363805</th>\n      <td>1</td>\n      <td>1</td>\n      <td>1</td>\n      <td>1.742291</td>\n      <td>53.214248</td>\n      <td>6924.433167</td>\n      <td>3568.635372</td>\n      <td>3.530484</td>\n      <td>15</td>\n      <td>1.912212</td>\n      <td>0</td>\n      <td>0</td>\n      <td>0</td>\n      <td>1</td>\n      <td>0</td>\n      <td>0</td>\n      <td>1</td>\n      <td>1</td>\n    </tr>\n    <tr>\n      <th>395278</th>\n      <td>1</td>\n      <td>1</td>\n      <td>1</td>\n      <td>5.432245</td>\n      <td>22.716976</td>\n      <td>16965.511376</td>\n      <td>7231.392295</td>\n      <td>3.858256</td>\n      <td>19</td>\n      <td>1.958986</td>\n      <td>0</td>\n      <td>0</td>\n      <td>0</td>\n      <td>1</td>\n      <td>0</td>\n      <td>0</td>\n      <td>1</td>\n      <td>1</td>\n    </tr>\n    <tr>\n      <th>345128</th>\n      <td>1</td>\n      <td>1</td>\n      <td>1</td>\n      <td>1.534119</td>\n      <td>55.593355</td>\n      <td>6164.186377</td>\n      <td>1445.072650</td>\n      <td>3.877951</td>\n      <td>13</td>\n      <td>3.478078</td>\n      <td>0</td>\n      <td>1</td>\n      <td>0</td>\n      <td>0</td>\n      <td>0</td>\n      <td>0</td>\n      <td>1</td>\n      <td>1</td>\n    </tr>\n    <tr>\n      <th>473518</th>\n      <td>1</td>\n      <td>1</td>\n      <td>0</td>\n      <td>0.456753</td>\n      <td>22.296025</td>\n      <td>1417.948816</td>\n      <td>8904.769913</td>\n      <td>3.036858</td>\n      <td>29</td>\n      <td>2.088447</td>\n      <td>0</td>\n      <td>1</td>\n      <td>0</td>\n      <td>0</td>\n      <td>0</td>\n      <td>0</td>\n      <td>1</td>\n      <td>1</td>\n    </tr>\n  </tbody>\n</table>\n</div>"
     },
     "execution_count": 24,
     "metadata": {},
     "output_type": "execute_result"
    }
   ],
   "source": [
    "sample_min_m_1"
   ],
   "metadata": {
    "collapsed": false
   }
  }
 ],
 "metadata": {
  "kernelspec": {
   "display_name": "Python 3",
   "language": "python",
   "name": "python3"
  },
  "language_info": {
   "codemirror_mode": {
    "name": "ipython",
    "version": 2
   },
   "file_extension": ".py",
   "mimetype": "text/x-python",
   "name": "python",
   "nbconvert_exporter": "python",
   "pygments_lexer": "ipython2",
   "version": "2.7.6"
  }
 },
 "nbformat": 4,
 "nbformat_minor": 0
}
