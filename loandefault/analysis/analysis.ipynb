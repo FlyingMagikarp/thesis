{
 "cells": [
  {
   "cell_type": "markdown",
   "source": [
    "# Loandefault analysis"
   ],
   "metadata": {
    "collapsed": false,
    "pycharm": {
     "name": "#%% md\n"
    }
   },
   "execution_count": 1
  },
  {
   "cell_type": "code",
   "execution_count": 89,
   "outputs": [],
   "source": [
    "import pandas as pd\n",
    "import numpy as np\n",
    "import matplotlib.pyplot as plt\n",
    "%matplotlib notebook"
   ],
   "metadata": {
    "collapsed": false,
    "pycharm": {
     "name": "#%%\n"
    }
   }
  },
  {
   "cell_type": "code",
   "execution_count": 90,
   "outputs": [
    {
     "data": {
      "text/plain": "   Unnamed: 0  minority  sex     ZIP  rent  education        age  \\\n0           0         1    0  MT04PA     1  57.230650  36.050927   \n1           1         1    0  MT04PA     1  45.891343  59.525251   \n2           2         1    0  MT04PA     1  46.775489  67.338108   \n3           3         1    0  MT04PA     1  41.784839  24.067401   \n4           4         1    0  MT04PA     1  41.744838  47.496605   \n\n          income    loan_size  payment_timing  year  job_stability  default  \\\n0  205168.022244  7600.292199        3.302193     0       3.015554     True   \n1  187530.409981  5534.271289        3.843058     0       5.938132     True   \n2  196912.006690  2009.903438        2.059034     0       2.190777     True   \n3  132911.650615  3112.280893        3.936169     0       1.725860     True   \n4  161162.551205  1372.077093        3.709910     0       0.883104     True   \n\n  occupation  \n0     MZ10CD  \n1     MZ10CD  \n2     MZ10CD  \n3     MZ10CD  \n4     MZ10CD  ",
      "text/html": "<div>\n<style scoped>\n    .dataframe tbody tr th:only-of-type {\n        vertical-align: middle;\n    }\n\n    .dataframe tbody tr th {\n        vertical-align: top;\n    }\n\n    .dataframe thead th {\n        text-align: right;\n    }\n</style>\n<table border=\"1\" class=\"dataframe\">\n  <thead>\n    <tr style=\"text-align: right;\">\n      <th></th>\n      <th>Unnamed: 0</th>\n      <th>minority</th>\n      <th>sex</th>\n      <th>ZIP</th>\n      <th>rent</th>\n      <th>education</th>\n      <th>age</th>\n      <th>income</th>\n      <th>loan_size</th>\n      <th>payment_timing</th>\n      <th>year</th>\n      <th>job_stability</th>\n      <th>default</th>\n      <th>occupation</th>\n    </tr>\n  </thead>\n  <tbody>\n    <tr>\n      <th>0</th>\n      <td>0</td>\n      <td>1</td>\n      <td>0</td>\n      <td>MT04PA</td>\n      <td>1</td>\n      <td>57.230650</td>\n      <td>36.050927</td>\n      <td>205168.022244</td>\n      <td>7600.292199</td>\n      <td>3.302193</td>\n      <td>0</td>\n      <td>3.015554</td>\n      <td>True</td>\n      <td>MZ10CD</td>\n    </tr>\n    <tr>\n      <th>1</th>\n      <td>1</td>\n      <td>1</td>\n      <td>0</td>\n      <td>MT04PA</td>\n      <td>1</td>\n      <td>45.891343</td>\n      <td>59.525251</td>\n      <td>187530.409981</td>\n      <td>5534.271289</td>\n      <td>3.843058</td>\n      <td>0</td>\n      <td>5.938132</td>\n      <td>True</td>\n      <td>MZ10CD</td>\n    </tr>\n    <tr>\n      <th>2</th>\n      <td>2</td>\n      <td>1</td>\n      <td>0</td>\n      <td>MT04PA</td>\n      <td>1</td>\n      <td>46.775489</td>\n      <td>67.338108</td>\n      <td>196912.006690</td>\n      <td>2009.903438</td>\n      <td>2.059034</td>\n      <td>0</td>\n      <td>2.190777</td>\n      <td>True</td>\n      <td>MZ10CD</td>\n    </tr>\n    <tr>\n      <th>3</th>\n      <td>3</td>\n      <td>1</td>\n      <td>0</td>\n      <td>MT04PA</td>\n      <td>1</td>\n      <td>41.784839</td>\n      <td>24.067401</td>\n      <td>132911.650615</td>\n      <td>3112.280893</td>\n      <td>3.936169</td>\n      <td>0</td>\n      <td>1.725860</td>\n      <td>True</td>\n      <td>MZ10CD</td>\n    </tr>\n    <tr>\n      <th>4</th>\n      <td>4</td>\n      <td>1</td>\n      <td>0</td>\n      <td>MT04PA</td>\n      <td>1</td>\n      <td>41.744838</td>\n      <td>47.496605</td>\n      <td>161162.551205</td>\n      <td>1372.077093</td>\n      <td>3.709910</td>\n      <td>0</td>\n      <td>0.883104</td>\n      <td>True</td>\n      <td>MZ10CD</td>\n    </tr>\n  </tbody>\n</table>\n</div>"
     },
     "execution_count": 90,
     "metadata": {},
     "output_type": "execute_result"
    }
   ],
   "source": [
    "df = pd.read_csv('../data/train.csv')\n",
    "df.head()"
   ],
   "metadata": {
    "collapsed": false,
    "pycharm": {
     "name": "#%%\n"
    }
   }
  },
  {
   "cell_type": "code",
   "execution_count": 91,
   "outputs": [
    {
     "data": {
      "text/plain": "   minority  sex     ZIP  rent  education        age         income  \\\n0         1    0  MT04PA     1  57.230650  36.050927  205168.022244   \n1         1    0  MT04PA     1  45.891343  59.525251  187530.409981   \n2         1    0  MT04PA     1  46.775489  67.338108  196912.006690   \n3         1    0  MT04PA     1  41.784839  24.067401  132911.650615   \n4         1    0  MT04PA     1  41.744838  47.496605  161162.551205   \n\n     loan_size  payment_timing  year  job_stability  default occupation  \n0  7600.292199        3.302193     0       3.015554     True     MZ10CD  \n1  5534.271289        3.843058     0       5.938132     True     MZ10CD  \n2  2009.903438        2.059034     0       2.190777     True     MZ10CD  \n3  3112.280893        3.936169     0       1.725860     True     MZ10CD  \n4  1372.077093        3.709910     0       0.883104     True     MZ10CD  ",
      "text/html": "<div>\n<style scoped>\n    .dataframe tbody tr th:only-of-type {\n        vertical-align: middle;\n    }\n\n    .dataframe tbody tr th {\n        vertical-align: top;\n    }\n\n    .dataframe thead th {\n        text-align: right;\n    }\n</style>\n<table border=\"1\" class=\"dataframe\">\n  <thead>\n    <tr style=\"text-align: right;\">\n      <th></th>\n      <th>minority</th>\n      <th>sex</th>\n      <th>ZIP</th>\n      <th>rent</th>\n      <th>education</th>\n      <th>age</th>\n      <th>income</th>\n      <th>loan_size</th>\n      <th>payment_timing</th>\n      <th>year</th>\n      <th>job_stability</th>\n      <th>default</th>\n      <th>occupation</th>\n    </tr>\n  </thead>\n  <tbody>\n    <tr>\n      <th>0</th>\n      <td>1</td>\n      <td>0</td>\n      <td>MT04PA</td>\n      <td>1</td>\n      <td>57.230650</td>\n      <td>36.050927</td>\n      <td>205168.022244</td>\n      <td>7600.292199</td>\n      <td>3.302193</td>\n      <td>0</td>\n      <td>3.015554</td>\n      <td>True</td>\n      <td>MZ10CD</td>\n    </tr>\n    <tr>\n      <th>1</th>\n      <td>1</td>\n      <td>0</td>\n      <td>MT04PA</td>\n      <td>1</td>\n      <td>45.891343</td>\n      <td>59.525251</td>\n      <td>187530.409981</td>\n      <td>5534.271289</td>\n      <td>3.843058</td>\n      <td>0</td>\n      <td>5.938132</td>\n      <td>True</td>\n      <td>MZ10CD</td>\n    </tr>\n    <tr>\n      <th>2</th>\n      <td>1</td>\n      <td>0</td>\n      <td>MT04PA</td>\n      <td>1</td>\n      <td>46.775489</td>\n      <td>67.338108</td>\n      <td>196912.006690</td>\n      <td>2009.903438</td>\n      <td>2.059034</td>\n      <td>0</td>\n      <td>2.190777</td>\n      <td>True</td>\n      <td>MZ10CD</td>\n    </tr>\n    <tr>\n      <th>3</th>\n      <td>1</td>\n      <td>0</td>\n      <td>MT04PA</td>\n      <td>1</td>\n      <td>41.784839</td>\n      <td>24.067401</td>\n      <td>132911.650615</td>\n      <td>3112.280893</td>\n      <td>3.936169</td>\n      <td>0</td>\n      <td>1.725860</td>\n      <td>True</td>\n      <td>MZ10CD</td>\n    </tr>\n    <tr>\n      <th>4</th>\n      <td>1</td>\n      <td>0</td>\n      <td>MT04PA</td>\n      <td>1</td>\n      <td>41.744838</td>\n      <td>47.496605</td>\n      <td>161162.551205</td>\n      <td>1372.077093</td>\n      <td>3.709910</td>\n      <td>0</td>\n      <td>0.883104</td>\n      <td>True</td>\n      <td>MZ10CD</td>\n    </tr>\n  </tbody>\n</table>\n</div>"
     },
     "execution_count": 91,
     "metadata": {},
     "output_type": "execute_result"
    }
   ],
   "source": [
    "df = df.drop('Unnamed: 0', axis=1)\n",
    "df.head()"
   ],
   "metadata": {
    "collapsed": false,
    "pycharm": {
     "name": "#%%\n"
    }
   }
  },
  {
   "cell_type": "code",
   "execution_count": 92,
   "outputs": [
    {
     "data": {
      "text/plain": "   minority  sex  rent  education        age         income    loan_size  \\\n0         1    0     1  57.230650  36.050927  205168.022244  7600.292199   \n1         1    0     1  45.891343  59.525251  187530.409981  5534.271289   \n2         1    0     1  46.775489  67.338108  196912.006690  2009.903438   \n3         1    0     1  41.784839  24.067401  132911.650615  3112.280893   \n4         1    0     1  41.744838  47.496605  161162.551205  1372.077093   \n\n   payment_timing  year  job_stability  default occupation  zip0  zip1  zip2  \\\n0        3.302193     0       3.015554     True     MZ10CD     0     1     0   \n1        3.843058     0       5.938132     True     MZ10CD     0     1     0   \n2        2.059034     0       2.190777     True     MZ10CD     0     1     0   \n3        3.936169     0       1.725860     True     MZ10CD     0     1     0   \n4        3.709910     0       0.883104     True     MZ10CD     0     1     0   \n\n   zip3  \n0     0  \n1     0  \n2     0  \n3     0  \n4     0  ",
      "text/html": "<div>\n<style scoped>\n    .dataframe tbody tr th:only-of-type {\n        vertical-align: middle;\n    }\n\n    .dataframe tbody tr th {\n        vertical-align: top;\n    }\n\n    .dataframe thead th {\n        text-align: right;\n    }\n</style>\n<table border=\"1\" class=\"dataframe\">\n  <thead>\n    <tr style=\"text-align: right;\">\n      <th></th>\n      <th>minority</th>\n      <th>sex</th>\n      <th>rent</th>\n      <th>education</th>\n      <th>age</th>\n      <th>income</th>\n      <th>loan_size</th>\n      <th>payment_timing</th>\n      <th>year</th>\n      <th>job_stability</th>\n      <th>default</th>\n      <th>occupation</th>\n      <th>zip0</th>\n      <th>zip1</th>\n      <th>zip2</th>\n      <th>zip3</th>\n    </tr>\n  </thead>\n  <tbody>\n    <tr>\n      <th>0</th>\n      <td>1</td>\n      <td>0</td>\n      <td>1</td>\n      <td>57.230650</td>\n      <td>36.050927</td>\n      <td>205168.022244</td>\n      <td>7600.292199</td>\n      <td>3.302193</td>\n      <td>0</td>\n      <td>3.015554</td>\n      <td>True</td>\n      <td>MZ10CD</td>\n      <td>0</td>\n      <td>1</td>\n      <td>0</td>\n      <td>0</td>\n    </tr>\n    <tr>\n      <th>1</th>\n      <td>1</td>\n      <td>0</td>\n      <td>1</td>\n      <td>45.891343</td>\n      <td>59.525251</td>\n      <td>187530.409981</td>\n      <td>5534.271289</td>\n      <td>3.843058</td>\n      <td>0</td>\n      <td>5.938132</td>\n      <td>True</td>\n      <td>MZ10CD</td>\n      <td>0</td>\n      <td>1</td>\n      <td>0</td>\n      <td>0</td>\n    </tr>\n    <tr>\n      <th>2</th>\n      <td>1</td>\n      <td>0</td>\n      <td>1</td>\n      <td>46.775489</td>\n      <td>67.338108</td>\n      <td>196912.006690</td>\n      <td>2009.903438</td>\n      <td>2.059034</td>\n      <td>0</td>\n      <td>2.190777</td>\n      <td>True</td>\n      <td>MZ10CD</td>\n      <td>0</td>\n      <td>1</td>\n      <td>0</td>\n      <td>0</td>\n    </tr>\n    <tr>\n      <th>3</th>\n      <td>1</td>\n      <td>0</td>\n      <td>1</td>\n      <td>41.784839</td>\n      <td>24.067401</td>\n      <td>132911.650615</td>\n      <td>3112.280893</td>\n      <td>3.936169</td>\n      <td>0</td>\n      <td>1.725860</td>\n      <td>True</td>\n      <td>MZ10CD</td>\n      <td>0</td>\n      <td>1</td>\n      <td>0</td>\n      <td>0</td>\n    </tr>\n    <tr>\n      <th>4</th>\n      <td>1</td>\n      <td>0</td>\n      <td>1</td>\n      <td>41.744838</td>\n      <td>47.496605</td>\n      <td>161162.551205</td>\n      <td>1372.077093</td>\n      <td>3.709910</td>\n      <td>0</td>\n      <td>0.883104</td>\n      <td>True</td>\n      <td>MZ10CD</td>\n      <td>0</td>\n      <td>1</td>\n      <td>0</td>\n      <td>0</td>\n    </tr>\n  </tbody>\n</table>\n</div>"
     },
     "execution_count": 92,
     "metadata": {},
     "output_type": "execute_result"
    }
   ],
   "source": [
    "zip_code = pd.get_dummies(df['ZIP'])\n",
    "df = pd.concat([df, zip_code], axis=1)\n",
    "df = df.drop('ZIP', axis=1)\n",
    "df = df.rename(columns={'MT01RA': 'zip0', 'MT04PA': 'zip1', 'MT12RA': 'zip2', 'MT15PA': 'zip3'})\n",
    "df.head()"
   ],
   "metadata": {
    "collapsed": false,
    "pycharm": {
     "name": "#%%\n"
    }
   }
  },
  {
   "cell_type": "code",
   "execution_count": 93,
   "outputs": [
    {
     "data": {
      "text/plain": "   minority  sex  rent  education        age         income    loan_size  \\\n0         1    0     1  57.230650  36.050927  205168.022244  7600.292199   \n1         1    0     1  45.891343  59.525251  187530.409981  5534.271289   \n2         1    0     1  46.775489  67.338108  196912.006690  2009.903438   \n3         1    0     1  41.784839  24.067401  132911.650615  3112.280893   \n4         1    0     1  41.744838  47.496605  161162.551205  1372.077093   \n\n   payment_timing  year  job_stability  default  zip0  zip1  zip2  zip3  \\\n0        3.302193     0       3.015554     True     0     1     0     0   \n1        3.843058     0       5.938132     True     0     1     0     0   \n2        2.059034     0       2.190777     True     0     1     0     0   \n3        3.936169     0       1.725860     True     0     1     0     0   \n4        3.709910     0       0.883104     True     0     1     0     0   \n\n   occupation0  occupation1  occupation2  \n0            0            1            0  \n1            0            1            0  \n2            0            1            0  \n3            0            1            0  \n4            0            1            0  ",
      "text/html": "<div>\n<style scoped>\n    .dataframe tbody tr th:only-of-type {\n        vertical-align: middle;\n    }\n\n    .dataframe tbody tr th {\n        vertical-align: top;\n    }\n\n    .dataframe thead th {\n        text-align: right;\n    }\n</style>\n<table border=\"1\" class=\"dataframe\">\n  <thead>\n    <tr style=\"text-align: right;\">\n      <th></th>\n      <th>minority</th>\n      <th>sex</th>\n      <th>rent</th>\n      <th>education</th>\n      <th>age</th>\n      <th>income</th>\n      <th>loan_size</th>\n      <th>payment_timing</th>\n      <th>year</th>\n      <th>job_stability</th>\n      <th>default</th>\n      <th>zip0</th>\n      <th>zip1</th>\n      <th>zip2</th>\n      <th>zip3</th>\n      <th>occupation0</th>\n      <th>occupation1</th>\n      <th>occupation2</th>\n    </tr>\n  </thead>\n  <tbody>\n    <tr>\n      <th>0</th>\n      <td>1</td>\n      <td>0</td>\n      <td>1</td>\n      <td>57.230650</td>\n      <td>36.050927</td>\n      <td>205168.022244</td>\n      <td>7600.292199</td>\n      <td>3.302193</td>\n      <td>0</td>\n      <td>3.015554</td>\n      <td>True</td>\n      <td>0</td>\n      <td>1</td>\n      <td>0</td>\n      <td>0</td>\n      <td>0</td>\n      <td>1</td>\n      <td>0</td>\n    </tr>\n    <tr>\n      <th>1</th>\n      <td>1</td>\n      <td>0</td>\n      <td>1</td>\n      <td>45.891343</td>\n      <td>59.525251</td>\n      <td>187530.409981</td>\n      <td>5534.271289</td>\n      <td>3.843058</td>\n      <td>0</td>\n      <td>5.938132</td>\n      <td>True</td>\n      <td>0</td>\n      <td>1</td>\n      <td>0</td>\n      <td>0</td>\n      <td>0</td>\n      <td>1</td>\n      <td>0</td>\n    </tr>\n    <tr>\n      <th>2</th>\n      <td>1</td>\n      <td>0</td>\n      <td>1</td>\n      <td>46.775489</td>\n      <td>67.338108</td>\n      <td>196912.006690</td>\n      <td>2009.903438</td>\n      <td>2.059034</td>\n      <td>0</td>\n      <td>2.190777</td>\n      <td>True</td>\n      <td>0</td>\n      <td>1</td>\n      <td>0</td>\n      <td>0</td>\n      <td>0</td>\n      <td>1</td>\n      <td>0</td>\n    </tr>\n    <tr>\n      <th>3</th>\n      <td>1</td>\n      <td>0</td>\n      <td>1</td>\n      <td>41.784839</td>\n      <td>24.067401</td>\n      <td>132911.650615</td>\n      <td>3112.280893</td>\n      <td>3.936169</td>\n      <td>0</td>\n      <td>1.725860</td>\n      <td>True</td>\n      <td>0</td>\n      <td>1</td>\n      <td>0</td>\n      <td>0</td>\n      <td>0</td>\n      <td>1</td>\n      <td>0</td>\n    </tr>\n    <tr>\n      <th>4</th>\n      <td>1</td>\n      <td>0</td>\n      <td>1</td>\n      <td>41.744838</td>\n      <td>47.496605</td>\n      <td>161162.551205</td>\n      <td>1372.077093</td>\n      <td>3.709910</td>\n      <td>0</td>\n      <td>0.883104</td>\n      <td>True</td>\n      <td>0</td>\n      <td>1</td>\n      <td>0</td>\n      <td>0</td>\n      <td>0</td>\n      <td>1</td>\n      <td>0</td>\n    </tr>\n  </tbody>\n</table>\n</div>"
     },
     "execution_count": 93,
     "metadata": {},
     "output_type": "execute_result"
    }
   ],
   "source": [
    "occup = pd.get_dummies(df['occupation'])\n",
    "df = pd.concat([df, occup], axis=1)\n",
    "df = df.drop('occupation', axis=1)\n",
    "df = df.rename(columns={'MZ01CD': 'occupation0', 'MZ10CD': 'occupation1', 'MZ11CD': 'occupation2'})\n",
    "df.head()"
   ],
   "metadata": {
    "collapsed": false,
    "pycharm": {
     "name": "#%%\n"
    }
   }
  },
  {
   "cell_type": "code",
   "execution_count": 94,
   "outputs": [
    {
     "name": "stdout",
     "output_type": "stream",
     "text": [
      "<class 'pandas.core.frame.DataFrame'>\n",
      "RangeIndex: 480000 entries, 0 to 479999\n",
      "Data columns (total 18 columns):\n",
      " #   Column          Non-Null Count   Dtype  \n",
      "---  ------          --------------   -----  \n",
      " 0   minority        480000 non-null  int64  \n",
      " 1   sex             480000 non-null  int64  \n",
      " 2   rent            480000 non-null  int64  \n",
      " 3   education       480000 non-null  float64\n",
      " 4   age             480000 non-null  float64\n",
      " 5   income          480000 non-null  float64\n",
      " 6   loan_size       480000 non-null  float64\n",
      " 7   payment_timing  480000 non-null  float64\n",
      " 8   year            480000 non-null  int64  \n",
      " 9   job_stability   480000 non-null  float64\n",
      " 10  default         480000 non-null  bool   \n",
      " 11  zip0            480000 non-null  uint8  \n",
      " 12  zip1            480000 non-null  uint8  \n",
      " 13  zip2            480000 non-null  uint8  \n",
      " 14  zip3            480000 non-null  uint8  \n",
      " 15  occupation0     480000 non-null  uint8  \n",
      " 16  occupation1     480000 non-null  uint8  \n",
      " 17  occupation2     480000 non-null  uint8  \n",
      "dtypes: bool(1), float64(6), int64(4), uint8(7)\n",
      "memory usage: 40.3 MB\n"
     ]
    }
   ],
   "source": [
    "df.info()"
   ],
   "metadata": {
    "collapsed": false,
    "pycharm": {
     "name": "#%%\n"
    }
   }
  },
  {
   "cell_type": "code",
   "execution_count": 95,
   "outputs": [
    {
     "data": {
      "text/plain": "   minority  sex  rent  education        age         income    loan_size  \\\n0         1    0     1  57.230650  36.050927  205168.022244  7600.292199   \n1         1    0     1  45.891343  59.525251  187530.409981  5534.271289   \n2         1    0     1  46.775489  67.338108  196912.006690  2009.903438   \n3         1    0     1  41.784839  24.067401  132911.650615  3112.280893   \n4         1    0     1  41.744838  47.496605  161162.551205  1372.077093   \n\n   payment_timing  year  job_stability  zip0  zip1  zip2  zip3  occupation0  \\\n0        3.302193     0       3.015554     0     1     0     0            0   \n1        3.843058     0       5.938132     0     1     0     0            0   \n2        2.059034     0       2.190777     0     1     0     0            0   \n3        3.936169     0       1.725860     0     1     0     0            0   \n4        3.709910     0       0.883104     0     1     0     0            0   \n\n   occupation1  occupation2  target  \n0            1            0       1  \n1            1            0       1  \n2            1            0       1  \n3            1            0       1  \n4            1            0       1  ",
      "text/html": "<div>\n<style scoped>\n    .dataframe tbody tr th:only-of-type {\n        vertical-align: middle;\n    }\n\n    .dataframe tbody tr th {\n        vertical-align: top;\n    }\n\n    .dataframe thead th {\n        text-align: right;\n    }\n</style>\n<table border=\"1\" class=\"dataframe\">\n  <thead>\n    <tr style=\"text-align: right;\">\n      <th></th>\n      <th>minority</th>\n      <th>sex</th>\n      <th>rent</th>\n      <th>education</th>\n      <th>age</th>\n      <th>income</th>\n      <th>loan_size</th>\n      <th>payment_timing</th>\n      <th>year</th>\n      <th>job_stability</th>\n      <th>zip0</th>\n      <th>zip1</th>\n      <th>zip2</th>\n      <th>zip3</th>\n      <th>occupation0</th>\n      <th>occupation1</th>\n      <th>occupation2</th>\n      <th>target</th>\n    </tr>\n  </thead>\n  <tbody>\n    <tr>\n      <th>0</th>\n      <td>1</td>\n      <td>0</td>\n      <td>1</td>\n      <td>57.230650</td>\n      <td>36.050927</td>\n      <td>205168.022244</td>\n      <td>7600.292199</td>\n      <td>3.302193</td>\n      <td>0</td>\n      <td>3.015554</td>\n      <td>0</td>\n      <td>1</td>\n      <td>0</td>\n      <td>0</td>\n      <td>0</td>\n      <td>1</td>\n      <td>0</td>\n      <td>1</td>\n    </tr>\n    <tr>\n      <th>1</th>\n      <td>1</td>\n      <td>0</td>\n      <td>1</td>\n      <td>45.891343</td>\n      <td>59.525251</td>\n      <td>187530.409981</td>\n      <td>5534.271289</td>\n      <td>3.843058</td>\n      <td>0</td>\n      <td>5.938132</td>\n      <td>0</td>\n      <td>1</td>\n      <td>0</td>\n      <td>0</td>\n      <td>0</td>\n      <td>1</td>\n      <td>0</td>\n      <td>1</td>\n    </tr>\n    <tr>\n      <th>2</th>\n      <td>1</td>\n      <td>0</td>\n      <td>1</td>\n      <td>46.775489</td>\n      <td>67.338108</td>\n      <td>196912.006690</td>\n      <td>2009.903438</td>\n      <td>2.059034</td>\n      <td>0</td>\n      <td>2.190777</td>\n      <td>0</td>\n      <td>1</td>\n      <td>0</td>\n      <td>0</td>\n      <td>0</td>\n      <td>1</td>\n      <td>0</td>\n      <td>1</td>\n    </tr>\n    <tr>\n      <th>3</th>\n      <td>1</td>\n      <td>0</td>\n      <td>1</td>\n      <td>41.784839</td>\n      <td>24.067401</td>\n      <td>132911.650615</td>\n      <td>3112.280893</td>\n      <td>3.936169</td>\n      <td>0</td>\n      <td>1.725860</td>\n      <td>0</td>\n      <td>1</td>\n      <td>0</td>\n      <td>0</td>\n      <td>0</td>\n      <td>1</td>\n      <td>0</td>\n      <td>1</td>\n    </tr>\n    <tr>\n      <th>4</th>\n      <td>1</td>\n      <td>0</td>\n      <td>1</td>\n      <td>41.744838</td>\n      <td>47.496605</td>\n      <td>161162.551205</td>\n      <td>1372.077093</td>\n      <td>3.709910</td>\n      <td>0</td>\n      <td>0.883104</td>\n      <td>0</td>\n      <td>1</td>\n      <td>0</td>\n      <td>0</td>\n      <td>0</td>\n      <td>1</td>\n      <td>0</td>\n      <td>1</td>\n    </tr>\n  </tbody>\n</table>\n</div>"
     },
     "execution_count": 95,
     "metadata": {},
     "output_type": "execute_result"
    }
   ],
   "source": [
    "df['target'] = df['default'].astype(int)\n",
    "df = df.drop('default', axis=1)\n",
    "df.head()"
   ],
   "metadata": {
    "collapsed": false,
    "pycharm": {
     "name": "#%%\n"
    }
   }
  },
  {
   "cell_type": "markdown",
   "source": [
    "## test dataset"
   ],
   "metadata": {
    "collapsed": false,
    "pycharm": {
     "name": "#%% md\n"
    }
   }
  },
  {
   "cell_type": "code",
   "execution_count": 96,
   "outputs": [
    {
     "data": {
      "text/plain": "   Unnamed: 0.1  Unnamed: 0  minority  sex     ZIP  rent  education  \\\n0             0           0         1    0  MT04PA     1  51.265723   \n1             1           1         0    0  MT04PA     0  58.882849   \n2             2           2         0    0  MT04PA     0  56.504545   \n3             3           3         1    0  MT04PA     1  47.074111   \n4             4           4         1    0  MT04PA     1  48.916960   \n\n         age         income    loan_size  payment_timing  job_stability  year  \\\n0  25.710781  166455.209729  8064.951996        3.874735      43.764963    30   \n1  39.689510  216752.885725  7166.701945        3.809001      46.903977    30   \n2  25.847324  183764.480788  3322.045258        3.497214      63.453467    30   \n3  26.381109  154057.004978    15.223904        3.535370      56.243840    30   \n4  18.779902  143463.038107  7860.534547        3.663330      49.884194    30   \n\n   default occupation  \n0     True     MZ10CD  \n1    False     MZ01CD  \n2    False     MZ01CD  \n3    False     MZ10CD  \n4    False     MZ10CD  ",
      "text/html": "<div>\n<style scoped>\n    .dataframe tbody tr th:only-of-type {\n        vertical-align: middle;\n    }\n\n    .dataframe tbody tr th {\n        vertical-align: top;\n    }\n\n    .dataframe thead th {\n        text-align: right;\n    }\n</style>\n<table border=\"1\" class=\"dataframe\">\n  <thead>\n    <tr style=\"text-align: right;\">\n      <th></th>\n      <th>Unnamed: 0.1</th>\n      <th>Unnamed: 0</th>\n      <th>minority</th>\n      <th>sex</th>\n      <th>ZIP</th>\n      <th>rent</th>\n      <th>education</th>\n      <th>age</th>\n      <th>income</th>\n      <th>loan_size</th>\n      <th>payment_timing</th>\n      <th>job_stability</th>\n      <th>year</th>\n      <th>default</th>\n      <th>occupation</th>\n    </tr>\n  </thead>\n  <tbody>\n    <tr>\n      <th>0</th>\n      <td>0</td>\n      <td>0</td>\n      <td>1</td>\n      <td>0</td>\n      <td>MT04PA</td>\n      <td>1</td>\n      <td>51.265723</td>\n      <td>25.710781</td>\n      <td>166455.209729</td>\n      <td>8064.951996</td>\n      <td>3.874735</td>\n      <td>43.764963</td>\n      <td>30</td>\n      <td>True</td>\n      <td>MZ10CD</td>\n    </tr>\n    <tr>\n      <th>1</th>\n      <td>1</td>\n      <td>1</td>\n      <td>0</td>\n      <td>0</td>\n      <td>MT04PA</td>\n      <td>0</td>\n      <td>58.882849</td>\n      <td>39.689510</td>\n      <td>216752.885725</td>\n      <td>7166.701945</td>\n      <td>3.809001</td>\n      <td>46.903977</td>\n      <td>30</td>\n      <td>False</td>\n      <td>MZ01CD</td>\n    </tr>\n    <tr>\n      <th>2</th>\n      <td>2</td>\n      <td>2</td>\n      <td>0</td>\n      <td>0</td>\n      <td>MT04PA</td>\n      <td>0</td>\n      <td>56.504545</td>\n      <td>25.847324</td>\n      <td>183764.480788</td>\n      <td>3322.045258</td>\n      <td>3.497214</td>\n      <td>63.453467</td>\n      <td>30</td>\n      <td>False</td>\n      <td>MZ01CD</td>\n    </tr>\n    <tr>\n      <th>3</th>\n      <td>3</td>\n      <td>3</td>\n      <td>1</td>\n      <td>0</td>\n      <td>MT04PA</td>\n      <td>1</td>\n      <td>47.074111</td>\n      <td>26.381109</td>\n      <td>154057.004978</td>\n      <td>15.223904</td>\n      <td>3.535370</td>\n      <td>56.243840</td>\n      <td>30</td>\n      <td>False</td>\n      <td>MZ10CD</td>\n    </tr>\n    <tr>\n      <th>4</th>\n      <td>4</td>\n      <td>4</td>\n      <td>1</td>\n      <td>0</td>\n      <td>MT04PA</td>\n      <td>1</td>\n      <td>48.916960</td>\n      <td>18.779902</td>\n      <td>143463.038107</td>\n      <td>7860.534547</td>\n      <td>3.663330</td>\n      <td>49.884194</td>\n      <td>30</td>\n      <td>False</td>\n      <td>MZ10CD</td>\n    </tr>\n  </tbody>\n</table>\n</div>"
     },
     "execution_count": 96,
     "metadata": {},
     "output_type": "execute_result"
    }
   ],
   "source": [
    "df = pd.read_csv('../data/test.csv')\n",
    "df.head()"
   ],
   "metadata": {
    "collapsed": false,
    "pycharm": {
     "name": "#%%\n"
    }
   }
  },
  {
   "cell_type": "code",
   "execution_count": 97,
   "outputs": [
    {
     "data": {
      "text/plain": "   minority  sex     ZIP  rent  education        age         income  \\\n0         1    0  MT04PA     1  51.265723  25.710781  166455.209729   \n1         0    0  MT04PA     0  58.882849  39.689510  216752.885725   \n2         0    0  MT04PA     0  56.504545  25.847324  183764.480788   \n3         1    0  MT04PA     1  47.074111  26.381109  154057.004978   \n4         1    0  MT04PA     1  48.916960  18.779902  143463.038107   \n\n     loan_size  payment_timing  job_stability  year  default occupation  \n0  8064.951996        3.874735      43.764963    30     True     MZ10CD  \n1  7166.701945        3.809001      46.903977    30    False     MZ01CD  \n2  3322.045258        3.497214      63.453467    30    False     MZ01CD  \n3    15.223904        3.535370      56.243840    30    False     MZ10CD  \n4  7860.534547        3.663330      49.884194    30    False     MZ10CD  ",
      "text/html": "<div>\n<style scoped>\n    .dataframe tbody tr th:only-of-type {\n        vertical-align: middle;\n    }\n\n    .dataframe tbody tr th {\n        vertical-align: top;\n    }\n\n    .dataframe thead th {\n        text-align: right;\n    }\n</style>\n<table border=\"1\" class=\"dataframe\">\n  <thead>\n    <tr style=\"text-align: right;\">\n      <th></th>\n      <th>minority</th>\n      <th>sex</th>\n      <th>ZIP</th>\n      <th>rent</th>\n      <th>education</th>\n      <th>age</th>\n      <th>income</th>\n      <th>loan_size</th>\n      <th>payment_timing</th>\n      <th>job_stability</th>\n      <th>year</th>\n      <th>default</th>\n      <th>occupation</th>\n    </tr>\n  </thead>\n  <tbody>\n    <tr>\n      <th>0</th>\n      <td>1</td>\n      <td>0</td>\n      <td>MT04PA</td>\n      <td>1</td>\n      <td>51.265723</td>\n      <td>25.710781</td>\n      <td>166455.209729</td>\n      <td>8064.951996</td>\n      <td>3.874735</td>\n      <td>43.764963</td>\n      <td>30</td>\n      <td>True</td>\n      <td>MZ10CD</td>\n    </tr>\n    <tr>\n      <th>1</th>\n      <td>0</td>\n      <td>0</td>\n      <td>MT04PA</td>\n      <td>0</td>\n      <td>58.882849</td>\n      <td>39.689510</td>\n      <td>216752.885725</td>\n      <td>7166.701945</td>\n      <td>3.809001</td>\n      <td>46.903977</td>\n      <td>30</td>\n      <td>False</td>\n      <td>MZ01CD</td>\n    </tr>\n    <tr>\n      <th>2</th>\n      <td>0</td>\n      <td>0</td>\n      <td>MT04PA</td>\n      <td>0</td>\n      <td>56.504545</td>\n      <td>25.847324</td>\n      <td>183764.480788</td>\n      <td>3322.045258</td>\n      <td>3.497214</td>\n      <td>63.453467</td>\n      <td>30</td>\n      <td>False</td>\n      <td>MZ01CD</td>\n    </tr>\n    <tr>\n      <th>3</th>\n      <td>1</td>\n      <td>0</td>\n      <td>MT04PA</td>\n      <td>1</td>\n      <td>47.074111</td>\n      <td>26.381109</td>\n      <td>154057.004978</td>\n      <td>15.223904</td>\n      <td>3.535370</td>\n      <td>56.243840</td>\n      <td>30</td>\n      <td>False</td>\n      <td>MZ10CD</td>\n    </tr>\n    <tr>\n      <th>4</th>\n      <td>1</td>\n      <td>0</td>\n      <td>MT04PA</td>\n      <td>1</td>\n      <td>48.916960</td>\n      <td>18.779902</td>\n      <td>143463.038107</td>\n      <td>7860.534547</td>\n      <td>3.663330</td>\n      <td>49.884194</td>\n      <td>30</td>\n      <td>False</td>\n      <td>MZ10CD</td>\n    </tr>\n  </tbody>\n</table>\n</div>"
     },
     "execution_count": 97,
     "metadata": {},
     "output_type": "execute_result"
    }
   ],
   "source": [
    "df = df.drop('Unnamed: 0', axis=1)\n",
    "df = df.drop('Unnamed: 0.1', axis=1)\n",
    "df.head()"
   ],
   "metadata": {
    "collapsed": false,
    "pycharm": {
     "name": "#%%\n"
    }
   }
  },
  {
   "cell_type": "code",
   "execution_count": 98,
   "outputs": [
    {
     "data": {
      "text/plain": "   minority  sex  rent  education        age         income    loan_size  \\\n0         1    0     1  51.265723  25.710781  166455.209729  8064.951996   \n1         0    0     0  58.882849  39.689510  216752.885725  7166.701945   \n2         0    0     0  56.504545  25.847324  183764.480788  3322.045258   \n3         1    0     1  47.074111  26.381109  154057.004978    15.223904   \n4         1    0     1  48.916960  18.779902  143463.038107  7860.534547   \n\n   payment_timing  job_stability  year  default occupation  zip0  zip1  zip2  \\\n0        3.874735      43.764963    30     True     MZ10CD     0     1     0   \n1        3.809001      46.903977    30    False     MZ01CD     0     1     0   \n2        3.497214      63.453467    30    False     MZ01CD     0     1     0   \n3        3.535370      56.243840    30    False     MZ10CD     0     1     0   \n4        3.663330      49.884194    30    False     MZ10CD     0     1     0   \n\n   zip3  \n0     0  \n1     0  \n2     0  \n3     0  \n4     0  ",
      "text/html": "<div>\n<style scoped>\n    .dataframe tbody tr th:only-of-type {\n        vertical-align: middle;\n    }\n\n    .dataframe tbody tr th {\n        vertical-align: top;\n    }\n\n    .dataframe thead th {\n        text-align: right;\n    }\n</style>\n<table border=\"1\" class=\"dataframe\">\n  <thead>\n    <tr style=\"text-align: right;\">\n      <th></th>\n      <th>minority</th>\n      <th>sex</th>\n      <th>rent</th>\n      <th>education</th>\n      <th>age</th>\n      <th>income</th>\n      <th>loan_size</th>\n      <th>payment_timing</th>\n      <th>job_stability</th>\n      <th>year</th>\n      <th>default</th>\n      <th>occupation</th>\n      <th>zip0</th>\n      <th>zip1</th>\n      <th>zip2</th>\n      <th>zip3</th>\n    </tr>\n  </thead>\n  <tbody>\n    <tr>\n      <th>0</th>\n      <td>1</td>\n      <td>0</td>\n      <td>1</td>\n      <td>51.265723</td>\n      <td>25.710781</td>\n      <td>166455.209729</td>\n      <td>8064.951996</td>\n      <td>3.874735</td>\n      <td>43.764963</td>\n      <td>30</td>\n      <td>True</td>\n      <td>MZ10CD</td>\n      <td>0</td>\n      <td>1</td>\n      <td>0</td>\n      <td>0</td>\n    </tr>\n    <tr>\n      <th>1</th>\n      <td>0</td>\n      <td>0</td>\n      <td>0</td>\n      <td>58.882849</td>\n      <td>39.689510</td>\n      <td>216752.885725</td>\n      <td>7166.701945</td>\n      <td>3.809001</td>\n      <td>46.903977</td>\n      <td>30</td>\n      <td>False</td>\n      <td>MZ01CD</td>\n      <td>0</td>\n      <td>1</td>\n      <td>0</td>\n      <td>0</td>\n    </tr>\n    <tr>\n      <th>2</th>\n      <td>0</td>\n      <td>0</td>\n      <td>0</td>\n      <td>56.504545</td>\n      <td>25.847324</td>\n      <td>183764.480788</td>\n      <td>3322.045258</td>\n      <td>3.497214</td>\n      <td>63.453467</td>\n      <td>30</td>\n      <td>False</td>\n      <td>MZ01CD</td>\n      <td>0</td>\n      <td>1</td>\n      <td>0</td>\n      <td>0</td>\n    </tr>\n    <tr>\n      <th>3</th>\n      <td>1</td>\n      <td>0</td>\n      <td>1</td>\n      <td>47.074111</td>\n      <td>26.381109</td>\n      <td>154057.004978</td>\n      <td>15.223904</td>\n      <td>3.535370</td>\n      <td>56.243840</td>\n      <td>30</td>\n      <td>False</td>\n      <td>MZ10CD</td>\n      <td>0</td>\n      <td>1</td>\n      <td>0</td>\n      <td>0</td>\n    </tr>\n    <tr>\n      <th>4</th>\n      <td>1</td>\n      <td>0</td>\n      <td>1</td>\n      <td>48.916960</td>\n      <td>18.779902</td>\n      <td>143463.038107</td>\n      <td>7860.534547</td>\n      <td>3.663330</td>\n      <td>49.884194</td>\n      <td>30</td>\n      <td>False</td>\n      <td>MZ10CD</td>\n      <td>0</td>\n      <td>1</td>\n      <td>0</td>\n      <td>0</td>\n    </tr>\n  </tbody>\n</table>\n</div>"
     },
     "execution_count": 98,
     "metadata": {},
     "output_type": "execute_result"
    }
   ],
   "source": [
    "zip_code = pd.get_dummies(df['ZIP'])\n",
    "df = pd.concat([df, zip_code], axis=1)\n",
    "df = df.drop('ZIP', axis=1)\n",
    "df = df.rename(columns={'MT01RA': 'zip0', 'MT04PA': 'zip1', 'MT12RA': 'zip2', 'MT15PA': 'zip3'})\n",
    "df.head()"
   ],
   "metadata": {
    "collapsed": false,
    "pycharm": {
     "name": "#%%\n"
    }
   }
  },
  {
   "cell_type": "code",
   "execution_count": 99,
   "outputs": [
    {
     "data": {
      "text/plain": "   minority  sex  rent  education        age         income    loan_size  \\\n0         1    0     1  51.265723  25.710781  166455.209729  8064.951996   \n1         0    0     0  58.882849  39.689510  216752.885725  7166.701945   \n2         0    0     0  56.504545  25.847324  183764.480788  3322.045258   \n3         1    0     1  47.074111  26.381109  154057.004978    15.223904   \n4         1    0     1  48.916960  18.779902  143463.038107  7860.534547   \n\n   payment_timing  job_stability  year  default  zip0  zip1  zip2  zip3  \\\n0        3.874735      43.764963    30     True     0     1     0     0   \n1        3.809001      46.903977    30    False     0     1     0     0   \n2        3.497214      63.453467    30    False     0     1     0     0   \n3        3.535370      56.243840    30    False     0     1     0     0   \n4        3.663330      49.884194    30    False     0     1     0     0   \n\n   occupation0  occupation1  occupation2  \n0            0            1            0  \n1            1            0            0  \n2            1            0            0  \n3            0            1            0  \n4            0            1            0  ",
      "text/html": "<div>\n<style scoped>\n    .dataframe tbody tr th:only-of-type {\n        vertical-align: middle;\n    }\n\n    .dataframe tbody tr th {\n        vertical-align: top;\n    }\n\n    .dataframe thead th {\n        text-align: right;\n    }\n</style>\n<table border=\"1\" class=\"dataframe\">\n  <thead>\n    <tr style=\"text-align: right;\">\n      <th></th>\n      <th>minority</th>\n      <th>sex</th>\n      <th>rent</th>\n      <th>education</th>\n      <th>age</th>\n      <th>income</th>\n      <th>loan_size</th>\n      <th>payment_timing</th>\n      <th>job_stability</th>\n      <th>year</th>\n      <th>default</th>\n      <th>zip0</th>\n      <th>zip1</th>\n      <th>zip2</th>\n      <th>zip3</th>\n      <th>occupation0</th>\n      <th>occupation1</th>\n      <th>occupation2</th>\n    </tr>\n  </thead>\n  <tbody>\n    <tr>\n      <th>0</th>\n      <td>1</td>\n      <td>0</td>\n      <td>1</td>\n      <td>51.265723</td>\n      <td>25.710781</td>\n      <td>166455.209729</td>\n      <td>8064.951996</td>\n      <td>3.874735</td>\n      <td>43.764963</td>\n      <td>30</td>\n      <td>True</td>\n      <td>0</td>\n      <td>1</td>\n      <td>0</td>\n      <td>0</td>\n      <td>0</td>\n      <td>1</td>\n      <td>0</td>\n    </tr>\n    <tr>\n      <th>1</th>\n      <td>0</td>\n      <td>0</td>\n      <td>0</td>\n      <td>58.882849</td>\n      <td>39.689510</td>\n      <td>216752.885725</td>\n      <td>7166.701945</td>\n      <td>3.809001</td>\n      <td>46.903977</td>\n      <td>30</td>\n      <td>False</td>\n      <td>0</td>\n      <td>1</td>\n      <td>0</td>\n      <td>0</td>\n      <td>1</td>\n      <td>0</td>\n      <td>0</td>\n    </tr>\n    <tr>\n      <th>2</th>\n      <td>0</td>\n      <td>0</td>\n      <td>0</td>\n      <td>56.504545</td>\n      <td>25.847324</td>\n      <td>183764.480788</td>\n      <td>3322.045258</td>\n      <td>3.497214</td>\n      <td>63.453467</td>\n      <td>30</td>\n      <td>False</td>\n      <td>0</td>\n      <td>1</td>\n      <td>0</td>\n      <td>0</td>\n      <td>1</td>\n      <td>0</td>\n      <td>0</td>\n    </tr>\n    <tr>\n      <th>3</th>\n      <td>1</td>\n      <td>0</td>\n      <td>1</td>\n      <td>47.074111</td>\n      <td>26.381109</td>\n      <td>154057.004978</td>\n      <td>15.223904</td>\n      <td>3.535370</td>\n      <td>56.243840</td>\n      <td>30</td>\n      <td>False</td>\n      <td>0</td>\n      <td>1</td>\n      <td>0</td>\n      <td>0</td>\n      <td>0</td>\n      <td>1</td>\n      <td>0</td>\n    </tr>\n    <tr>\n      <th>4</th>\n      <td>1</td>\n      <td>0</td>\n      <td>1</td>\n      <td>48.916960</td>\n      <td>18.779902</td>\n      <td>143463.038107</td>\n      <td>7860.534547</td>\n      <td>3.663330</td>\n      <td>49.884194</td>\n      <td>30</td>\n      <td>False</td>\n      <td>0</td>\n      <td>1</td>\n      <td>0</td>\n      <td>0</td>\n      <td>0</td>\n      <td>1</td>\n      <td>0</td>\n    </tr>\n  </tbody>\n</table>\n</div>"
     },
     "execution_count": 99,
     "metadata": {},
     "output_type": "execute_result"
    }
   ],
   "source": [
    "occup = pd.get_dummies(df['occupation'])\n",
    "df = pd.concat([df, occup], axis=1)\n",
    "df = df.drop('occupation', axis=1)\n",
    "df = df.rename(columns={'MZ01CD': 'occupation0', 'MZ10CD': 'occupation1', 'MZ11CD': 'occupation2'})\n",
    "df.head()"
   ],
   "metadata": {
    "collapsed": false,
    "pycharm": {
     "name": "#%%\n"
    }
   }
  },
  {
   "cell_type": "code",
   "execution_count": 100,
   "outputs": [
    {
     "name": "stdout",
     "output_type": "stream",
     "text": [
      "<class 'pandas.core.frame.DataFrame'>\n",
      "RangeIndex: 160000 entries, 0 to 159999\n",
      "Data columns (total 18 columns):\n",
      " #   Column          Non-Null Count   Dtype  \n",
      "---  ------          --------------   -----  \n",
      " 0   minority        160000 non-null  int64  \n",
      " 1   sex             160000 non-null  int64  \n",
      " 2   rent            160000 non-null  int64  \n",
      " 3   education       160000 non-null  float64\n",
      " 4   age             160000 non-null  float64\n",
      " 5   income          160000 non-null  float64\n",
      " 6   loan_size       160000 non-null  float64\n",
      " 7   payment_timing  160000 non-null  float64\n",
      " 8   job_stability   160000 non-null  float64\n",
      " 9   year            160000 non-null  int64  \n",
      " 10  default         160000 non-null  bool   \n",
      " 11  zip0            160000 non-null  uint8  \n",
      " 12  zip1            160000 non-null  uint8  \n",
      " 13  zip2            160000 non-null  uint8  \n",
      " 14  zip3            160000 non-null  uint8  \n",
      " 15  occupation0     160000 non-null  uint8  \n",
      " 16  occupation1     160000 non-null  uint8  \n",
      " 17  occupation2     160000 non-null  uint8  \n",
      "dtypes: bool(1), float64(6), int64(4), uint8(7)\n",
      "memory usage: 13.4 MB\n"
     ]
    }
   ],
   "source": [
    "df.info()"
   ],
   "metadata": {
    "collapsed": false,
    "pycharm": {
     "name": "#%%\n"
    }
   }
  },
  {
   "cell_type": "code",
   "execution_count": 101,
   "outputs": [
    {
     "data": {
      "text/plain": "   minority  sex  rent  education        age         income    loan_size  \\\n0         1    0     1  51.265723  25.710781  166455.209729  8064.951996   \n1         0    0     0  58.882849  39.689510  216752.885725  7166.701945   \n2         0    0     0  56.504545  25.847324  183764.480788  3322.045258   \n3         1    0     1  47.074111  26.381109  154057.004978    15.223904   \n4         1    0     1  48.916960  18.779902  143463.038107  7860.534547   \n\n   payment_timing  job_stability  year  zip0  zip1  zip2  zip3  occupation0  \\\n0        3.874735      43.764963    30     0     1     0     0            0   \n1        3.809001      46.903977    30     0     1     0     0            1   \n2        3.497214      63.453467    30     0     1     0     0            1   \n3        3.535370      56.243840    30     0     1     0     0            0   \n4        3.663330      49.884194    30     0     1     0     0            0   \n\n   occupation1  occupation2  target  \n0            1            0       1  \n1            0            0       0  \n2            0            0       0  \n3            1            0       0  \n4            1            0       0  ",
      "text/html": "<div>\n<style scoped>\n    .dataframe tbody tr th:only-of-type {\n        vertical-align: middle;\n    }\n\n    .dataframe tbody tr th {\n        vertical-align: top;\n    }\n\n    .dataframe thead th {\n        text-align: right;\n    }\n</style>\n<table border=\"1\" class=\"dataframe\">\n  <thead>\n    <tr style=\"text-align: right;\">\n      <th></th>\n      <th>minority</th>\n      <th>sex</th>\n      <th>rent</th>\n      <th>education</th>\n      <th>age</th>\n      <th>income</th>\n      <th>loan_size</th>\n      <th>payment_timing</th>\n      <th>job_stability</th>\n      <th>year</th>\n      <th>zip0</th>\n      <th>zip1</th>\n      <th>zip2</th>\n      <th>zip3</th>\n      <th>occupation0</th>\n      <th>occupation1</th>\n      <th>occupation2</th>\n      <th>target</th>\n    </tr>\n  </thead>\n  <tbody>\n    <tr>\n      <th>0</th>\n      <td>1</td>\n      <td>0</td>\n      <td>1</td>\n      <td>51.265723</td>\n      <td>25.710781</td>\n      <td>166455.209729</td>\n      <td>8064.951996</td>\n      <td>3.874735</td>\n      <td>43.764963</td>\n      <td>30</td>\n      <td>0</td>\n      <td>1</td>\n      <td>0</td>\n      <td>0</td>\n      <td>0</td>\n      <td>1</td>\n      <td>0</td>\n      <td>1</td>\n    </tr>\n    <tr>\n      <th>1</th>\n      <td>0</td>\n      <td>0</td>\n      <td>0</td>\n      <td>58.882849</td>\n      <td>39.689510</td>\n      <td>216752.885725</td>\n      <td>7166.701945</td>\n      <td>3.809001</td>\n      <td>46.903977</td>\n      <td>30</td>\n      <td>0</td>\n      <td>1</td>\n      <td>0</td>\n      <td>0</td>\n      <td>1</td>\n      <td>0</td>\n      <td>0</td>\n      <td>0</td>\n    </tr>\n    <tr>\n      <th>2</th>\n      <td>0</td>\n      <td>0</td>\n      <td>0</td>\n      <td>56.504545</td>\n      <td>25.847324</td>\n      <td>183764.480788</td>\n      <td>3322.045258</td>\n      <td>3.497214</td>\n      <td>63.453467</td>\n      <td>30</td>\n      <td>0</td>\n      <td>1</td>\n      <td>0</td>\n      <td>0</td>\n      <td>1</td>\n      <td>0</td>\n      <td>0</td>\n      <td>0</td>\n    </tr>\n    <tr>\n      <th>3</th>\n      <td>1</td>\n      <td>0</td>\n      <td>1</td>\n      <td>47.074111</td>\n      <td>26.381109</td>\n      <td>154057.004978</td>\n      <td>15.223904</td>\n      <td>3.535370</td>\n      <td>56.243840</td>\n      <td>30</td>\n      <td>0</td>\n      <td>1</td>\n      <td>0</td>\n      <td>0</td>\n      <td>0</td>\n      <td>1</td>\n      <td>0</td>\n      <td>0</td>\n    </tr>\n    <tr>\n      <th>4</th>\n      <td>1</td>\n      <td>0</td>\n      <td>1</td>\n      <td>48.916960</td>\n      <td>18.779902</td>\n      <td>143463.038107</td>\n      <td>7860.534547</td>\n      <td>3.663330</td>\n      <td>49.884194</td>\n      <td>30</td>\n      <td>0</td>\n      <td>1</td>\n      <td>0</td>\n      <td>0</td>\n      <td>0</td>\n      <td>1</td>\n      <td>0</td>\n      <td>0</td>\n    </tr>\n  </tbody>\n</table>\n</div>"
     },
     "execution_count": 101,
     "metadata": {},
     "output_type": "execute_result"
    }
   ],
   "source": [
    "df['target'] = df['default'].astype(int)\n",
    "df = df.drop('default', axis=1)\n",
    "df.head()"
   ],
   "metadata": {
    "collapsed": false,
    "pycharm": {
     "name": "#%%\n"
    }
   }
  }
 ],
 "metadata": {
  "kernelspec": {
   "display_name": "Python 3",
   "language": "python",
   "name": "python3"
  },
  "language_info": {
   "codemirror_mode": {
    "name": "ipython",
    "version": 2
   },
   "file_extension": ".py",
   "mimetype": "text/x-python",
   "name": "python",
   "nbconvert_exporter": "python",
   "pygments_lexer": "ipython2",
   "version": "2.7.6"
  }
 },
 "nbformat": 4,
 "nbformat_minor": 0
}