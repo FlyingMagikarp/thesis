{
 "cells": [
  {
   "cell_type": "markdown",
   "source": [
    "# Analysis CC"
   ],
   "metadata": {
    "collapsed": false,
    "pycharm": {
     "name": "#%% md\n"
    }
   }
  },
  {
   "cell_type": "code",
   "execution_count": 24,
   "outputs": [],
   "source": [
    "import pandas as pd\n",
    "import numpy as np\n",
    "import matplotlib.pyplot as plt\n",
    "%matplotlib notebook"
   ],
   "metadata": {
    "collapsed": false,
    "pycharm": {
     "name": "#%%\n"
    }
   }
  },
  {
   "cell_type": "code",
   "execution_count": 25,
   "outputs": [
    {
     "data": {
      "text/plain": "   minority  sex  rent  education        age         income    loan_size  \\\n0         1    0     1  57.230650  36.050927  205168.022244  7600.292199   \n1         1    0     1  45.891343  59.525251  187530.409981  5534.271289   \n2         1    0     1  46.775489  67.338108  196912.006690  2009.903438   \n3         1    0     1  41.784839  24.067401  132911.650615  3112.280893   \n4         1    0     1  41.744838  47.496605  161162.551205  1372.077093   \n\n   payment_timing  year  job_stability  zip0  zip1  zip2  zip3  occupation0  \\\n0        3.302193     0       3.015554     0     1     0     0            0   \n1        3.843058     0       5.938132     0     1     0     0            0   \n2        2.059034     0       2.190777     0     1     0     0            0   \n3        3.936169     0       1.725860     0     1     0     0            0   \n4        3.709910     0       0.883104     0     1     0     0            0   \n\n   occupation1  occupation2  target  \n0            1            0       1  \n1            1            0       1  \n2            1            0       1  \n3            1            0       1  \n4            1            0       1  ",
      "text/html": "<div>\n<style scoped>\n    .dataframe tbody tr th:only-of-type {\n        vertical-align: middle;\n    }\n\n    .dataframe tbody tr th {\n        vertical-align: top;\n    }\n\n    .dataframe thead th {\n        text-align: right;\n    }\n</style>\n<table border=\"1\" class=\"dataframe\">\n  <thead>\n    <tr style=\"text-align: right;\">\n      <th></th>\n      <th>minority</th>\n      <th>sex</th>\n      <th>rent</th>\n      <th>education</th>\n      <th>age</th>\n      <th>income</th>\n      <th>loan_size</th>\n      <th>payment_timing</th>\n      <th>year</th>\n      <th>job_stability</th>\n      <th>zip0</th>\n      <th>zip1</th>\n      <th>zip2</th>\n      <th>zip3</th>\n      <th>occupation0</th>\n      <th>occupation1</th>\n      <th>occupation2</th>\n      <th>target</th>\n    </tr>\n  </thead>\n  <tbody>\n    <tr>\n      <th>0</th>\n      <td>1</td>\n      <td>0</td>\n      <td>1</td>\n      <td>57.230650</td>\n      <td>36.050927</td>\n      <td>205168.022244</td>\n      <td>7600.292199</td>\n      <td>3.302193</td>\n      <td>0</td>\n      <td>3.015554</td>\n      <td>0</td>\n      <td>1</td>\n      <td>0</td>\n      <td>0</td>\n      <td>0</td>\n      <td>1</td>\n      <td>0</td>\n      <td>1</td>\n    </tr>\n    <tr>\n      <th>1</th>\n      <td>1</td>\n      <td>0</td>\n      <td>1</td>\n      <td>45.891343</td>\n      <td>59.525251</td>\n      <td>187530.409981</td>\n      <td>5534.271289</td>\n      <td>3.843058</td>\n      <td>0</td>\n      <td>5.938132</td>\n      <td>0</td>\n      <td>1</td>\n      <td>0</td>\n      <td>0</td>\n      <td>0</td>\n      <td>1</td>\n      <td>0</td>\n      <td>1</td>\n    </tr>\n    <tr>\n      <th>2</th>\n      <td>1</td>\n      <td>0</td>\n      <td>1</td>\n      <td>46.775489</td>\n      <td>67.338108</td>\n      <td>196912.006690</td>\n      <td>2009.903438</td>\n      <td>2.059034</td>\n      <td>0</td>\n      <td>2.190777</td>\n      <td>0</td>\n      <td>1</td>\n      <td>0</td>\n      <td>0</td>\n      <td>0</td>\n      <td>1</td>\n      <td>0</td>\n      <td>1</td>\n    </tr>\n    <tr>\n      <th>3</th>\n      <td>1</td>\n      <td>0</td>\n      <td>1</td>\n      <td>41.784839</td>\n      <td>24.067401</td>\n      <td>132911.650615</td>\n      <td>3112.280893</td>\n      <td>3.936169</td>\n      <td>0</td>\n      <td>1.725860</td>\n      <td>0</td>\n      <td>1</td>\n      <td>0</td>\n      <td>0</td>\n      <td>0</td>\n      <td>1</td>\n      <td>0</td>\n      <td>1</td>\n    </tr>\n    <tr>\n      <th>4</th>\n      <td>1</td>\n      <td>0</td>\n      <td>1</td>\n      <td>41.744838</td>\n      <td>47.496605</td>\n      <td>161162.551205</td>\n      <td>1372.077093</td>\n      <td>3.709910</td>\n      <td>0</td>\n      <td>0.883104</td>\n      <td>0</td>\n      <td>1</td>\n      <td>0</td>\n      <td>0</td>\n      <td>0</td>\n      <td>1</td>\n      <td>0</td>\n      <td>1</td>\n    </tr>\n  </tbody>\n</table>\n</div>"
     },
     "execution_count": 25,
     "metadata": {},
     "output_type": "execute_result"
    }
   ],
   "source": [
    "df = pd.read_csv('../data/train_clean.csv')\n",
    "#df2 = pd.read_csv('../data/test_clean.csv')\n",
    "#df = pd.concat([df, df2])\n",
    "df.head()"
   ],
   "metadata": {
    "collapsed": false,
    "pycharm": {
     "name": "#%%\n"
    }
   }
  },
  {
   "cell_type": "code",
   "execution_count": 26,
   "outputs": [
    {
     "name": "stdout",
     "output_type": "stream",
     "text": [
      "Total Entires 480000\n",
      "Default 239927\n",
      "NO Default 240073\n",
      "#####\n",
      "Male 240000\n",
      "Female 240000\n",
      "Male Default 119927\n",
      "Female Default 120000\n",
      "#####\n",
      "Majority 240167\n",
      "Minorities 239833\n",
      "Majority Default 349\n",
      "Minority Default 239578\n"
     ]
    }
   ],
   "source": [
    "print('Total Entires', len(df))\n",
    "print('Default', len(df.loc[df['target'] == 1]))\n",
    "print('NO Default', len(df.loc[df['target'] == 0]))\n",
    "print('#####')\n",
    "print('Male', len(df.loc[df['sex'] == 1]))\n",
    "print('Female', len(df.loc[df['sex'] == 0]))\n",
    "print('Male Default', len(df.loc[(df['sex'] == 1) & (df['target'] == 1)]))\n",
    "print('Female Default', len(df.loc[(df['sex'] == 0) & (df['target'] == 1)]))\n",
    "print('#####')\n",
    "print('Majority', len(df.loc[df['minority'] == 0]))\n",
    "print('Minorities', len(df.loc[df['minority'] == 1]))\n",
    "print('Majority Default', len(df.loc[(df['minority'] == 0) & (df['target'] == 1)]))\n",
    "print('Minority Default', len(df.loc[(df['minority'] == 1) & (df['target'] == 1)]))"
   ],
   "metadata": {
    "collapsed": false,
    "pycharm": {
     "name": "#%%\n"
    }
   }
  },
  {
   "cell_type": "code",
   "execution_count": 27,
   "outputs": [
    {
     "name": "stdout",
     "output_type": "stream",
     "text": [
      "480000 239927 240073\n"
     ]
    }
   ],
   "source": [
    "# general split, default/not default\n",
    "total = len(df)\n",
    "did_def = len(df.loc[df['target'] == 1])\n",
    "did_not_def = len(df.loc[df['target'] == 0])\n",
    "\n",
    "print(total, did_def, did_not_def)"
   ],
   "metadata": {
    "collapsed": false,
    "pycharm": {
     "name": "#%%\n"
    }
   }
  },
  {
   "cell_type": "code",
   "execution_count": 28,
   "outputs": [
    {
     "name": "stdout",
     "output_type": "stream",
     "text": [
      "Defaulted % 49.98479166666667\n"
     ]
    }
   ],
   "source": [
    "print('Defaulted %', 100/total*did_def)"
   ],
   "metadata": {
    "collapsed": false,
    "pycharm": {
     "name": "#%%\n"
    }
   }
  },
  {
   "cell_type": "code",
   "execution_count": 29,
   "outputs": [
    {
     "name": "stdout",
     "output_type": "stream",
     "text": [
      "480000 240000 240000\n",
      "Male % 50.0\n"
     ]
    }
   ],
   "source": [
    "# general gender split\n",
    "male = len(df.loc[df['sex'] == 1])\n",
    "female = len(df.loc[df['sex'] == 0])\n",
    "\n",
    "print(total, male, female)\n",
    "print('Male %', 100/total*male)"
   ],
   "metadata": {
    "collapsed": false,
    "pycharm": {
     "name": "#%%\n"
    }
   }
  },
  {
   "cell_type": "code",
   "execution_count": 30,
   "outputs": [],
   "source": [
    "df_male = df.loc[df['sex'] == 1]\n",
    "df_female = df.loc[df['sex'] == 0]"
   ],
   "metadata": {
    "collapsed": false,
    "pycharm": {
     "name": "#%%\n"
    }
   }
  },
  {
   "cell_type": "markdown",
   "source": [
    "## Male Analysis"
   ],
   "metadata": {
    "collapsed": false,
    "pycharm": {
     "name": "#%% md\n"
    }
   }
  },
  {
   "cell_type": "code",
   "execution_count": 31,
   "outputs": [
    {
     "name": "stdout",
     "output_type": "stream",
     "text": [
      "240000 119927 120073\n",
      "Defaulted male % 49.96958333333334\n"
     ]
    }
   ],
   "source": [
    "total = len(df_male)\n",
    "did_def = len(df_male.loc[df_male['target'] == 1])\n",
    "did_not_def = len(df_male.loc[df_male['target'] == 0])\n",
    "\n",
    "print(total, did_def, did_not_def)\n",
    "print('Defaulted male %', 100/total*did_def)"
   ],
   "metadata": {
    "collapsed": false,
    "pycharm": {
     "name": "#%%\n"
    }
   }
  },
  {
   "cell_type": "code",
   "execution_count": 32,
   "outputs": [
    {
     "name": "stdout",
     "output_type": "stream",
     "text": [
      "Races split\n",
      "majority 120111 50.04625\n",
      "minority 119889 49.95375000000001\n"
     ]
    }
   ],
   "source": [
    "majority = df_male.loc[df_male['minority'] == 0]\n",
    "minority = df_male.loc[df_male['minority'] == 1]\n",
    "\n",
    "print('Races split')\n",
    "print('majority', len(majority), 100/total*len(majority))\n",
    "print('minority', len(minority), 100/total*len(minority))"
   ],
   "metadata": {
    "collapsed": false,
    "pycharm": {
     "name": "#%%\n"
    }
   }
  },
  {
   "cell_type": "code",
   "execution_count": 33,
   "outputs": [
    {
     "name": "stdout",
     "output_type": "stream",
     "text": [
      "% of positive labels per race\n",
      "majority 186 0.0775\n",
      "minority 119741 49.89208333333334\n"
     ]
    }
   ],
   "source": [
    "print('% of positive labels per race')\n",
    "print('majority', len(majority.loc[majority['target'] == 1]), 100/total*len(majority.loc[majority['target'] == 1]))\n",
    "print('minority', len(minority.loc[minority['target'] == 1]), 100/total*len(minority.loc[minority['target'] == 1]))"
   ],
   "metadata": {
    "collapsed": false,
    "pycharm": {
     "name": "#%%\n"
    }
   }
  },
  {
   "cell_type": "markdown",
   "source": [
    "## Female Analysis"
   ],
   "metadata": {
    "collapsed": false,
    "pycharm": {
     "name": "#%% md\n"
    }
   }
  },
  {
   "cell_type": "code",
   "execution_count": 34,
   "outputs": [
    {
     "name": "stdout",
     "output_type": "stream",
     "text": [
      "240000 120000 120000\n",
      "Defaulted female % 50.0\n"
     ]
    }
   ],
   "source": [
    "total = len(df_female)\n",
    "did_def = len(df_female.loc[df_female['target'] == 1])\n",
    "did_not_def = len(df_female.loc[df_female['target'] == 0])\n",
    "\n",
    "print(total, did_def, did_not_def)\n",
    "print('Defaulted female %', 100/total*did_def)"
   ],
   "metadata": {
    "collapsed": false,
    "pycharm": {
     "name": "#%%\n"
    }
   }
  },
  {
   "cell_type": "code",
   "execution_count": 35,
   "outputs": [
    {
     "name": "stdout",
     "output_type": "stream",
     "text": [
      "Races split\n",
      "majority 120056 50.02333333333333\n",
      "minority 119944 49.97666666666667\n"
     ]
    }
   ],
   "source": [
    "majority = df_female.loc[df_female['minority'] == 0]\n",
    "minority = df_female.loc[df_female['minority'] == 1]\n",
    "\n",
    "print('Races split')\n",
    "print('majority', len(majority), 100/total*len(majority))\n",
    "print('minority', len(minority), 100/total*len(minority))"
   ],
   "metadata": {
    "collapsed": false,
    "pycharm": {
     "name": "#%%\n"
    }
   }
  },
  {
   "cell_type": "code",
   "execution_count": 36,
   "outputs": [
    {
     "name": "stdout",
     "output_type": "stream",
     "text": [
      "% of positive labels per race\n",
      "majority 163 0.06791666666666667\n",
      "minority 119837 49.93208333333334\n"
     ]
    }
   ],
   "source": [
    "print('% of positive labels per race')\n",
    "print('majority', len(majority.loc[majority['target'] == 1]), 100/total*len(majority.loc[majority['target'] == 1]))\n",
    "print('minority', len(minority.loc[minority['target'] == 1]), 100/total*len(minority.loc[minority['target'] == 1]))"
   ],
   "metadata": {
    "collapsed": false,
    "pycharm": {
     "name": "#%%\n"
    }
   }
  },
  {
   "cell_type": "code",
   "execution_count": 37,
   "outputs": [],
   "source": [
    "sample_maj_f_0 = df[(df['minority'] == 0) & (df['sex'] == 0) & (df['target'] == 0)].sample(5)\n",
    "sample_maj_f_1 = df[(df['minority'] == 0) & (df['sex'] == 0) & (df['target'] == 1)].sample(5)\n",
    "\n",
    "sample_maj_m_0 = df[(df['minority'] == 0) & (df['sex'] == 1) & (df['target'] == 0)].sample(5)\n",
    "sample_maj_m_1 = df[(df['minority'] == 0) & (df['sex'] == 1) & (df['target'] == 1)].sample(5)"
   ],
   "metadata": {
    "collapsed": false,
    "pycharm": {
     "name": "#%%\n"
    }
   }
  },
  {
   "cell_type": "code",
   "execution_count": 38,
   "outputs": [],
   "source": [
    "sample_min_f_0 = df[(df['minority'] == 1) & (df['sex'] == 0) & (df['target'] == 0)].sample(5)\n",
    "sample_min_f_1 = df[(df['minority'] == 1) & (df['sex'] == 0) & (df['target'] == 1)].sample(5)\n",
    "\n",
    "sample_min_m_0 = df[(df['minority'] == 1) & (df['sex'] == 1) & (df['target'] == 0)].sample(5)\n",
    "sample_min_m_1 = df[(df['minority'] == 1) & (df['sex'] == 1) & (df['target'] == 1)].sample(5)"
   ],
   "metadata": {
    "collapsed": false,
    "pycharm": {
     "name": "#%%\n"
    }
   }
  },
  {
   "cell_type": "code",
   "execution_count": 39,
   "outputs": [
    {
     "data": {
      "text/plain": "        minority  sex  rent  education        age         income    loan_size  \\\n30904          0    0     0  48.176872  26.317294  157549.271805  2000.242026   \n444868         0    0     0  51.825095  36.562255  186519.369146  6757.303106   \n108744         0    0     0  42.189577  50.034772  165075.925983  2403.646196   \n70040          0    0     0  54.107744  37.491322  196092.388754  9541.460967   \n22784          0    0     0  51.002096  46.385160  195693.999298  3467.941990   \n\n        payment_timing  year  job_stability  zip0  zip1  zip2  zip3  \\\n30904         3.551965     3     105.780091     0     0     1     0   \n444868        3.847921    25      68.017141     1     0     0     0   \n108744        3.063158    13      69.490519     1     0     0     0   \n70040         3.035536     8      93.046877     0     0     1     0   \n22784         3.313146     2      92.865916     0     0     1     0   \n\n        occupation0  occupation1  occupation2  target  \n30904             1            0            0       0  \n444868            1            0            0       0  \n108744            1            0            0       0  \n70040             1            0            0       0  \n22784             1            0            0       0  ",
      "text/html": "<div>\n<style scoped>\n    .dataframe tbody tr th:only-of-type {\n        vertical-align: middle;\n    }\n\n    .dataframe tbody tr th {\n        vertical-align: top;\n    }\n\n    .dataframe thead th {\n        text-align: right;\n    }\n</style>\n<table border=\"1\" class=\"dataframe\">\n  <thead>\n    <tr style=\"text-align: right;\">\n      <th></th>\n      <th>minority</th>\n      <th>sex</th>\n      <th>rent</th>\n      <th>education</th>\n      <th>age</th>\n      <th>income</th>\n      <th>loan_size</th>\n      <th>payment_timing</th>\n      <th>year</th>\n      <th>job_stability</th>\n      <th>zip0</th>\n      <th>zip1</th>\n      <th>zip2</th>\n      <th>zip3</th>\n      <th>occupation0</th>\n      <th>occupation1</th>\n      <th>occupation2</th>\n      <th>target</th>\n    </tr>\n  </thead>\n  <tbody>\n    <tr>\n      <th>30904</th>\n      <td>0</td>\n      <td>0</td>\n      <td>0</td>\n      <td>48.176872</td>\n      <td>26.317294</td>\n      <td>157549.271805</td>\n      <td>2000.242026</td>\n      <td>3.551965</td>\n      <td>3</td>\n      <td>105.780091</td>\n      <td>0</td>\n      <td>0</td>\n      <td>1</td>\n      <td>0</td>\n      <td>1</td>\n      <td>0</td>\n      <td>0</td>\n      <td>0</td>\n    </tr>\n    <tr>\n      <th>444868</th>\n      <td>0</td>\n      <td>0</td>\n      <td>0</td>\n      <td>51.825095</td>\n      <td>36.562255</td>\n      <td>186519.369146</td>\n      <td>6757.303106</td>\n      <td>3.847921</td>\n      <td>25</td>\n      <td>68.017141</td>\n      <td>1</td>\n      <td>0</td>\n      <td>0</td>\n      <td>0</td>\n      <td>1</td>\n      <td>0</td>\n      <td>0</td>\n      <td>0</td>\n    </tr>\n    <tr>\n      <th>108744</th>\n      <td>0</td>\n      <td>0</td>\n      <td>0</td>\n      <td>42.189577</td>\n      <td>50.034772</td>\n      <td>165075.925983</td>\n      <td>2403.646196</td>\n      <td>3.063158</td>\n      <td>13</td>\n      <td>69.490519</td>\n      <td>1</td>\n      <td>0</td>\n      <td>0</td>\n      <td>0</td>\n      <td>1</td>\n      <td>0</td>\n      <td>0</td>\n      <td>0</td>\n    </tr>\n    <tr>\n      <th>70040</th>\n      <td>0</td>\n      <td>0</td>\n      <td>0</td>\n      <td>54.107744</td>\n      <td>37.491322</td>\n      <td>196092.388754</td>\n      <td>9541.460967</td>\n      <td>3.035536</td>\n      <td>8</td>\n      <td>93.046877</td>\n      <td>0</td>\n      <td>0</td>\n      <td>1</td>\n      <td>0</td>\n      <td>1</td>\n      <td>0</td>\n      <td>0</td>\n      <td>0</td>\n    </tr>\n    <tr>\n      <th>22784</th>\n      <td>0</td>\n      <td>0</td>\n      <td>0</td>\n      <td>51.002096</td>\n      <td>46.385160</td>\n      <td>195693.999298</td>\n      <td>3467.941990</td>\n      <td>3.313146</td>\n      <td>2</td>\n      <td>92.865916</td>\n      <td>0</td>\n      <td>0</td>\n      <td>1</td>\n      <td>0</td>\n      <td>1</td>\n      <td>0</td>\n      <td>0</td>\n      <td>0</td>\n    </tr>\n  </tbody>\n</table>\n</div>"
     },
     "execution_count": 39,
     "metadata": {},
     "output_type": "execute_result"
    }
   ],
   "source": [
    "sample_maj_f_0"
   ],
   "metadata": {
    "collapsed": false,
    "pycharm": {
     "name": "#%%\n"
    }
   }
  }
 ],
 "metadata": {
  "kernelspec": {
   "display_name": "Python 3",
   "language": "python",
   "name": "python3"
  },
  "language_info": {
   "codemirror_mode": {
    "name": "ipython",
    "version": 2
   },
   "file_extension": ".py",
   "mimetype": "text/x-python",
   "name": "python",
   "nbconvert_exporter": "python",
   "pygments_lexer": "ipython2",
   "version": "2.7.6"
  }
 },
 "nbformat": 4,
 "nbformat_minor": 0
}