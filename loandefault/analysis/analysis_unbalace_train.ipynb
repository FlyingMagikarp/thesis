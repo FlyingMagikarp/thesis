{
 "cells": [
  {
   "cell_type": "markdown",
   "source": [
    "# Analysis CC"
   ],
   "metadata": {
    "collapsed": false
   }
  },
  {
   "cell_type": "code",
   "execution_count": 46,
   "outputs": [],
   "source": [
    "import pandas as pd\n",
    "import numpy as np\n",
    "import matplotlib.pyplot as plt\n",
    "%matplotlib notebook"
   ],
   "metadata": {
    "collapsed": false
   }
  },
  {
   "cell_type": "code",
   "execution_count": 47,
   "outputs": [
    {
     "data": {
      "text/plain": "   minority  sex  rent  education        age         income    loan_size  \\\n0         1    0     1  57.230650  36.050927  205168.022244  7600.292199   \n1         1    0     1  45.891343  59.525251  187530.409981  5534.271289   \n2         1    0     1  46.775489  67.338108  196912.006690  2009.903438   \n3         1    0     1  41.784839  24.067401  132911.650615  3112.280893   \n4         1    0     1  41.744838  47.496605  161162.551205  1372.077093   \n\n   payment_timing  year  job_stability  zip0  zip1  zip2  zip3  occupation0  \\\n0        3.302193     0       3.015554     0     1     0     0            0   \n1        3.843058     0       5.938132     0     1     0     0            0   \n2        2.059034     0       2.190777     0     1     0     0            0   \n3        3.936169     0       1.725860     0     1     0     0            0   \n4        3.709910     0       0.883104     0     1     0     0            0   \n\n   occupation1  occupation2  target  \n0            1            0       1  \n1            1            0       1  \n2            1            0       1  \n3            1            0       1  \n4            1            0       1  ",
      "text/html": "<div>\n<style scoped>\n    .dataframe tbody tr th:only-of-type {\n        vertical-align: middle;\n    }\n\n    .dataframe tbody tr th {\n        vertical-align: top;\n    }\n\n    .dataframe thead th {\n        text-align: right;\n    }\n</style>\n<table border=\"1\" class=\"dataframe\">\n  <thead>\n    <tr style=\"text-align: right;\">\n      <th></th>\n      <th>minority</th>\n      <th>sex</th>\n      <th>rent</th>\n      <th>education</th>\n      <th>age</th>\n      <th>income</th>\n      <th>loan_size</th>\n      <th>payment_timing</th>\n      <th>year</th>\n      <th>job_stability</th>\n      <th>zip0</th>\n      <th>zip1</th>\n      <th>zip2</th>\n      <th>zip3</th>\n      <th>occupation0</th>\n      <th>occupation1</th>\n      <th>occupation2</th>\n      <th>target</th>\n    </tr>\n  </thead>\n  <tbody>\n    <tr>\n      <th>0</th>\n      <td>1</td>\n      <td>0</td>\n      <td>1</td>\n      <td>57.230650</td>\n      <td>36.050927</td>\n      <td>205168.022244</td>\n      <td>7600.292199</td>\n      <td>3.302193</td>\n      <td>0</td>\n      <td>3.015554</td>\n      <td>0</td>\n      <td>1</td>\n      <td>0</td>\n      <td>0</td>\n      <td>0</td>\n      <td>1</td>\n      <td>0</td>\n      <td>1</td>\n    </tr>\n    <tr>\n      <th>1</th>\n      <td>1</td>\n      <td>0</td>\n      <td>1</td>\n      <td>45.891343</td>\n      <td>59.525251</td>\n      <td>187530.409981</td>\n      <td>5534.271289</td>\n      <td>3.843058</td>\n      <td>0</td>\n      <td>5.938132</td>\n      <td>0</td>\n      <td>1</td>\n      <td>0</td>\n      <td>0</td>\n      <td>0</td>\n      <td>1</td>\n      <td>0</td>\n      <td>1</td>\n    </tr>\n    <tr>\n      <th>2</th>\n      <td>1</td>\n      <td>0</td>\n      <td>1</td>\n      <td>46.775489</td>\n      <td>67.338108</td>\n      <td>196912.006690</td>\n      <td>2009.903438</td>\n      <td>2.059034</td>\n      <td>0</td>\n      <td>2.190777</td>\n      <td>0</td>\n      <td>1</td>\n      <td>0</td>\n      <td>0</td>\n      <td>0</td>\n      <td>1</td>\n      <td>0</td>\n      <td>1</td>\n    </tr>\n    <tr>\n      <th>3</th>\n      <td>1</td>\n      <td>0</td>\n      <td>1</td>\n      <td>41.784839</td>\n      <td>24.067401</td>\n      <td>132911.650615</td>\n      <td>3112.280893</td>\n      <td>3.936169</td>\n      <td>0</td>\n      <td>1.725860</td>\n      <td>0</td>\n      <td>1</td>\n      <td>0</td>\n      <td>0</td>\n      <td>0</td>\n      <td>1</td>\n      <td>0</td>\n      <td>1</td>\n    </tr>\n    <tr>\n      <th>4</th>\n      <td>1</td>\n      <td>0</td>\n      <td>1</td>\n      <td>41.744838</td>\n      <td>47.496605</td>\n      <td>161162.551205</td>\n      <td>1372.077093</td>\n      <td>3.709910</td>\n      <td>0</td>\n      <td>0.883104</td>\n      <td>0</td>\n      <td>1</td>\n      <td>0</td>\n      <td>0</td>\n      <td>0</td>\n      <td>1</td>\n      <td>0</td>\n      <td>1</td>\n    </tr>\n  </tbody>\n</table>\n</div>"
     },
     "execution_count": 47,
     "metadata": {},
     "output_type": "execute_result"
    }
   ],
   "source": [
    "df = pd.read_csv('../data/train_clean.csv')\n",
    "#df2 = pd.read_csv('../data/test_clean.csv')\n",
    "#df = pd.concat([df, df2])\n",
    "df.head()"
   ],
   "metadata": {
    "collapsed": false
   }
  },
  {
   "cell_type": "code",
   "execution_count": 48,
   "outputs": [
    {
     "name": "stdout",
     "output_type": "stream",
     "text": [
      "480000 240000 240000\n"
     ]
    }
   ],
   "source": [
    "total = len(df)\n",
    "df_male = df.loc[df['sex']==1]\n",
    "total_male = len(df_male)\n",
    "df_female = df.loc[df['sex']==0]\n",
    "total_female = len(df_female)\n",
    "print(total, total_male, total_female)"
   ],
   "metadata": {
    "collapsed": false
   }
  },
  {
   "cell_type": "code",
   "execution_count": 49,
   "outputs": [
    {
     "name": "stdout",
     "output_type": "stream",
     "text": [
      "240000 119927 120073\n"
     ]
    }
   ],
   "source": [
    "df_male_def = df_male.loc[df_male['target'] == 1]\n",
    "df_male_ndf = df_male.loc[df_male['target'] == 0]\n",
    "print(total_male, len(df_male_def), len(df_male_ndf))"
   ],
   "metadata": {
    "collapsed": false
   }
  },
  {
   "cell_type": "code",
   "execution_count": 50,
   "outputs": [
    {
     "name": "stdout",
     "output_type": "stream",
     "text": [
      "240000 120111 119889\n"
     ]
    }
   ],
   "source": [
    "df_male_min = df_male.loc[df_male['minority'] == 1]\n",
    "df_male_maj = df_male.loc[df_male['minority'] == 0]\n",
    "print(total_male, len(df_male_maj), len(df_male_min))"
   ],
   "metadata": {
    "collapsed": false
   }
  },
  {
   "cell_type": "code",
   "execution_count": 51,
   "outputs": [
    {
     "name": "stdout",
     "output_type": "stream",
     "text": [
      "119889 119741 148\n"
     ]
    }
   ],
   "source": [
    "df_male_min_def = df_male_min.loc[df_male_min['target'] == 1]\n",
    "df_male_min_ndf = df_male_min.loc[df_male_min['target'] == 0]\n",
    "print(len(df_male_min), len(df_male_min_def), len(df_male_min_ndf))"
   ],
   "metadata": {
    "collapsed": false
   }
  },
  {
   "cell_type": "code",
   "execution_count": 52,
   "outputs": [
    {
     "name": "stdout",
     "output_type": "stream",
     "text": [
      "Total Entires 480000\n",
      "Default 239927\n",
      "NO Default 240073\n",
      "#####\n",
      "Male 240000\n",
      "Female 240000\n",
      "Male Default 119927\n",
      "Female Default 120000\n",
      "#####\n",
      "Majority 240167\n",
      "Minorities 239833\n",
      "Majority Default 349\n",
      "Minority Default 239578\n"
     ]
    }
   ],
   "source": [
    "print('Total Entires', len(df))\n",
    "print('Default', len(df.loc[df['target'] == 1]))\n",
    "print('NO Default', len(df.loc[df['target'] == 0]))\n",
    "print('#####')\n",
    "print('Male', len(df.loc[df['sex'] == 1]))\n",
    "print('Female', len(df.loc[df['sex'] == 0]))\n",
    "print('Male Default', len(df.loc[(df['sex'] == 1) & (df['target'] == 1)]))\n",
    "print('Female Default', len(df.loc[(df['sex'] == 0) & (df['target'] == 1)]))\n",
    "print('#####')\n",
    "print('Majority', len(df.loc[df['minority'] == 0]))\n",
    "print('Minorities', len(df.loc[df['minority'] == 1]))\n",
    "print('Majority Default', len(df.loc[(df['minority'] == 0) & (df['target'] == 1)]))\n",
    "print('Minority Default', len(df.loc[(df['minority'] == 1) & (df['target'] == 1)]))"
   ],
   "metadata": {
    "collapsed": false
   }
  },
  {
   "cell_type": "code",
   "execution_count": 53,
   "outputs": [
    {
     "name": "stdout",
     "output_type": "stream",
     "text": [
      "Majority/Minority Split 480000 240167 239833\n",
      "Minorities default/no default 239833 239578 255\n",
      "Majorities default/no default 240167 349 239818\n",
      "-----\n"
     ]
    }
   ],
   "source": [
    "# test\n",
    "df_min = df.loc[df['minority'] == 1]\n",
    "df_maj = df.loc[df['minority'] == 0]\n",
    "print('Majority/Minority Split', total, len(df_maj), len(df_min))\n",
    "\n",
    "df_min_def = df_min.loc[df_min['target'] == 1]\n",
    "df_min_ndf = df_min.loc[df_min['target'] == 0]\n",
    "print('Minorities default/no default', len(df_min), len(df_min_def), len(df_min_ndf))\n",
    "\n",
    "df_maj_def = df_maj.loc[df_maj['target'] == 1]\n",
    "df_maj_ndf = df_maj.loc[df_maj['target'] == 0]\n",
    "print('Majorities default/no default', len(df_maj), len(df_maj_def), len(df_maj_ndf))\n",
    "print('-----')\n",
    "\n",
    "# maj * 687\n",
    "# min * 939"
   ],
   "metadata": {
    "collapsed": false
   }
  },
  {
   "cell_type": "code",
   "execution_count": 54,
   "outputs": [
    {
     "name": "stdout",
     "output_type": "stream",
     "text": [
      "239414\n",
      "239445\n"
     ]
    }
   ],
   "source": [
    "# balancding maj/min\n",
    "df_maj_tmp = pd.concat([df_maj_def]*686)\n",
    "print(len(df_maj_tmp))\n",
    "\n",
    "df_min_tmp = pd.concat([df_min_ndf]*939)\n",
    "print(len(df_min_tmp))"
   ],
   "metadata": {
    "collapsed": false
   }
  },
  {
   "cell_type": "code",
   "execution_count": 55,
   "outputs": [],
   "source": [
    "df_maj = pd.concat([df_maj, df_maj_tmp])\n",
    "df_min = pd.concat([df_min, df_min_tmp])"
   ],
   "metadata": {
    "collapsed": false
   }
  },
  {
   "cell_type": "code",
   "execution_count": 56,
   "outputs": [
    {
     "name": "stdout",
     "output_type": "stream",
     "text": [
      "Majority/Minority Split 480000 479581 479278\n",
      "Minorities default/no default 479278 239578 239700\n",
      "Majorities default/no default 479581 239763 239818\n",
      "-----\n"
     ]
    }
   ],
   "source": [
    "\n",
    "print('Majority/Minority Split', total, len(df_maj), len(df_min))\n",
    "\n",
    "df_min_def = df_min.loc[df_min['target'] == 1]\n",
    "df_min_ndf = df_min.loc[df_min['target'] == 0]\n",
    "print('Minorities default/no default', len(df_min), len(df_min_def), len(df_min_ndf))\n",
    "\n",
    "df_maj_def = df_maj.loc[df_maj['target'] == 1]\n",
    "df_maj_ndf = df_maj.loc[df_maj['target'] == 0]\n",
    "print('Majorities default/no default', len(df_maj), len(df_maj_def), len(df_maj_ndf))\n",
    "print('-----')\n",
    "\n",
    "# maj * 687\n",
    "# min * 939"
   ],
   "metadata": {
    "collapsed": false
   }
  },
  {
   "cell_type": "code",
   "execution_count": 57,
   "outputs": [],
   "source": [
    "df_balanced = pd.concat([df_maj, df_min])"
   ],
   "metadata": {
    "collapsed": false
   }
  },
  {
   "cell_type": "code",
   "execution_count": 58,
   "outputs": [],
   "source": [
    "# export to csv\n",
    "df_balanced.to_csv('../data/balanced_data_train.csv', index=False)"
   ],
   "metadata": {
    "collapsed": false
   }
  }
 ],
 "metadata": {
  "kernelspec": {
   "display_name": "Python 3",
   "language": "python",
   "name": "python3"
  },
  "language_info": {
   "codemirror_mode": {
    "name": "ipython",
    "version": 2
   },
   "file_extension": ".py",
   "mimetype": "text/x-python",
   "name": "python",
   "nbconvert_exporter": "python",
   "pygments_lexer": "ipython2",
   "version": "2.7.6"
  }
 },
 "nbformat": 4,
 "nbformat_minor": 0
}
