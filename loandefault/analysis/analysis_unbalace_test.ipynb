{
 "cells": [
  {
   "cell_type": "markdown",
   "source": [
    "# Analysis CC"
   ],
   "metadata": {
    "collapsed": false
   }
  },
  {
   "cell_type": "code",
   "execution_count": 42,
   "outputs": [],
   "source": [
    "import pandas as pd\n",
    "import numpy as np\n",
    "import matplotlib.pyplot as plt\n",
    "%matplotlib notebook"
   ],
   "metadata": {
    "collapsed": false
   }
  },
  {
   "cell_type": "code",
   "execution_count": 43,
   "outputs": [
    {
     "data": {
      "text/plain": "   minority  sex  rent  education        age         income    loan_size  \\\n0         1    0     1  51.265723  25.710781  166455.209729  8064.951996   \n1         0    0     0  58.882849  39.689510  216752.885725  7166.701945   \n2         0    0     0  56.504545  25.847324  183764.480788  3322.045258   \n3         1    0     1  47.074111  26.381109  154057.004978    15.223904   \n4         1    0     1  48.916960  18.779902  143463.038107  7860.534547   \n\n   payment_timing  year  job_stability  zip0  zip1  zip2  zip3  occupation0  \\\n0        3.874735    30      43.764963     0     1     0     0            0   \n1        3.809001    30      46.903977     0     1     0     0            1   \n2        3.497214    30      63.453467     0     1     0     0            1   \n3        3.535370    30      56.243840     0     1     0     0            0   \n4        3.663330    30      49.884194     0     1     0     0            0   \n\n   occupation1  occupation2  target  \n0            1            0       1  \n1            0            0       0  \n2            0            0       0  \n3            1            0       0  \n4            1            0       0  ",
      "text/html": "<div>\n<style scoped>\n    .dataframe tbody tr th:only-of-type {\n        vertical-align: middle;\n    }\n\n    .dataframe tbody tr th {\n        vertical-align: top;\n    }\n\n    .dataframe thead th {\n        text-align: right;\n    }\n</style>\n<table border=\"1\" class=\"dataframe\">\n  <thead>\n    <tr style=\"text-align: right;\">\n      <th></th>\n      <th>minority</th>\n      <th>sex</th>\n      <th>rent</th>\n      <th>education</th>\n      <th>age</th>\n      <th>income</th>\n      <th>loan_size</th>\n      <th>payment_timing</th>\n      <th>year</th>\n      <th>job_stability</th>\n      <th>zip0</th>\n      <th>zip1</th>\n      <th>zip2</th>\n      <th>zip3</th>\n      <th>occupation0</th>\n      <th>occupation1</th>\n      <th>occupation2</th>\n      <th>target</th>\n    </tr>\n  </thead>\n  <tbody>\n    <tr>\n      <th>0</th>\n      <td>1</td>\n      <td>0</td>\n      <td>1</td>\n      <td>51.265723</td>\n      <td>25.710781</td>\n      <td>166455.209729</td>\n      <td>8064.951996</td>\n      <td>3.874735</td>\n      <td>30</td>\n      <td>43.764963</td>\n      <td>0</td>\n      <td>1</td>\n      <td>0</td>\n      <td>0</td>\n      <td>0</td>\n      <td>1</td>\n      <td>0</td>\n      <td>1</td>\n    </tr>\n    <tr>\n      <th>1</th>\n      <td>0</td>\n      <td>0</td>\n      <td>0</td>\n      <td>58.882849</td>\n      <td>39.689510</td>\n      <td>216752.885725</td>\n      <td>7166.701945</td>\n      <td>3.809001</td>\n      <td>30</td>\n      <td>46.903977</td>\n      <td>0</td>\n      <td>1</td>\n      <td>0</td>\n      <td>0</td>\n      <td>1</td>\n      <td>0</td>\n      <td>0</td>\n      <td>0</td>\n    </tr>\n    <tr>\n      <th>2</th>\n      <td>0</td>\n      <td>0</td>\n      <td>0</td>\n      <td>56.504545</td>\n      <td>25.847324</td>\n      <td>183764.480788</td>\n      <td>3322.045258</td>\n      <td>3.497214</td>\n      <td>30</td>\n      <td>63.453467</td>\n      <td>0</td>\n      <td>1</td>\n      <td>0</td>\n      <td>0</td>\n      <td>1</td>\n      <td>0</td>\n      <td>0</td>\n      <td>0</td>\n    </tr>\n    <tr>\n      <th>3</th>\n      <td>1</td>\n      <td>0</td>\n      <td>1</td>\n      <td>47.074111</td>\n      <td>26.381109</td>\n      <td>154057.004978</td>\n      <td>15.223904</td>\n      <td>3.535370</td>\n      <td>30</td>\n      <td>56.243840</td>\n      <td>0</td>\n      <td>1</td>\n      <td>0</td>\n      <td>0</td>\n      <td>0</td>\n      <td>1</td>\n      <td>0</td>\n      <td>0</td>\n    </tr>\n    <tr>\n      <th>4</th>\n      <td>1</td>\n      <td>0</td>\n      <td>1</td>\n      <td>48.916960</td>\n      <td>18.779902</td>\n      <td>143463.038107</td>\n      <td>7860.534547</td>\n      <td>3.663330</td>\n      <td>30</td>\n      <td>49.884194</td>\n      <td>0</td>\n      <td>1</td>\n      <td>0</td>\n      <td>0</td>\n      <td>0</td>\n      <td>1</td>\n      <td>0</td>\n      <td>0</td>\n    </tr>\n  </tbody>\n</table>\n</div>"
     },
     "execution_count": 43,
     "metadata": {},
     "output_type": "execute_result"
    }
   ],
   "source": [
    "df = pd.read_csv('../data/test_clean.csv')\n",
    "#df2 = pd.read_csv('../data/test_clean.csv')\n",
    "#df = pd.concat([df, df2])\n",
    "df.head()"
   ],
   "metadata": {
    "collapsed": false
   }
  },
  {
   "cell_type": "code",
   "execution_count": 44,
   "outputs": [
    {
     "name": "stdout",
     "output_type": "stream",
     "text": [
      "160000 80000 80000\n"
     ]
    }
   ],
   "source": [
    "total = len(df)\n",
    "df_male = df.loc[df['sex']==1]\n",
    "total_male = len(df_male)\n",
    "df_female = df.loc[df['sex']==0]\n",
    "total_female = len(df_female)\n",
    "print(total, total_male, total_female)"
   ],
   "metadata": {
    "collapsed": false
   }
  },
  {
   "cell_type": "code",
   "execution_count": 45,
   "outputs": [
    {
     "name": "stdout",
     "output_type": "stream",
     "text": [
      "80000 11948 68052\n"
     ]
    }
   ],
   "source": [
    "df_male_def = df_male.loc[df_male['target'] == 1]\n",
    "df_male_ndf = df_male.loc[df_male['target'] == 0]\n",
    "print(total_male, len(df_male_def), len(df_male_ndf))"
   ],
   "metadata": {
    "collapsed": false
   }
  },
  {
   "cell_type": "code",
   "execution_count": 46,
   "outputs": [
    {
     "name": "stdout",
     "output_type": "stream",
     "text": [
      "80000 39786 40214\n"
     ]
    }
   ],
   "source": [
    "df_male_min = df_male.loc[df_male['minority'] == 1]\n",
    "df_male_maj = df_male.loc[df_male['minority'] == 0]\n",
    "print(total_male, len(df_male_maj), len(df_male_min))"
   ],
   "metadata": {
    "collapsed": false
   }
  },
  {
   "cell_type": "code",
   "execution_count": 47,
   "outputs": [
    {
     "name": "stdout",
     "output_type": "stream",
     "text": [
      "40214 5978 34236\n"
     ]
    }
   ],
   "source": [
    "df_male_min_def = df_male_min.loc[df_male_min['target'] == 1]\n",
    "df_male_min_ndf = df_male_min.loc[df_male_min['target'] == 0]\n",
    "print(len(df_male_min), len(df_male_min_def), len(df_male_min_ndf))"
   ],
   "metadata": {
    "collapsed": false
   }
  },
  {
   "cell_type": "code",
   "execution_count": 48,
   "outputs": [
    {
     "name": "stdout",
     "output_type": "stream",
     "text": [
      "Total Entires 160000\n",
      "Default 23945\n",
      "NO Default 136055\n",
      "#####\n",
      "Male 80000\n",
      "Female 80000\n",
      "Male Default 11948\n",
      "Female Default 11997\n",
      "#####\n",
      "Majority 79652\n",
      "Minorities 80348\n",
      "Majority Default 11869\n",
      "Minority Default 12076\n"
     ]
    }
   ],
   "source": [
    "print('Total Entires', len(df))\n",
    "print('Default', len(df.loc[df['target'] == 1]))\n",
    "print('NO Default', len(df.loc[df['target'] == 0]))\n",
    "print('#####')\n",
    "print('Male', len(df.loc[df['sex'] == 1]))\n",
    "print('Female', len(df.loc[df['sex'] == 0]))\n",
    "print('Male Default', len(df.loc[(df['sex'] == 1) & (df['target'] == 1)]))\n",
    "print('Female Default', len(df.loc[(df['sex'] == 0) & (df['target'] == 1)]))\n",
    "print('#####')\n",
    "print('Majority', len(df.loc[df['minority'] == 0]))\n",
    "print('Minorities', len(df.loc[df['minority'] == 1]))\n",
    "print('Majority Default', len(df.loc[(df['minority'] == 0) & (df['target'] == 1)]))\n",
    "print('Minority Default', len(df.loc[(df['minority'] == 1) & (df['target'] == 1)]))"
   ],
   "metadata": {
    "collapsed": false
   }
  },
  {
   "cell_type": "code",
   "execution_count": 49,
   "outputs": [
    {
     "name": "stdout",
     "output_type": "stream",
     "text": [
      "Majority/Minority Split 160000 79652 80348\n",
      "Minorities default/no default 80348 12076 68272\n",
      "Majorities default/no default 79652 11869 67783\n",
      "-----\n"
     ]
    }
   ],
   "source": [
    "# test\n",
    "df_min = df.loc[df['minority'] == 1]\n",
    "df_maj = df.loc[df['minority'] == 0]\n",
    "print('Majority/Minority Split', total, len(df_maj), len(df_min))\n",
    "\n",
    "df_min_def = df_min.loc[df_min['target'] == 1]\n",
    "df_min_ndf = df_min.loc[df_min['target'] == 0]\n",
    "print('Minorities default/no default', len(df_min), len(df_min_def), len(df_min_ndf))\n",
    "\n",
    "df_maj_def = df_maj.loc[df_maj['target'] == 1]\n",
    "df_maj_ndf = df_maj.loc[df_maj['target'] == 0]\n",
    "print('Majorities default/no default', len(df_maj), len(df_maj_def), len(df_maj_ndf))\n",
    "print('-----')\n",
    "\n",
    "# maj * 687\n",
    "# min * 939"
   ],
   "metadata": {
    "collapsed": false
   }
  },
  {
   "cell_type": "code",
   "execution_count": 50,
   "outputs": [
    {
     "name": "stdout",
     "output_type": "stream",
     "text": [
      "47476\n",
      "48304\n"
     ]
    }
   ],
   "source": [
    "# balancding maj/min\n",
    "df_maj_tmp = pd.concat([df_maj_def]*4)\n",
    "print(len(df_maj_tmp))\n",
    "\n",
    "df_min_tmp = pd.concat([df_min_def]*4)\n",
    "print(len(df_min_tmp))"
   ],
   "metadata": {
    "collapsed": false
   }
  },
  {
   "cell_type": "code",
   "execution_count": 51,
   "outputs": [],
   "source": [
    "df_maj = pd.concat([df_maj, df_maj_tmp])\n",
    "df_min = pd.concat([df_min, df_min_tmp])"
   ],
   "metadata": {
    "collapsed": false
   }
  },
  {
   "cell_type": "code",
   "execution_count": 52,
   "outputs": [
    {
     "name": "stdout",
     "output_type": "stream",
     "text": [
      "Majority/Minority Split 160000 127128 128652\n",
      "Minorities default/no default 128652 60380 68272\n",
      "Majorities default/no default 127128 59345 67783\n",
      "-----\n"
     ]
    }
   ],
   "source": [
    "\n",
    "print('Majority/Minority Split', total, len(df_maj), len(df_min))\n",
    "\n",
    "df_min_def = df_min.loc[df_min['target'] == 1]\n",
    "df_min_ndf = df_min.loc[df_min['target'] == 0]\n",
    "print('Minorities default/no default', len(df_min), len(df_min_def), len(df_min_ndf))\n",
    "\n",
    "df_maj_def = df_maj.loc[df_maj['target'] == 1]\n",
    "df_maj_ndf = df_maj.loc[df_maj['target'] == 0]\n",
    "print('Majorities default/no default', len(df_maj), len(df_maj_def), len(df_maj_ndf))\n",
    "print('-----')"
   ],
   "metadata": {
    "collapsed": false
   }
  },
  {
   "cell_type": "code",
   "execution_count": 53,
   "outputs": [],
   "source": [
    "df_balanced = pd.concat([df_maj, df_min])"
   ],
   "metadata": {
    "collapsed": false
   }
  },
  {
   "cell_type": "code",
   "execution_count": 54,
   "outputs": [],
   "source": [
    "# export to csv\n",
    "df_balanced.to_csv('../data/balanced_data_test.csv', index=False)"
   ],
   "metadata": {
    "collapsed": false
   }
  }
 ],
 "metadata": {
  "kernelspec": {
   "display_name": "Python 3",
   "language": "python",
   "name": "python3"
  },
  "language_info": {
   "codemirror_mode": {
    "name": "ipython",
    "version": 2
   },
   "file_extension": ".py",
   "mimetype": "text/x-python",
   "name": "python",
   "nbconvert_exporter": "python",
   "pygments_lexer": "ipython2",
   "version": "2.7.6"
  }
 },
 "nbformat": 4,
 "nbformat_minor": 0
}
