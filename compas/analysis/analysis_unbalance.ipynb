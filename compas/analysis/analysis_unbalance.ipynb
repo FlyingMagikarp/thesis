{
 "cells": [
  {
   "cell_type": "markdown",
   "source": [
    "# COMPAS Dataset Analysis"
   ],
   "metadata": {
    "collapsed": false
   }
  },
  {
   "cell_type": "code",
   "execution_count": 9,
   "outputs": [],
   "source": [
    "import pandas as pd\n",
    "from sklearn.linear_model import LogisticRegression\n",
    "import numpy as np\n",
    "import matplotlib.pyplot as plt\n",
    "%matplotlib notebook"
   ],
   "metadata": {
    "collapsed": false
   }
  },
  {
   "cell_type": "code",
   "execution_count": 10,
   "outputs": [
    {
     "data": {
      "text/plain": "   Two_yr_Recidivism  Number_of_Priors  score_factor  Age_Above_FourtyFive  \\\n0                  1                14             1                     0   \n1                  0                 0             0                     0   \n2                  0                 0             0                     0   \n3                  0                 0             0                     0   \n4                  1                 1             0                     1   \n\n   Age_Below_TwentyFive  Caucasian  African_American  Asian  Hispanic  \\\n0                     0          1                 0      0         0   \n1                     0          1                 0      0         0   \n2                     0          1                 0      0         0   \n3                     0          1                 0      0         0   \n4                     0          1                 0      0         0   \n\n   Native_American  Other  Female  Misdemeanor  \n0                0      0       0            0  \n1                0      0       1            1  \n2                0      0       0            0  \n3                0      0       1            1  \n4                0      0       1            0  ",
      "text/html": "<div>\n<style scoped>\n    .dataframe tbody tr th:only-of-type {\n        vertical-align: middle;\n    }\n\n    .dataframe tbody tr th {\n        vertical-align: top;\n    }\n\n    .dataframe thead th {\n        text-align: right;\n    }\n</style>\n<table border=\"1\" class=\"dataframe\">\n  <thead>\n    <tr style=\"text-align: right;\">\n      <th></th>\n      <th>Two_yr_Recidivism</th>\n      <th>Number_of_Priors</th>\n      <th>score_factor</th>\n      <th>Age_Above_FourtyFive</th>\n      <th>Age_Below_TwentyFive</th>\n      <th>Caucasian</th>\n      <th>African_American</th>\n      <th>Asian</th>\n      <th>Hispanic</th>\n      <th>Native_American</th>\n      <th>Other</th>\n      <th>Female</th>\n      <th>Misdemeanor</th>\n    </tr>\n  </thead>\n  <tbody>\n    <tr>\n      <th>0</th>\n      <td>1</td>\n      <td>14</td>\n      <td>1</td>\n      <td>0</td>\n      <td>0</td>\n      <td>1</td>\n      <td>0</td>\n      <td>0</td>\n      <td>0</td>\n      <td>0</td>\n      <td>0</td>\n      <td>0</td>\n      <td>0</td>\n    </tr>\n    <tr>\n      <th>1</th>\n      <td>0</td>\n      <td>0</td>\n      <td>0</td>\n      <td>0</td>\n      <td>0</td>\n      <td>1</td>\n      <td>0</td>\n      <td>0</td>\n      <td>0</td>\n      <td>0</td>\n      <td>0</td>\n      <td>1</td>\n      <td>1</td>\n    </tr>\n    <tr>\n      <th>2</th>\n      <td>0</td>\n      <td>0</td>\n      <td>0</td>\n      <td>0</td>\n      <td>0</td>\n      <td>1</td>\n      <td>0</td>\n      <td>0</td>\n      <td>0</td>\n      <td>0</td>\n      <td>0</td>\n      <td>0</td>\n      <td>0</td>\n    </tr>\n    <tr>\n      <th>3</th>\n      <td>0</td>\n      <td>0</td>\n      <td>0</td>\n      <td>0</td>\n      <td>0</td>\n      <td>1</td>\n      <td>0</td>\n      <td>0</td>\n      <td>0</td>\n      <td>0</td>\n      <td>0</td>\n      <td>1</td>\n      <td>1</td>\n    </tr>\n    <tr>\n      <th>4</th>\n      <td>1</td>\n      <td>1</td>\n      <td>0</td>\n      <td>1</td>\n      <td>0</td>\n      <td>1</td>\n      <td>0</td>\n      <td>0</td>\n      <td>0</td>\n      <td>0</td>\n      <td>0</td>\n      <td>1</td>\n      <td>0</td>\n    </tr>\n  </tbody>\n</table>\n</div>"
     },
     "execution_count": 10,
     "metadata": {},
     "output_type": "execute_result"
    }
   ],
   "source": [
    "df = pd.read_csv('../data/data_with_caucasian.csv')\n",
    "df.head()"
   ],
   "metadata": {
    "collapsed": false
   }
  },
  {
   "cell_type": "code",
   "execution_count": 11,
   "outputs": [
    {
     "data": {
      "text/plain": "0       1\n1       0\n2       0\n3       0\n4       0\n       ..\n6167    1\n6168    0\n6169    0\n6170    0\n6171    0\nName: score_factor, Length: 6172, dtype: int64"
     },
     "execution_count": 11,
     "metadata": {},
     "output_type": "execute_result"
    }
   ],
   "source": [
    "df.pop('score_factor')"
   ],
   "metadata": {
    "collapsed": false
   }
  },
  {
   "cell_type": "code",
   "execution_count": 12,
   "outputs": [
    {
     "name": "stdout",
     "output_type": "stream",
     "text": [
      "6172 4997 4997\n",
      "4997 2396 2601\n",
      "4997 413 762\n"
     ]
    }
   ],
   "source": [
    "total = len(df)\n",
    "male_df = df.loc[df['Female'] == 0]\n",
    "total_male = len(male_df)\n",
    "female_df = df.loc[df['Female'] == 1]\n",
    "total_female = len(male_df)\n",
    "print(total, total_male, total_female)\n",
    "print(total_male, len(male_df.loc[male_df['Two_yr_Recidivism'] == 1]), len(male_df.loc[male_df['Two_yr_Recidivism'] == 0]))\n",
    "print(total_female, len(female_df.loc[female_df['Two_yr_Recidivism'] == 1]), len(female_df.loc[female_df['Two_yr_Recidivism'] == 0]))"
   ],
   "metadata": {
    "collapsed": false
   }
  }
 ],
 "metadata": {
  "kernelspec": {
   "display_name": "Python 3",
   "language": "python",
   "name": "python3"
  },
  "language_info": {
   "codemirror_mode": {
    "name": "ipython",
    "version": 2
   },
   "file_extension": ".py",
   "mimetype": "text/x-python",
   "name": "python",
   "nbconvert_exporter": "python",
   "pygments_lexer": "ipython2",
   "version": "2.7.6"
  }
 },
 "nbformat": 4,
 "nbformat_minor": 0
}
