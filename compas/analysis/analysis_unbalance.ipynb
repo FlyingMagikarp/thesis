{
 "cells": [
  {
   "cell_type": "markdown",
   "source": [
    "# COMPAS Dataset Analysis"
   ],
   "metadata": {
    "collapsed": false,
    "pycharm": {
     "name": "#%% md\n"
    }
   }
  },
  {
   "cell_type": "code",
   "execution_count": 1,
   "outputs": [],
   "source": [
    "import pandas as pd\n",
    "from scipy.constants import femto\n",
    "from sklearn.linear_model import LogisticRegression\n",
    "import numpy as np\n",
    "import matplotlib.pyplot as plt\n",
    "%matplotlib notebook"
   ],
   "metadata": {
    "collapsed": false,
    "pycharm": {
     "name": "#%%\n"
    }
   }
  },
  {
   "cell_type": "code",
   "execution_count": 2,
   "outputs": [
    {
     "data": {
      "text/plain": "   Two_yr_Recidivism  Number_of_Priors  score_factor  Age_Above_FourtyFive  \\\n0                  1                14             1                     0   \n1                  0                 0             0                     0   \n2                  0                 0             0                     0   \n3                  0                 0             0                     0   \n4                  1                 1             0                     1   \n\n   Age_Below_TwentyFive  Caucasian  African_American  Asian  Hispanic  \\\n0                     0          1                 0      0         0   \n1                     0          1                 0      0         0   \n2                     0          1                 0      0         0   \n3                     0          1                 0      0         0   \n4                     0          1                 0      0         0   \n\n   Native_American  Other  Female  Misdemeanor  \n0                0      0       0            0  \n1                0      0       1            1  \n2                0      0       0            0  \n3                0      0       1            1  \n4                0      0       1            0  ",
      "text/html": "<div>\n<style scoped>\n    .dataframe tbody tr th:only-of-type {\n        vertical-align: middle;\n    }\n\n    .dataframe tbody tr th {\n        vertical-align: top;\n    }\n\n    .dataframe thead th {\n        text-align: right;\n    }\n</style>\n<table border=\"1\" class=\"dataframe\">\n  <thead>\n    <tr style=\"text-align: right;\">\n      <th></th>\n      <th>Two_yr_Recidivism</th>\n      <th>Number_of_Priors</th>\n      <th>score_factor</th>\n      <th>Age_Above_FourtyFive</th>\n      <th>Age_Below_TwentyFive</th>\n      <th>Caucasian</th>\n      <th>African_American</th>\n      <th>Asian</th>\n      <th>Hispanic</th>\n      <th>Native_American</th>\n      <th>Other</th>\n      <th>Female</th>\n      <th>Misdemeanor</th>\n    </tr>\n  </thead>\n  <tbody>\n    <tr>\n      <th>0</th>\n      <td>1</td>\n      <td>14</td>\n      <td>1</td>\n      <td>0</td>\n      <td>0</td>\n      <td>1</td>\n      <td>0</td>\n      <td>0</td>\n      <td>0</td>\n      <td>0</td>\n      <td>0</td>\n      <td>0</td>\n      <td>0</td>\n    </tr>\n    <tr>\n      <th>1</th>\n      <td>0</td>\n      <td>0</td>\n      <td>0</td>\n      <td>0</td>\n      <td>0</td>\n      <td>1</td>\n      <td>0</td>\n      <td>0</td>\n      <td>0</td>\n      <td>0</td>\n      <td>0</td>\n      <td>1</td>\n      <td>1</td>\n    </tr>\n    <tr>\n      <th>2</th>\n      <td>0</td>\n      <td>0</td>\n      <td>0</td>\n      <td>0</td>\n      <td>0</td>\n      <td>1</td>\n      <td>0</td>\n      <td>0</td>\n      <td>0</td>\n      <td>0</td>\n      <td>0</td>\n      <td>0</td>\n      <td>0</td>\n    </tr>\n    <tr>\n      <th>3</th>\n      <td>0</td>\n      <td>0</td>\n      <td>0</td>\n      <td>0</td>\n      <td>0</td>\n      <td>1</td>\n      <td>0</td>\n      <td>0</td>\n      <td>0</td>\n      <td>0</td>\n      <td>0</td>\n      <td>1</td>\n      <td>1</td>\n    </tr>\n    <tr>\n      <th>4</th>\n      <td>1</td>\n      <td>1</td>\n      <td>0</td>\n      <td>1</td>\n      <td>0</td>\n      <td>1</td>\n      <td>0</td>\n      <td>0</td>\n      <td>0</td>\n      <td>0</td>\n      <td>0</td>\n      <td>1</td>\n      <td>0</td>\n    </tr>\n  </tbody>\n</table>\n</div>"
     },
     "execution_count": 2,
     "metadata": {},
     "output_type": "execute_result"
    }
   ],
   "source": [
    "df = pd.read_csv('../data/data_with_caucasian.csv')\n",
    "df.head()"
   ],
   "metadata": {
    "collapsed": false,
    "pycharm": {
     "name": "#%%\n"
    }
   }
  },
  {
   "cell_type": "code",
   "execution_count": 3,
   "outputs": [
    {
     "data": {
      "text/plain": "0       1\n1       0\n2       0\n3       0\n4       0\n       ..\n6167    1\n6168    0\n6169    0\n6170    0\n6171    0\nName: score_factor, Length: 6172, dtype: int64"
     },
     "execution_count": 3,
     "metadata": {},
     "output_type": "execute_result"
    }
   ],
   "source": [
    "df.pop('score_factor')"
   ],
   "metadata": {
    "collapsed": false,
    "pycharm": {
     "name": "#%%\n"
    }
   }
  },
  {
   "cell_type": "code",
   "execution_count": 4,
   "outputs": [
    {
     "name": "stdout",
     "output_type": "stream",
     "text": [
      "6172 4997 1175\n",
      "4997 2396 2601\n",
      "1175 413 762\n",
      "Male Rec Rate 47.94876926155693\n",
      "Female Rec Rate 35.148936170212764\n"
     ]
    }
   ],
   "source": [
    "total = len(df)\n",
    "male_df = df.loc[df['Female'] == 0]\n",
    "total_male = len(male_df)\n",
    "female_df = df.loc[df['Female'] == 1]\n",
    "total_female = len(female_df)\n",
    "print(total, total_male, total_female)\n",
    "print(total_male, len(male_df.loc[male_df['Two_yr_Recidivism'] == 1]), len(male_df.loc[male_df['Two_yr_Recidivism'] == 0]))\n",
    "print(total_female, len(female_df.loc[female_df['Two_yr_Recidivism'] == 1]), len(female_df.loc[female_df['Two_yr_Recidivism'] == 0]))\n",
    "print('Male Rec Rate', 100/total_male*len(male_df.loc[male_df['Two_yr_Recidivism'] == 1]))\n",
    "print('Female Rec Rate', 100/total_female*len(female_df.loc[female_df['Two_yr_Recidivism'] == 1]))"
   ],
   "metadata": {
    "collapsed": false,
    "pycharm": {
     "name": "#%%\n"
    }
   }
  },
  {
   "cell_type": "code",
   "execution_count": 5,
   "outputs": [
    {
     "data": {
      "text/plain": "413"
     },
     "execution_count": 5,
     "metadata": {},
     "output_type": "execute_result"
    }
   ],
   "source": [
    "df_fem_rec = female_df.loc[female_df['Two_yr_Recidivism'] == 1]\n",
    "len(df_fem_rec)"
   ],
   "metadata": {
    "collapsed": false,
    "pycharm": {
     "name": "#%%\n"
    }
   }
  },
  {
   "cell_type": "code",
   "execution_count": 6,
   "outputs": [
    {
     "data": {
      "text/plain": "1588"
     },
     "execution_count": 6,
     "metadata": {},
     "output_type": "execute_result"
    }
   ],
   "source": [
    "female_df = pd.concat([female_df, df_fem_rec])\n",
    "len(female_df)"
   ],
   "metadata": {
    "collapsed": false,
    "pycharm": {
     "name": "#%%\n"
    }
   }
  },
  {
   "cell_type": "code",
   "execution_count": 7,
   "outputs": [
    {
     "name": "stdout",
     "output_type": "stream",
     "text": [
      "6172 4997 1588\n",
      "4997 2396 2601\n",
      "1588 826 762\n",
      "Male Rec Rate 47.94876926155693\n",
      "Female Rec Rate 52.015113350125944\n"
     ]
    }
   ],
   "source": [
    "total = len(df)\n",
    "total_male = len(male_df)\n",
    "total_female = len(female_df)\n",
    "print(total, total_male, total_female)\n",
    "print(total_male, len(male_df.loc[male_df['Two_yr_Recidivism'] == 1]), len(male_df.loc[male_df['Two_yr_Recidivism'] == 0]))\n",
    "print(total_female, len(female_df.loc[female_df['Two_yr_Recidivism'] == 1]), len(female_df.loc[female_df['Two_yr_Recidivism'] == 0]))\n",
    "print('Male Rec Rate', 100/total_male*len(male_df.loc[male_df['Two_yr_Recidivism'] == 1]))\n",
    "print('Female Rec Rate', 100/total_female*len(female_df.loc[female_df['Two_yr_Recidivism'] == 1]))"
   ],
   "metadata": {
    "collapsed": false,
    "pycharm": {
     "name": "#%%\n"
    }
   }
  },
  {
   "cell_type": "markdown",
   "source": [
    "### Male Racial Balancing"
   ],
   "metadata": {
    "collapsed": false,
    "pycharm": {
     "name": "#%% md\n"
    }
   }
  },
  {
   "cell_type": "code",
   "execution_count": 8,
   "outputs": [],
   "source": [
    "org_m_caucasian_df = male_df.loc[male_df['Caucasian'] == 1]\n",
    "org_m_afroam_df = male_df.loc[male_df['African_American'] == 1]\n",
    "org_m_asian_df = male_df.loc[male_df['Asian'] == 1]\n",
    "org_m_hispanic_df = male_df.loc[male_df['Hispanic'] == 1]\n",
    "org_m_native_df = male_df.loc[male_df['Native_American'] == 1]\n",
    "org_m_other_df = male_df.loc[male_df['Other'] == 1]\n"
   ],
   "metadata": {
    "collapsed": false,
    "pycharm": {
     "name": "#%%\n"
    }
   }
  },
  {
   "cell_type": "code",
   "execution_count": 9,
   "outputs": [
    {
     "name": "stdout",
     "output_type": "stream",
     "text": [
      "1621 652 969\n",
      "40.22208513263418\n",
      "#####\n",
      "326\n",
      "#####\n",
      "1947 978 969\n",
      "50.23112480739599\n"
     ]
    }
   ],
   "source": [
    "# Caucasian balancing\n",
    "org_m_caucasian_df_rec = org_m_caucasian_df.loc[org_m_caucasian_df['Two_yr_Recidivism'] == 1]\n",
    "org_m_caucasian_df_nor = org_m_caucasian_df.loc[org_m_caucasian_df['Two_yr_Recidivism'] == 0]\n",
    "print(len(org_m_caucasian_df), len(org_m_caucasian_df_rec), len(org_m_caucasian_df_nor))\n",
    "print(100/len(org_m_caucasian_df)*len(org_m_caucasian_df_rec))\n",
    "print('#####')\n",
    "\n",
    "buffer_df = org_m_caucasian_df_rec.drop(org_m_caucasian_df_rec.sample(frac=.5).index)\n",
    "print(len(buffer_df))\n",
    "print('#####')\n",
    "\n",
    "org_m_caucasian_df = pd.concat([org_m_caucasian_df, buffer_df])\n",
    "org_m_caucasian_df_rec = org_m_caucasian_df.loc[org_m_caucasian_df['Two_yr_Recidivism'] == 1]\n",
    "org_m_caucasian_df_nor = org_m_caucasian_df.loc[org_m_caucasian_df['Two_yr_Recidivism'] == 0]\n",
    "\n",
    "print(len(org_m_caucasian_df), len(org_m_caucasian_df_rec), len(org_m_caucasian_df_nor))\n",
    "print(100/len(org_m_caucasian_df)*len(org_m_caucasian_df_rec))"
   ],
   "metadata": {
    "collapsed": false,
    "pycharm": {
     "name": "#%%\n"
    }
   }
  },
  {
   "cell_type": "code",
   "execution_count": 10,
   "outputs": [
    {
     "name": "stdout",
     "output_type": "stream",
     "text": [
      "2626 1458 1168\n",
      "55.521706016755516\n",
      "#####\n",
      "292\n",
      "#####\n",
      "2918 1458 1460\n",
      "49.96572995202193\n"
     ]
    }
   ],
   "source": [
    "# African balancing\n",
    "org_m_african_df_rec = org_m_afroam_df.loc[org_m_afroam_df['Two_yr_Recidivism'] == 1]\n",
    "org_m_african_df_nor = org_m_afroam_df.loc[org_m_afroam_df['Two_yr_Recidivism'] == 0]\n",
    "print(len(org_m_afroam_df), len(org_m_african_df_rec), len(org_m_african_df_nor))\n",
    "print(100/len(org_m_afroam_df)*len(org_m_african_df_rec))\n",
    "print('#####')\n",
    "\n",
    "buffer_df = org_m_african_df_nor.drop(org_m_african_df_nor.sample(frac=.75).index)\n",
    "print(len(buffer_df))\n",
    "print('#####')\n",
    "\n",
    "org_m_afroam_df = pd.concat([org_m_afroam_df, buffer_df])\n",
    "org_m_african_df_rec = org_m_afroam_df.loc[org_m_afroam_df['Two_yr_Recidivism'] == 1]\n",
    "org_m_african_df_nor = org_m_afroam_df.loc[org_m_afroam_df['Two_yr_Recidivism'] == 0]\n",
    "\n",
    "print(len(org_m_afroam_df), len(org_m_african_df_rec), len(org_m_african_df_nor))\n",
    "print(100/len(org_m_afroam_df)*len(org_m_african_df_rec))"
   ],
   "metadata": {
    "collapsed": false,
    "pycharm": {
     "name": "#%%\n"
    }
   }
  },
  {
   "cell_type": "code",
   "execution_count": 11,
   "outputs": [
    {
     "name": "stdout",
     "output_type": "stream",
     "text": [
      "29 7 22\n",
      "24.137931034482758\n",
      "#####\n",
      "#####\n",
      "43 21 22\n",
      "48.83720930232558\n"
     ]
    }
   ],
   "source": [
    "# Asian balancing\n",
    "org_m_asian_df_rec = org_m_asian_df.loc[org_m_asian_df['Two_yr_Recidivism'] == 1]\n",
    "org_m_asian_df_nor = org_m_asian_df.loc[org_m_asian_df['Two_yr_Recidivism'] == 0]\n",
    "print(len(org_m_asian_df), len(org_m_asian_df_rec), len(org_m_asian_df_nor))\n",
    "print(100/len(org_m_asian_df)*len(org_m_asian_df_rec))\n",
    "print('#####')\n",
    "\n",
    "org_m_asian_df = pd.concat([org_m_asian_df, org_m_asian_df_rec, org_m_asian_df_rec])\n",
    "print('#####')\n",
    "\n",
    "org_m_asian_df_rec = org_m_asian_df.loc[org_m_asian_df['Two_yr_Recidivism'] == 1]\n",
    "org_m_asian_df_nor = org_m_asian_df.loc[org_m_asian_df['Two_yr_Recidivism'] == 0]\n",
    "\n",
    "print(len(org_m_asian_df), len(org_m_asian_df_rec), len(org_m_asian_df_nor))\n",
    "print(100/len(org_m_asian_df)*len(org_m_asian_df_rec))"
   ],
   "metadata": {
    "collapsed": false,
    "pycharm": {
     "name": "#%%\n"
    }
   }
  },
  {
   "cell_type": "code",
   "execution_count": 12,
   "outputs": [
    {
     "name": "stdout",
     "output_type": "stream",
     "text": [
      "427 163 264\n",
      "38.17330210772834\n",
      "#####\n",
      "101\n",
      "#####\n",
      "528 264 264\n",
      "50.0\n"
     ]
    }
   ],
   "source": [
    "# Hispanic balancing\n",
    "org_m_hispanic_df_rec = org_m_hispanic_df.loc[org_m_hispanic_df['Two_yr_Recidivism'] == 1]\n",
    "org_m_hispanic_df_nor = org_m_hispanic_df.loc[org_m_hispanic_df['Two_yr_Recidivism'] == 0]\n",
    "print(len(org_m_hispanic_df), len(org_m_hispanic_df_rec), len(org_m_hispanic_df_nor))\n",
    "print(100/len(org_m_hispanic_df)*len(org_m_hispanic_df_rec))\n",
    "print('#####')\n",
    "\n",
    "buffer_df = org_m_hispanic_df_rec.drop(org_m_hispanic_df_rec.sample(frac=.38).index)\n",
    "print(len(buffer_df))\n",
    "print('#####')\n",
    "\n",
    "org_m_hispanic_df = pd.concat([org_m_hispanic_df, buffer_df])\n",
    "org_m_hispanic_df_rec = org_m_hispanic_df.loc[org_m_hispanic_df['Two_yr_Recidivism'] == 1]\n",
    "org_m_hispanic_df_nor = org_m_hispanic_df.loc[org_m_hispanic_df['Two_yr_Recidivism'] == 0]\n",
    "print(len(org_m_hispanic_df), len(org_m_hispanic_df_rec), len(org_m_hispanic_df_nor))\n",
    "print(100/len(org_m_hispanic_df)*len(org_m_hispanic_df_rec))"
   ],
   "metadata": {
    "collapsed": false,
    "pycharm": {
     "name": "#%%\n"
    }
   }
  },
  {
   "cell_type": "code",
   "execution_count": 13,
   "outputs": [
    {
     "name": "stdout",
     "output_type": "stream",
     "text": [
      "9 3 6\n",
      "33.33333333333333\n",
      "#####\n",
      "12 6 6\n",
      "50.0\n"
     ]
    }
   ],
   "source": [
    "# Native balancing\n",
    "org_m_native_df_rec = org_m_native_df.loc[org_m_native_df['Two_yr_Recidivism'] == 1]\n",
    "org_m_native_df_nor = org_m_native_df.loc[org_m_native_df['Two_yr_Recidivism'] == 0]\n",
    "print(len(org_m_native_df), len(org_m_native_df_rec), len(org_m_native_df_nor))\n",
    "print(100/len(org_m_native_df)*len(org_m_native_df_rec))\n",
    "print('#####')\n",
    "\n",
    "org_m_native_df = pd.concat([org_m_native_df, org_m_native_df_rec])\n",
    "org_m_native_df_rec = org_m_native_df.loc[org_m_native_df['Two_yr_Recidivism'] == 1]\n",
    "org_m_native_df_nor = org_m_native_df.loc[org_m_native_df['Two_yr_Recidivism'] == 0]\n",
    "print(len(org_m_native_df), len(org_m_native_df_rec), len(org_m_native_df_nor))\n",
    "print(100/len(org_m_native_df)*len(org_m_native_df_rec))"
   ],
   "metadata": {
    "collapsed": false,
    "pycharm": {
     "name": "#%%\n"
    }
   }
  },
  {
   "cell_type": "markdown",
   "source": [
    "### Female Racial Balancing"
   ],
   "metadata": {
    "collapsed": false,
    "pycharm": {
     "name": "#%% md\n"
    }
   }
  },
  {
   "cell_type": "code",
   "execution_count": 14,
   "outputs": [],
   "source": [
    "org_f_caucasian_df = female_df.loc[female_df['Caucasian'] == 1]\n",
    "org_f_afroam_df = female_df.loc[female_df['African_American'] == 1]\n",
    "org_f_asian_df = female_df.loc[female_df['Asian'] == 1]\n",
    "org_f_hispanic_df = female_df.loc[female_df['Hispanic'] == 1]\n",
    "org_f_native_df = female_df.loc[female_df['Native_American'] == 1]\n",
    "org_f_other_df = female_df.loc[female_df['Other'] == 1]"
   ],
   "metadata": {
    "collapsed": false,
    "pycharm": {
     "name": "#%%\n"
    }
   }
  },
  {
   "cell_type": "code",
   "execution_count": 15,
   "outputs": [
    {
     "name": "stdout",
     "output_type": "stream",
     "text": [
      "652 340 312\n",
      "52.147239263803684\n",
      "#####\n",
      "28\n",
      "#####\n",
      "680 340 340\n",
      "50.0\n"
     ]
    }
   ],
   "source": [
    "# Caucasian balancing\n",
    "org_f_caucasian_df_rec = org_f_caucasian_df.loc[org_f_caucasian_df['Two_yr_Recidivism'] == 1]\n",
    "org_f_caucasian_df_nor = org_f_caucasian_df.loc[org_f_caucasian_df['Two_yr_Recidivism'] == 0]\n",
    "print(len(org_f_caucasian_df), len(org_f_caucasian_df_rec), len(org_f_caucasian_df_nor))\n",
    "print(100/len(org_f_caucasian_df)*len(org_f_caucasian_df_rec))\n",
    "print('#####')\n",
    "\n",
    "buffer_df = org_f_caucasian_df_nor.drop(org_f_caucasian_df_nor.sample(frac=.91).index)\n",
    "print(len(buffer_df))\n",
    "print('#####')\n",
    "\n",
    "org_f_caucasian_df = pd.concat([org_f_caucasian_df, buffer_df])\n",
    "org_f_caucasian_df_rec = org_f_caucasian_df.loc[org_f_caucasian_df['Two_yr_Recidivism'] == 1]\n",
    "org_f_caucasian_df_nor = org_f_caucasian_df.loc[org_f_caucasian_df['Two_yr_Recidivism'] == 0]\n",
    "\n",
    "print(len(org_f_caucasian_df), len(org_f_caucasian_df_rec), len(org_f_caucasian_df_nor))\n",
    "print(100/len(org_f_caucasian_df)*len(org_f_caucasian_df_rec))"
   ],
   "metadata": {
    "collapsed": false,
    "pycharm": {
     "name": "#%%\n"
    }
   }
  },
  {
   "cell_type": "code",
   "execution_count": 16,
   "outputs": [
    {
     "name": "stdout",
     "output_type": "stream",
     "text": [
      "752 406 346\n",
      "53.98936170212766\n",
      "#####\n",
      "60\n",
      "#####\n",
      "812 406 406\n",
      "50.0\n"
     ]
    }
   ],
   "source": [
    "# African balancing\n",
    "org_f_afroam_df_rec = org_f_afroam_df.loc[org_f_afroam_df['Two_yr_Recidivism'] == 1]\n",
    "org_f_afroam_df_nor = org_f_afroam_df.loc[org_f_afroam_df['Two_yr_Recidivism'] == 0]\n",
    "print(len(org_f_afroam_df), len(org_f_afroam_df_rec), len(org_f_afroam_df_nor))\n",
    "print(100/len(org_f_afroam_df)*len(org_f_afroam_df_rec))\n",
    "print('#####')\n",
    "\n",
    "buffer_df = org_f_afroam_df_nor.drop(org_f_afroam_df_nor.sample(frac=.8255).index)\n",
    "print(len(buffer_df))\n",
    "print('#####')\n",
    "\n",
    "org_f_afroam_df = pd.concat([org_f_afroam_df, buffer_df])\n",
    "org_f_afroam_df_rec = org_f_afroam_df.loc[org_f_afroam_df['Two_yr_Recidivism'] == 1]\n",
    "org_f_afroam_df_nor = org_f_afroam_df.loc[org_f_afroam_df['Two_yr_Recidivism'] == 0]\n",
    "\n",
    "print(len(org_f_afroam_df), len(org_f_afroam_df_rec), len(org_f_afroam_df_nor))\n",
    "print(100/len(org_f_afroam_df)*len(org_f_afroam_df_rec))"
   ],
   "metadata": {
    "collapsed": false,
    "pycharm": {
     "name": "#%%\n"
    }
   }
  },
  {
   "cell_type": "code",
   "execution_count": 17,
   "outputs": [
    {
     "name": "stdout",
     "output_type": "stream",
     "text": [
      "3 2 1\n",
      "66.66666666666667\n",
      "#####\n",
      "4 2 2\n",
      "50.0\n"
     ]
    }
   ],
   "source": [
    "# Asian balancing\n",
    "org_f_asian_df_rec = org_f_asian_df.loc[org_f_asian_df['Two_yr_Recidivism'] == 1]\n",
    "org_f_asian_df_nor = org_f_asian_df.loc[org_f_asian_df['Two_yr_Recidivism'] == 0]\n",
    "print(len(org_f_asian_df), len(org_f_asian_df_rec), len(org_f_asian_df_nor))\n",
    "print(100/len(org_f_asian_df)*len(org_f_asian_df_rec))\n",
    "print('#####')\n",
    "\n",
    "org_f_asian_df = pd.concat([org_f_asian_df, org_f_asian_df_nor])\n",
    "org_f_asian_df_rec = org_f_asian_df.loc[org_f_asian_df['Two_yr_Recidivism'] == 1]\n",
    "org_f_asian_df_nor = org_f_asian_df.loc[org_f_asian_df['Two_yr_Recidivism'] == 0]\n",
    "print(len(org_f_asian_df), len(org_f_asian_df_rec), len(org_f_asian_df_nor))\n",
    "print(100/len(org_f_asian_df)*len(org_f_asian_df_rec))"
   ],
   "metadata": {
    "collapsed": false,
    "pycharm": {
     "name": "#%%\n"
    }
   }
  },
  {
   "cell_type": "code",
   "execution_count": 18,
   "outputs": [
    {
     "name": "stdout",
     "output_type": "stream",
     "text": [
      "108 52 56\n",
      "48.148148148148145\n",
      "#####\n",
      "8\n",
      "#####\n",
      "116 60 56\n",
      "51.72413793103448\n"
     ]
    }
   ],
   "source": [
    "# Hispanic balancing\n",
    "org_f_hispanic_df_rec = org_f_hispanic_df.loc[org_f_hispanic_df['Two_yr_Recidivism'] == 1]\n",
    "org_f_hispanic_df_nor = org_f_hispanic_df.loc[org_f_hispanic_df['Two_yr_Recidivism'] == 0]\n",
    "print(len(org_f_hispanic_df),len(org_f_hispanic_df_rec), len(org_f_hispanic_df_nor))\n",
    "print(100/len(org_f_hispanic_df)*len(org_f_hispanic_df_rec))\n",
    "print('#####')\n",
    "\n",
    "buffer_df = org_f_hispanic_df_rec.drop(org_f_hispanic_df_rec.sample(frac=.7).index)\n",
    "print(len(buffer_df))\n",
    "print('#####')\n",
    "\n",
    "org_f_hispanic_df = pd.concat([org_f_hispanic_df, buffer_df])\n",
    "org_f_hispanic_df_rec = org_f_hispanic_df.loc[org_f_hispanic_df['Two_yr_Recidivism'] == 1]\n",
    "org_f_hispanic_df_nor = org_f_hispanic_df.loc[org_f_hispanic_df['Two_yr_Recidivism'] == 0]\n",
    "print(len(org_f_hispanic_df),len(org_f_hispanic_df_rec), len(org_f_hispanic_df_nor))\n",
    "print(100/len(org_f_hispanic_df)*len(org_f_hispanic_df_rec))"
   ],
   "metadata": {
    "collapsed": false,
    "pycharm": {
     "name": "#%%\n"
    }
   }
  },
  {
   "cell_type": "code",
   "execution_count": 19,
   "outputs": [
    {
     "name": "stdout",
     "output_type": "stream",
     "text": [
      "4 4 0\n",
      "100.0\n",
      "#####\n"
     ]
    }
   ],
   "source": [
    "# Native balancing\n",
    "org_f_native_df_rec = org_f_native_df.loc[org_f_native_df['Two_yr_Recidivism'] == 1]\n",
    "org_f_native_df_nor = org_f_native_df.loc[org_f_native_df['Two_yr_Recidivism'] == 0]\n",
    "print(len(org_f_native_df), len(org_f_native_df_rec), len(org_f_native_df_nor))\n",
    "print(100/len(org_f_native_df)*len(org_f_native_df_rec))\n",
    "print('#####')\n",
    "\n"
   ],
   "metadata": {
    "collapsed": false,
    "pycharm": {
     "name": "#%%\n"
    }
   }
  },
  {
   "cell_type": "code",
   "execution_count": 20,
   "outputs": [
    {
     "name": "stdout",
     "output_type": "stream",
     "text": [
      "69 22 47\n",
      "31.884057971014492\n",
      "#####\n",
      "12\n",
      "#####\n",
      "93 46 47\n",
      "49.46236559139785\n"
     ]
    }
   ],
   "source": [
    "# Other balancing\n",
    "org_f_other_df_rec = org_f_other_df.loc[org_f_other_df['Two_yr_Recidivism'] == 1]\n",
    "org_f_other_df_nor = org_f_other_df.loc[org_f_other_df['Two_yr_Recidivism'] == 0]\n",
    "print(len(org_f_other_df), len(org_f_other_df_rec), len(org_f_other_df_nor))\n",
    "print(100/len(org_f_other_df)*len(org_f_other_df_rec))\n",
    "print('#####')\n",
    "\n",
    "buffer_df = org_f_other_df_rec.drop(org_f_other_df_rec.sample(frac=.24).index)\n",
    "print(len(buffer_df))\n",
    "print('#####')\n",
    "\n",
    "org_f_other_df = pd.concat([org_f_other_df, buffer_df, buffer_df])\n",
    "org_f_other_df_rec = org_f_other_df.loc[org_f_other_df['Two_yr_Recidivism'] == 1]\n",
    "org_f_other_df_nor = org_f_other_df.loc[org_f_other_df['Two_yr_Recidivism'] == 0]\n",
    "print(len(org_f_other_df), len(org_f_other_df_rec), len(org_f_other_df_nor))\n",
    "print(100/len(org_f_other_df)*len(org_f_other_df_rec))"
   ],
   "metadata": {
    "collapsed": false,
    "pycharm": {
     "name": "#%%\n"
    }
   }
  },
  {
   "cell_type": "code",
   "execution_count": 21,
   "outputs": [],
   "source": [
    "# Concat everything together\n",
    "\n",
    "ndf = pd.concat([org_m_caucasian_df,\n",
    "                 org_f_caucasian_df,\n",
    "                 org_m_afroam_df,\n",
    "                 org_f_afroam_df,\n",
    "                 org_m_asian_df,\n",
    "                 org_f_asian_df,\n",
    "                 org_m_hispanic_df,\n",
    "                 org_f_hispanic_df,\n",
    "                 org_m_native_df,\n",
    "                 org_f_native_df,\n",
    "                 org_m_other_df,\n",
    "                 org_f_other_df])"
   ],
   "metadata": {
    "collapsed": false,
    "pycharm": {
     "name": "#%%\n"
    }
   }
  },
  {
   "cell_type": "code",
   "execution_count": 22,
   "outputs": [
    {
     "name": "stdout",
     "output_type": "stream",
     "text": [
      "7442 5733 1709\n",
      "5733 2840 2893\n",
      "1709 858 851\n",
      "Male Rec Rate 49.53776382347811\n",
      "Female Rec Rate 50.204798127559975\n"
     ]
    }
   ],
   "source": [
    "total = len(ndf)\n",
    "male_df = ndf.loc[ndf['Female'] == 0]\n",
    "total_male = len(male_df)\n",
    "female_df = ndf.loc[ndf['Female'] == 1]\n",
    "total_female = len(female_df)\n",
    "print(total, total_male, total_female)\n",
    "print(total_male, len(male_df.loc[male_df['Two_yr_Recidivism'] == 1]), len(male_df.loc[male_df['Two_yr_Recidivism'] == 0]))\n",
    "print(total_female, len(female_df.loc[female_df['Two_yr_Recidivism'] == 1]), len(female_df.loc[female_df['Two_yr_Recidivism'] == 0]))\n",
    "print('Male Rec Rate', 100/total_male*len(male_df.loc[male_df['Two_yr_Recidivism'] == 1]))\n",
    "print('Female Rec Rate', 100/total_female*len(female_df.loc[female_df['Two_yr_Recidivism'] == 1]))"
   ],
   "metadata": {
    "collapsed": false,
    "pycharm": {
     "name": "#%%\n"
    }
   }
  },
  {
   "cell_type": "code",
   "execution_count": 23,
   "outputs": [],
   "source": [
    "# export to csv\n",
    "df.to_csv('../data/balanced_data.csv', index=False)"
   ],
   "metadata": {
    "collapsed": false,
    "pycharm": {
     "name": "#%%\n"
    }
   }
  }
 ],
 "metadata": {
  "kernelspec": {
   "display_name": "Python 3",
   "language": "python",
   "name": "python3"
  },
  "language_info": {
   "codemirror_mode": {
    "name": "ipython",
    "version": 2
   },
   "file_extension": ".py",
   "mimetype": "text/x-python",
   "name": "python",
   "nbconvert_exporter": "python",
   "pygments_lexer": "ipython2",
   "version": "2.7.6"
  }
 },
 "nbformat": 4,
 "nbformat_minor": 0
}
