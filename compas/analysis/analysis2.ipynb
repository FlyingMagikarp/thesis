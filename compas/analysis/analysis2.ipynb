{
 "cells": [
  {
   "cell_type": "markdown",
   "source": [
    "# COMPAS Dataset Analysis"
   ],
   "metadata": {
    "collapsed": false,
    "pycharm": {
     "name": "#%% md\n"
    }
   }
  },
  {
   "cell_type": "code",
   "execution_count": null,
   "outputs": [],
   "source": [
    "import pandas as pd\n",
    "from sklearn.linear_model import LogisticRegression\n",
    "import numpy as np\n",
    "import matplotlib.pyplot as plt\n",
    "%matplotlib notebook"
   ],
   "metadata": {
    "collapsed": false,
    "pycharm": {
     "name": "#%%\n"
    }
   }
  },
  {
   "cell_type": "code",
   "execution_count": null,
   "outputs": [],
   "source": [
    "df = pd.read_csv('../data/data_with_caucasian.csv')\n",
    "df.head()"
   ],
   "metadata": {
    "collapsed": false,
    "pycharm": {
     "name": "#%%\n"
    }
   }
  },
  {
   "cell_type": "code",
   "execution_count": null,
   "outputs": [],
   "source": [
    "df.pop('score_factor')"
   ],
   "metadata": {
    "collapsed": false,
    "pycharm": {
     "name": "#%%\n"
    }
   }
  },
  {
   "cell_type": "code",
   "execution_count": null,
   "outputs": [],
   "source": [
    "total = len(df)\n",
    "did_rec = len(df.loc[df['Two_yr_Recidivism'] == 1])\n",
    "did_not_rec = len(df.loc[df['Two_yr_Recidivism'] == 0])\n",
    "\n",
    "print(total, did_rec, did_not_rec)"
   ],
   "metadata": {
    "collapsed": false,
    "pycharm": {
     "name": "#%%\n"
    }
   }
  },
  {
   "cell_type": "code",
   "execution_count": null,
   "outputs": [],
   "source": [
    "fig, ax = plt.subplots()\n",
    "\n",
    "fruits = ['Rückfällig', 'nicht Rückfällig']\n",
    "counts = [2809, 3363]\n",
    "bar_labels = ['red', 'green']\n",
    "bar_colors = ['tab:red', 'tab:green']\n",
    "\n",
    "ax.bar(fruits, counts, label=bar_labels, color=bar_colors)\n",
    "\n",
    "ax.set_ylabel('Anzahl')\n",
    "ax.set_title('Balance Dataset')\n",
    "\n",
    "#plt.show()"
   ],
   "metadata": {
    "collapsed": false,
    "pycharm": {
     "name": "#%%\n"
    }
   }
  },
  {
   "cell_type": "code",
   "execution_count": null,
   "outputs": [],
   "source": [
    "print('Rückfällig %', 100/total*did_rec)"
   ],
   "metadata": {
    "collapsed": false,
    "pycharm": {
     "name": "#%%\n"
    }
   }
  },
  {
   "cell_type": "code",
   "execution_count": null,
   "outputs": [],
   "source": [
    "# gender ration\n",
    "total = len(df)\n",
    "male = len(df.loc[df['Female'] == 0])\n",
    "female = len(df.loc[df['Female'] == 1])\n",
    "\n",
    "print(total, male, female)\n",
    "print('Male %', 100/total*male)"
   ],
   "metadata": {
    "collapsed": false,
    "pycharm": {
     "name": "#%%\n"
    }
   }
  },
  {
   "cell_type": "code",
   "execution_count": null,
   "outputs": [],
   "source": [
    "df_male = df.loc[df['Female'] == 0]\n",
    "df_female = df.loc[df['Female'] == 1]"
   ],
   "metadata": {
    "collapsed": false,
    "pycharm": {
     "name": "#%%\n"
    }
   }
  },
  {
   "cell_type": "markdown",
   "source": [
    "## General Race Analysis"
   ],
   "metadata": {
    "collapsed": false,
    "pycharm": {
     "name": "#%% md\n"
    }
   }
  },
  {
   "cell_type": "code",
   "execution_count": null,
   "outputs": [],
   "source": [
    "total = len(df)\n",
    "did_rec = len(df.loc[df['Two_yr_Recidivism'] == 1])\n",
    "did_not_rec = len(df.loc[df['Two_yr_Recidivism'] == 0])\n",
    "\n",
    "print(total, did_rec, did_not_rec)\n",
    "print('Rückfällig all %', 100/total*did_rec)"
   ],
   "metadata": {
    "collapsed": false,
    "pycharm": {
     "name": "#%%\n"
    }
   }
  },
  {
   "cell_type": "code",
   "execution_count": null,
   "outputs": [],
   "source": [
    "white = df.loc[df['Caucasian'] == 1]\n",
    "black = df.loc[df['African_American'] == 1]\n",
    "hispanic = df.loc[df['Hispanic'] == 1]\n",
    "asian = df.loc[df['Asian'] == 1]\n",
    "native = df.loc[df['Native_American'] == 1]\n",
    "other = df.loc[df['Other'] == 1]\n",
    "\n",
    "print('Races split')\n",
    "print('white', len(white), 100/total*len(white))\n",
    "print('black', len(black), 100/total*len(black))\n",
    "print('hispanic', len(hispanic), 100/total*len(hispanic))\n",
    "print('asian', len(asian), 100/total*len(asian))\n",
    "print('native', len(native), 100/total*len(native))\n",
    "print('other', len(other), 100/total*len(other))"
   ],
   "metadata": {
    "collapsed": false,
    "pycharm": {
     "name": "#%%\n"
    }
   }
  },
  {
   "cell_type": "code",
   "execution_count": null,
   "outputs": [],
   "source": [
    "print('% of positive labels per race all')\n",
    "print('white', len(white.loc[white['Two_yr_Recidivism'] == 1]), 100/total*len(white.loc[white['Two_yr_Recidivism'] == 1]))\n",
    "print('black', len(black.loc[black['Two_yr_Recidivism'] == 1]), 100/total*len(black.loc[black['Two_yr_Recidivism'] == 1]))\n",
    "print('hispanic', len(hispanic.loc[hispanic['Two_yr_Recidivism'] == 1]), 100/total*len(hispanic.loc[hispanic['Two_yr_Recidivism'] == 1]))\n",
    "print('asian', len(asian.loc[asian['Two_yr_Recidivism'] == 1]), 100/total*len(asian.loc[asian['Two_yr_Recidivism'] == 1]))\n",
    "print('native', len(native.loc[native['Two_yr_Recidivism'] == 1]), 100/total*len(native.loc[native['Two_yr_Recidivism'] == 1]))\n",
    "print('other', len(other.loc[other['Two_yr_Recidivism'] == 1]), 100/total*len(other.loc[other['Two_yr_Recidivism'] == 1]))"
   ],
   "metadata": {
    "collapsed": false,
    "pycharm": {
     "name": "#%%\n"
    }
   }
  },
  {
   "cell_type": "markdown",
   "source": [
    "## Male Analysis"
   ],
   "metadata": {
    "collapsed": false,
    "pycharm": {
     "name": "#%% md\n"
    }
   }
  },
  {
   "cell_type": "code",
   "execution_count": null,
   "outputs": [],
   "source": [
    "total = len(df_male)\n",
    "did_rec = len(df_male.loc[df_male['Two_yr_Recidivism'] == 1])\n",
    "did_not_rec = len(df_male.loc[df_male['Two_yr_Recidivism'] == 0])\n",
    "\n",
    "print(total, did_rec, did_not_rec)\n",
    "print('Rückfällig male %', 100/total*did_rec)"
   ],
   "metadata": {
    "collapsed": false,
    "pycharm": {
     "name": "#%%\n"
    }
   }
  },
  {
   "cell_type": "code",
   "execution_count": null,
   "outputs": [],
   "source": [
    "white = df_male.loc[df_male['Caucasian'] == 1]\n",
    "black = df_male.loc[df_male['African_American'] == 1]\n",
    "hispanic = df_male.loc[df_male['Hispanic'] == 1]\n",
    "asian = df_male.loc[df_male['Asian'] == 1]\n",
    "native = df_male.loc[df_male['Native_American'] == 1]\n",
    "other = df_male.loc[df_male['Other'] == 1]\n",
    "\n",
    "print('Races split')\n",
    "print('white', len(white), 100/total*len(white))\n",
    "print('black', len(black), 100/total*len(black))\n",
    "print('hispanic', len(hispanic), 100/total*len(hispanic))\n",
    "print('asian', len(asian), 100/total*len(asian))\n",
    "print('native', len(native), 100/total*len(native))\n",
    "print('other', len(other), 100/total*len(other))"
   ],
   "metadata": {
    "collapsed": false,
    "pycharm": {
     "name": "#%%\n"
    }
   }
  },
  {
   "cell_type": "code",
   "execution_count": null,
   "outputs": [],
   "source": [
    "print('% of positive labels per race male')\n",
    "print('white', len(white.loc[white['Two_yr_Recidivism'] == 1]), 100/total*len(white.loc[white['Two_yr_Recidivism'] == 1]))\n",
    "print('black', len(black.loc[black['Two_yr_Recidivism'] == 1]), 100/total*len(black.loc[black['Two_yr_Recidivism'] == 1]))\n",
    "print('hispanic', len(hispanic.loc[hispanic['Two_yr_Recidivism'] == 1]), 100/total*len(hispanic.loc[hispanic['Two_yr_Recidivism'] == 1]))\n",
    "print('asian', len(asian.loc[asian['Two_yr_Recidivism'] == 1]), 100/total*len(asian.loc[asian['Two_yr_Recidivism'] == 1]))\n",
    "print('native', len(native.loc[native['Two_yr_Recidivism'] == 1]), 100/total*len(native.loc[native['Two_yr_Recidivism'] == 1]))\n",
    "print('other', len(other.loc[other['Two_yr_Recidivism'] == 1]), 100/total*len(other.loc[other['Two_yr_Recidivism'] == 1]))"
   ],
   "metadata": {
    "collapsed": false,
    "pycharm": {
     "name": "#%%\n"
    }
   }
  },
  {
   "cell_type": "markdown",
   "source": [
    "## Female Analysis"
   ],
   "metadata": {
    "collapsed": false,
    "pycharm": {
     "name": "#%% md\n"
    }
   }
  },
  {
   "cell_type": "code",
   "execution_count": null,
   "outputs": [],
   "source": [
    "total = len(df_female)\n",
    "did_rec = len(df_female.loc[df_female['Two_yr_Recidivism'] == 1])\n",
    "did_not_rec = len(df_female.loc[df_female['Two_yr_Recidivism'] == 0])\n",
    "\n",
    "print(total, did_rec, did_not_rec)\n",
    "print('Rückfällig female %', 100/total*did_rec)"
   ],
   "metadata": {
    "collapsed": false,
    "pycharm": {
     "name": "#%%\n"
    }
   }
  },
  {
   "cell_type": "code",
   "execution_count": null,
   "outputs": [],
   "source": [
    "white = df_female.loc[df_female['Caucasian'] == 1]\n",
    "black = df_female.loc[df_female['African_American'] == 1]\n",
    "hispanic = df_female.loc[df_female['Hispanic'] == 1]\n",
    "asian = df_female.loc[df_female['Asian'] == 1]\n",
    "native = df_female.loc[df_female['Native_American'] == 1]\n",
    "other = df_female.loc[df_female['Other'] == 1]\n",
    "\n",
    "print('Races split')\n",
    "print('white', len(white), 100/total*len(white))\n",
    "print('black', len(black), 100/total*len(black))\n",
    "print('hispanic', len(hispanic), 100/total*len(hispanic))\n",
    "print('asian', len(asian), 100/total*len(asian))\n",
    "print('native', len(native), 100/total*len(native))\n",
    "print('other', len(other), 100/total*len(other))"
   ],
   "metadata": {
    "collapsed": false,
    "pycharm": {
     "name": "#%%\n"
    }
   }
  },
  {
   "cell_type": "code",
   "execution_count": null,
   "outputs": [],
   "source": [
    "print('% of positive labels per race female')\n",
    "print('white', len(white.loc[white['Two_yr_Recidivism'] == 1]), 100/total*len(white.loc[white['Two_yr_Recidivism'] == 1]))\n",
    "print('black', len(black.loc[black['Two_yr_Recidivism'] == 1]), 100/total*len(black.loc[black['Two_yr_Recidivism'] == 1]))\n",
    "print('hispanic', len(hispanic.loc[hispanic['Two_yr_Recidivism'] == 1]), 100/total*len(hispanic.loc[hispanic['Two_yr_Recidivism'] == 1]))\n",
    "print('asian', len(asian.loc[asian['Two_yr_Recidivism'] == 1]), 100/total*len(asian.loc[asian['Two_yr_Recidivism'] == 1]))\n",
    "print('native', len(native.loc[native['Two_yr_Recidivism'] == 1]), 100/total*len(native.loc[native['Two_yr_Recidivism'] == 1]))\n",
    "print('other', len(other.loc[other['Two_yr_Recidivism'] == 1]), 100/total*len(other.loc[other['Two_yr_Recidivism'] == 1]))"
   ],
   "metadata": {
    "collapsed": false,
    "pycharm": {
     "name": "#%%\n"
    }
   }
  },
  {
   "cell_type": "markdown",
   "source": [
    "## Log Regression"
   ],
   "metadata": {
    "collapsed": false,
    "pycharm": {
     "name": "#%% md\n"
    }
   }
  },
  {
   "cell_type": "code",
   "execution_count": null,
   "outputs": [],
   "source": [
    "df_lr = pd.read_csv('../data/data_with_caucasian.csv')\n",
    "#feature_names = ['Number_of_Priors','score_factor','Age_Above_FourtyFive','Age_Below_TwentyFive','Caucasian','African_American','Asian','Hispanic','Native_American','Other','Female','Misdemeanor']\n",
    "feature_names = ['Number_of_Priors','Age_Above_FourtyFive','Age_Below_TwentyFive','Caucasian','African_American','Asian','Hispanic','Native_American','Other','Female','Misdemeanor']\n",
    "\n",
    "z = df_lr.pop('score_factor')\n",
    "y = df_lr.pop('Two_yr_Recidivism')\n",
    "X = df_lr\n",
    "\n",
    "model = LogisticRegression(random_state=129).fit(X, y)\n",
    "result = list(zip(feature_names, model.coef_[0]))\n",
    "\n",
    "for r in result:\n",
    "    print(r)"
   ],
   "metadata": {
    "collapsed": false,
    "pycharm": {
     "name": "#%%\n"
    }
   }
  },
  {
   "cell_type": "code",
   "execution_count": null,
   "outputs": [],
   "source": [
    "total = len(df)\n",
    "did_rec = len(df.loc[df['Two_yr_Recidivism'] == 1])\n",
    "df_did_rec = df.loc[df['Two_yr_Recidivism'] == 1]\n",
    "did_not_rec = len(df.loc[df['Two_yr_Recidivism'] == 0])\n",
    "df_did_not_rec = df.loc[df['Two_yr_Recidivism'] == 0]"
   ],
   "metadata": {
    "collapsed": false,
    "pycharm": {
     "name": "#%%\n"
    }
   }
  },
  {
   "cell_type": "code",
   "execution_count": null,
   "outputs": [],
   "source": [
    "did_age_45 = df_did_rec.loc[df_did_rec['Age_Above_FourtyFive'] == 1]\n",
    "did_age_18 = df_did_rec.loc[df_did_rec['Age_Below_TwentyFive'] == 1]\n",
    "did_age_25 = df_did_rec.loc[(df_did_rec['Age_Below_TwentyFive'] == 0) & (df_did_rec['Age_Above_FourtyFive'] == 0)]\n",
    "\n",
    "print('<45', len(did_age_45), 100/did_rec*len(did_age_45))\n",
    "print('25', len(did_age_25), 100/did_rec*len(did_age_25))\n",
    "print('18', len(did_age_18), 100/did_rec*len(did_age_18))"
   ],
   "metadata": {
    "collapsed": false,
    "pycharm": {
     "name": "#%%\n"
    }
   }
  },
  {
   "cell_type": "code",
   "execution_count": null,
   "outputs": [],
   "source": [],
   "metadata": {
    "collapsed": false,
    "pycharm": {
     "name": "#%%\n"
    }
   }
  }
 ],
 "metadata": {
  "kernelspec": {
   "display_name": "Python 3",
   "language": "python",
   "name": "python3"
  },
  "language_info": {
   "codemirror_mode": {
    "name": "ipython",
    "version": 2
   },
   "file_extension": ".py",
   "mimetype": "text/x-python",
   "name": "python",
   "nbconvert_exporter": "python",
   "pygments_lexer": "ipython2",
   "version": "2.7.6"
  }
 },
 "nbformat": 4,
 "nbformat_minor": 0
}