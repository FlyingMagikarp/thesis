{
 "cells": [
  {
   "cell_type": "code",
   "execution_count": 16,
   "metadata": {},
   "outputs": [],
   "source": [
    "import numpy as np\n",
    "import pandas as pd"
   ]
  },
  {
   "cell_type": "code",
   "execution_count": 17,
   "metadata": {},
   "outputs": [
    {
     "data": {
      "text/plain": "   Person_ID  AssessmentID  Case_ID Agency_Text LastName FirstName MiddleName  \\\n0      50844         57167    51950    PRETRIAL   Fisher     Kevin        NaN   \n1      50844         57167    51950    PRETRIAL   Fisher     Kevin        NaN   \n2      50844         57167    51950    PRETRIAL   Fisher     Kevin        NaN   \n3      50848         57174    51956    PRETRIAL  KENDALL     KEVIN        NaN   \n4      50848         57174    51956    PRETRIAL  KENDALL     KEVIN        NaN   \n\n  Sex_Code_Text Ethnic_Code_Text DateOfBirth  ...  RecSupervisionLevel  \\\n0          Male        Caucasian    12/05/92  ...                    1   \n1          Male        Caucasian    12/05/92  ...                    1   \n2          Male        Caucasian    12/05/92  ...                    1   \n3          Male        Caucasian    09/16/84  ...                    1   \n4          Male        Caucasian    09/16/84  ...                    1   \n\n  RecSupervisionLevelText Scale_ID                DisplayText RawScore  \\\n0                     Low        7           Risk of Violence    -2.08   \n1                     Low        8         Risk of Recidivism    -1.06   \n2                     Low       18  Risk of Failure to Appear    15.00   \n3                     Low        7           Risk of Violence    -2.84   \n4                     Low        8         Risk of Recidivism    -1.50   \n\n  DecileScore ScoreText AssessmentType  IsCompleted IsDeleted  \n0           4       Low            New            1         0  \n1           2       Low            New            1         0  \n2           1       Low            New            1         0  \n3           2       Low            New            1         0  \n4           1       Low            New            1         0  \n\n[5 rows x 28 columns]",
      "text/html": "<div>\n<style scoped>\n    .dataframe tbody tr th:only-of-type {\n        vertical-align: middle;\n    }\n\n    .dataframe tbody tr th {\n        vertical-align: top;\n    }\n\n    .dataframe thead th {\n        text-align: right;\n    }\n</style>\n<table border=\"1\" class=\"dataframe\">\n  <thead>\n    <tr style=\"text-align: right;\">\n      <th></th>\n      <th>Person_ID</th>\n      <th>AssessmentID</th>\n      <th>Case_ID</th>\n      <th>Agency_Text</th>\n      <th>LastName</th>\n      <th>FirstName</th>\n      <th>MiddleName</th>\n      <th>Sex_Code_Text</th>\n      <th>Ethnic_Code_Text</th>\n      <th>DateOfBirth</th>\n      <th>...</th>\n      <th>RecSupervisionLevel</th>\n      <th>RecSupervisionLevelText</th>\n      <th>Scale_ID</th>\n      <th>DisplayText</th>\n      <th>RawScore</th>\n      <th>DecileScore</th>\n      <th>ScoreText</th>\n      <th>AssessmentType</th>\n      <th>IsCompleted</th>\n      <th>IsDeleted</th>\n    </tr>\n  </thead>\n  <tbody>\n    <tr>\n      <th>0</th>\n      <td>50844</td>\n      <td>57167</td>\n      <td>51950</td>\n      <td>PRETRIAL</td>\n      <td>Fisher</td>\n      <td>Kevin</td>\n      <td>NaN</td>\n      <td>Male</td>\n      <td>Caucasian</td>\n      <td>12/05/92</td>\n      <td>...</td>\n      <td>1</td>\n      <td>Low</td>\n      <td>7</td>\n      <td>Risk of Violence</td>\n      <td>-2.08</td>\n      <td>4</td>\n      <td>Low</td>\n      <td>New</td>\n      <td>1</td>\n      <td>0</td>\n    </tr>\n    <tr>\n      <th>1</th>\n      <td>50844</td>\n      <td>57167</td>\n      <td>51950</td>\n      <td>PRETRIAL</td>\n      <td>Fisher</td>\n      <td>Kevin</td>\n      <td>NaN</td>\n      <td>Male</td>\n      <td>Caucasian</td>\n      <td>12/05/92</td>\n      <td>...</td>\n      <td>1</td>\n      <td>Low</td>\n      <td>8</td>\n      <td>Risk of Recidivism</td>\n      <td>-1.06</td>\n      <td>2</td>\n      <td>Low</td>\n      <td>New</td>\n      <td>1</td>\n      <td>0</td>\n    </tr>\n    <tr>\n      <th>2</th>\n      <td>50844</td>\n      <td>57167</td>\n      <td>51950</td>\n      <td>PRETRIAL</td>\n      <td>Fisher</td>\n      <td>Kevin</td>\n      <td>NaN</td>\n      <td>Male</td>\n      <td>Caucasian</td>\n      <td>12/05/92</td>\n      <td>...</td>\n      <td>1</td>\n      <td>Low</td>\n      <td>18</td>\n      <td>Risk of Failure to Appear</td>\n      <td>15.00</td>\n      <td>1</td>\n      <td>Low</td>\n      <td>New</td>\n      <td>1</td>\n      <td>0</td>\n    </tr>\n    <tr>\n      <th>3</th>\n      <td>50848</td>\n      <td>57174</td>\n      <td>51956</td>\n      <td>PRETRIAL</td>\n      <td>KENDALL</td>\n      <td>KEVIN</td>\n      <td>NaN</td>\n      <td>Male</td>\n      <td>Caucasian</td>\n      <td>09/16/84</td>\n      <td>...</td>\n      <td>1</td>\n      <td>Low</td>\n      <td>7</td>\n      <td>Risk of Violence</td>\n      <td>-2.84</td>\n      <td>2</td>\n      <td>Low</td>\n      <td>New</td>\n      <td>1</td>\n      <td>0</td>\n    </tr>\n    <tr>\n      <th>4</th>\n      <td>50848</td>\n      <td>57174</td>\n      <td>51956</td>\n      <td>PRETRIAL</td>\n      <td>KENDALL</td>\n      <td>KEVIN</td>\n      <td>NaN</td>\n      <td>Male</td>\n      <td>Caucasian</td>\n      <td>09/16/84</td>\n      <td>...</td>\n      <td>1</td>\n      <td>Low</td>\n      <td>8</td>\n      <td>Risk of Recidivism</td>\n      <td>-1.50</td>\n      <td>1</td>\n      <td>Low</td>\n      <td>New</td>\n      <td>1</td>\n      <td>0</td>\n    </tr>\n  </tbody>\n</table>\n<p>5 rows × 28 columns</p>\n</div>"
     },
     "execution_count": 17,
     "metadata": {},
     "output_type": "execute_result"
    }
   ],
   "source": [
    "df = pd.read_csv('./data/compas-scores-raw.csv')\n",
    "\n",
    "df.head()"
   ]
  },
  {
   "cell_type": "code",
   "execution_count": 18,
   "metadata": {},
   "outputs": [
    {
     "data": {
      "text/plain": "  Sex_Code_Text Ethnic_Code_Text DateOfBirth            ScaleSet  \\\n0          Male        Caucasian    12/05/92  Risk and Prescreen   \n1          Male        Caucasian    12/05/92  Risk and Prescreen   \n2          Male        Caucasian    12/05/92  Risk and Prescreen   \n3          Male        Caucasian    09/16/84  Risk and Prescreen   \n4          Male        Caucasian    09/16/84  Risk and Prescreen   \n\n  AssessmentReason Language LegalStatus CustodyStatus MaritalStatus  \\\n0           Intake  English    Pretrial   Jail Inmate        Single   \n1           Intake  English    Pretrial   Jail Inmate        Single   \n2           Intake  English    Pretrial   Jail Inmate        Single   \n3           Intake  English    Pretrial   Jail Inmate       Married   \n4           Intake  English    Pretrial   Jail Inmate       Married   \n\n  Screening_Date  RecSupervisionLevel RecSupervisionLevelText  Scale_ID  \\\n0    1/1/13 0:00                    1                     Low         7   \n1    1/1/13 0:00                    1                     Low         8   \n2    1/1/13 0:00                    1                     Low        18   \n3    1/1/13 0:00                    1                     Low         7   \n4    1/1/13 0:00                    1                     Low         8   \n\n                 DisplayText  RawScore  DecileScore ScoreText AssessmentType  \\\n0           Risk of Violence     -2.08            4       Low            New   \n1         Risk of Recidivism     -1.06            2       Low            New   \n2  Risk of Failure to Appear     15.00            1       Low            New   \n3           Risk of Violence     -2.84            2       Low            New   \n4         Risk of Recidivism     -1.50            1       Low            New   \n\n   IsCompleted  IsDeleted  \n0            1          0  \n1            1          0  \n2            1          0  \n3            1          0  \n4            1          0  ",
      "text/html": "<div>\n<style scoped>\n    .dataframe tbody tr th:only-of-type {\n        vertical-align: middle;\n    }\n\n    .dataframe tbody tr th {\n        vertical-align: top;\n    }\n\n    .dataframe thead th {\n        text-align: right;\n    }\n</style>\n<table border=\"1\" class=\"dataframe\">\n  <thead>\n    <tr style=\"text-align: right;\">\n      <th></th>\n      <th>Sex_Code_Text</th>\n      <th>Ethnic_Code_Text</th>\n      <th>DateOfBirth</th>\n      <th>ScaleSet</th>\n      <th>AssessmentReason</th>\n      <th>Language</th>\n      <th>LegalStatus</th>\n      <th>CustodyStatus</th>\n      <th>MaritalStatus</th>\n      <th>Screening_Date</th>\n      <th>RecSupervisionLevel</th>\n      <th>RecSupervisionLevelText</th>\n      <th>Scale_ID</th>\n      <th>DisplayText</th>\n      <th>RawScore</th>\n      <th>DecileScore</th>\n      <th>ScoreText</th>\n      <th>AssessmentType</th>\n      <th>IsCompleted</th>\n      <th>IsDeleted</th>\n    </tr>\n  </thead>\n  <tbody>\n    <tr>\n      <th>0</th>\n      <td>Male</td>\n      <td>Caucasian</td>\n      <td>12/05/92</td>\n      <td>Risk and Prescreen</td>\n      <td>Intake</td>\n      <td>English</td>\n      <td>Pretrial</td>\n      <td>Jail Inmate</td>\n      <td>Single</td>\n      <td>1/1/13 0:00</td>\n      <td>1</td>\n      <td>Low</td>\n      <td>7</td>\n      <td>Risk of Violence</td>\n      <td>-2.08</td>\n      <td>4</td>\n      <td>Low</td>\n      <td>New</td>\n      <td>1</td>\n      <td>0</td>\n    </tr>\n    <tr>\n      <th>1</th>\n      <td>Male</td>\n      <td>Caucasian</td>\n      <td>12/05/92</td>\n      <td>Risk and Prescreen</td>\n      <td>Intake</td>\n      <td>English</td>\n      <td>Pretrial</td>\n      <td>Jail Inmate</td>\n      <td>Single</td>\n      <td>1/1/13 0:00</td>\n      <td>1</td>\n      <td>Low</td>\n      <td>8</td>\n      <td>Risk of Recidivism</td>\n      <td>-1.06</td>\n      <td>2</td>\n      <td>Low</td>\n      <td>New</td>\n      <td>1</td>\n      <td>0</td>\n    </tr>\n    <tr>\n      <th>2</th>\n      <td>Male</td>\n      <td>Caucasian</td>\n      <td>12/05/92</td>\n      <td>Risk and Prescreen</td>\n      <td>Intake</td>\n      <td>English</td>\n      <td>Pretrial</td>\n      <td>Jail Inmate</td>\n      <td>Single</td>\n      <td>1/1/13 0:00</td>\n      <td>1</td>\n      <td>Low</td>\n      <td>18</td>\n      <td>Risk of Failure to Appear</td>\n      <td>15.00</td>\n      <td>1</td>\n      <td>Low</td>\n      <td>New</td>\n      <td>1</td>\n      <td>0</td>\n    </tr>\n    <tr>\n      <th>3</th>\n      <td>Male</td>\n      <td>Caucasian</td>\n      <td>09/16/84</td>\n      <td>Risk and Prescreen</td>\n      <td>Intake</td>\n      <td>English</td>\n      <td>Pretrial</td>\n      <td>Jail Inmate</td>\n      <td>Married</td>\n      <td>1/1/13 0:00</td>\n      <td>1</td>\n      <td>Low</td>\n      <td>7</td>\n      <td>Risk of Violence</td>\n      <td>-2.84</td>\n      <td>2</td>\n      <td>Low</td>\n      <td>New</td>\n      <td>1</td>\n      <td>0</td>\n    </tr>\n    <tr>\n      <th>4</th>\n      <td>Male</td>\n      <td>Caucasian</td>\n      <td>09/16/84</td>\n      <td>Risk and Prescreen</td>\n      <td>Intake</td>\n      <td>English</td>\n      <td>Pretrial</td>\n      <td>Jail Inmate</td>\n      <td>Married</td>\n      <td>1/1/13 0:00</td>\n      <td>1</td>\n      <td>Low</td>\n      <td>8</td>\n      <td>Risk of Recidivism</td>\n      <td>-1.50</td>\n      <td>1</td>\n      <td>Low</td>\n      <td>New</td>\n      <td>1</td>\n      <td>0</td>\n    </tr>\n  </tbody>\n</table>\n</div>"
     },
     "execution_count": 18,
     "metadata": {},
     "output_type": "execute_result"
    }
   ],
   "source": [
    "df = df.drop('Person_ID', axis=1)\n",
    "df = df.drop('AssessmentID', axis=1)\n",
    "df = df.drop('Case_ID', axis=1)\n",
    "df = df.drop('Agency_Text', axis=1)\n",
    "df = df.drop('LastName', axis=1)\n",
    "df = df.drop('FirstName', axis=1)\n",
    "df = df.drop('MiddleName', axis=1)\n",
    "df = df.drop('ScaleSet_ID', axis=1)\n",
    "\n",
    "df.head()"
   ]
  },
  {
   "cell_type": "code",
   "execution_count": 19,
   "metadata": {},
   "outputs": [
    {
     "data": {
      "text/plain": "  Ethnic_Code_Text DateOfBirth            ScaleSet AssessmentReason Language  \\\n0        Caucasian    12/05/92  Risk and Prescreen           Intake  English   \n1        Caucasian    12/05/92  Risk and Prescreen           Intake  English   \n2        Caucasian    12/05/92  Risk and Prescreen           Intake  English   \n3        Caucasian    09/16/84  Risk and Prescreen           Intake  English   \n4        Caucasian    09/16/84  Risk and Prescreen           Intake  English   \n\n  LegalStatus CustodyStatus MaritalStatus Screening_Date  RecSupervisionLevel  \\\n0    Pretrial   Jail Inmate        Single    1/1/13 0:00                    1   \n1    Pretrial   Jail Inmate        Single    1/1/13 0:00                    1   \n2    Pretrial   Jail Inmate        Single    1/1/13 0:00                    1   \n3    Pretrial   Jail Inmate       Married    1/1/13 0:00                    1   \n4    Pretrial   Jail Inmate       Married    1/1/13 0:00                    1   \n\n  RecSupervisionLevelText  Scale_ID                DisplayText  RawScore  \\\n0                     Low         7           Risk of Violence     -2.08   \n1                     Low         8         Risk of Recidivism     -1.06   \n2                     Low        18  Risk of Failure to Appear     15.00   \n3                     Low         7           Risk of Violence     -2.84   \n4                     Low         8         Risk of Recidivism     -1.50   \n\n   DecileScore ScoreText AssessmentType  IsCompleted  IsDeleted  Male  \n0            4       Low            New            1          0     1  \n1            2       Low            New            1          0     1  \n2            1       Low            New            1          0     1  \n3            2       Low            New            1          0     1  \n4            1       Low            New            1          0     1  ",
      "text/html": "<div>\n<style scoped>\n    .dataframe tbody tr th:only-of-type {\n        vertical-align: middle;\n    }\n\n    .dataframe tbody tr th {\n        vertical-align: top;\n    }\n\n    .dataframe thead th {\n        text-align: right;\n    }\n</style>\n<table border=\"1\" class=\"dataframe\">\n  <thead>\n    <tr style=\"text-align: right;\">\n      <th></th>\n      <th>Ethnic_Code_Text</th>\n      <th>DateOfBirth</th>\n      <th>ScaleSet</th>\n      <th>AssessmentReason</th>\n      <th>Language</th>\n      <th>LegalStatus</th>\n      <th>CustodyStatus</th>\n      <th>MaritalStatus</th>\n      <th>Screening_Date</th>\n      <th>RecSupervisionLevel</th>\n      <th>RecSupervisionLevelText</th>\n      <th>Scale_ID</th>\n      <th>DisplayText</th>\n      <th>RawScore</th>\n      <th>DecileScore</th>\n      <th>ScoreText</th>\n      <th>AssessmentType</th>\n      <th>IsCompleted</th>\n      <th>IsDeleted</th>\n      <th>Male</th>\n    </tr>\n  </thead>\n  <tbody>\n    <tr>\n      <th>0</th>\n      <td>Caucasian</td>\n      <td>12/05/92</td>\n      <td>Risk and Prescreen</td>\n      <td>Intake</td>\n      <td>English</td>\n      <td>Pretrial</td>\n      <td>Jail Inmate</td>\n      <td>Single</td>\n      <td>1/1/13 0:00</td>\n      <td>1</td>\n      <td>Low</td>\n      <td>7</td>\n      <td>Risk of Violence</td>\n      <td>-2.08</td>\n      <td>4</td>\n      <td>Low</td>\n      <td>New</td>\n      <td>1</td>\n      <td>0</td>\n      <td>1</td>\n    </tr>\n    <tr>\n      <th>1</th>\n      <td>Caucasian</td>\n      <td>12/05/92</td>\n      <td>Risk and Prescreen</td>\n      <td>Intake</td>\n      <td>English</td>\n      <td>Pretrial</td>\n      <td>Jail Inmate</td>\n      <td>Single</td>\n      <td>1/1/13 0:00</td>\n      <td>1</td>\n      <td>Low</td>\n      <td>8</td>\n      <td>Risk of Recidivism</td>\n      <td>-1.06</td>\n      <td>2</td>\n      <td>Low</td>\n      <td>New</td>\n      <td>1</td>\n      <td>0</td>\n      <td>1</td>\n    </tr>\n    <tr>\n      <th>2</th>\n      <td>Caucasian</td>\n      <td>12/05/92</td>\n      <td>Risk and Prescreen</td>\n      <td>Intake</td>\n      <td>English</td>\n      <td>Pretrial</td>\n      <td>Jail Inmate</td>\n      <td>Single</td>\n      <td>1/1/13 0:00</td>\n      <td>1</td>\n      <td>Low</td>\n      <td>18</td>\n      <td>Risk of Failure to Appear</td>\n      <td>15.00</td>\n      <td>1</td>\n      <td>Low</td>\n      <td>New</td>\n      <td>1</td>\n      <td>0</td>\n      <td>1</td>\n    </tr>\n    <tr>\n      <th>3</th>\n      <td>Caucasian</td>\n      <td>09/16/84</td>\n      <td>Risk and Prescreen</td>\n      <td>Intake</td>\n      <td>English</td>\n      <td>Pretrial</td>\n      <td>Jail Inmate</td>\n      <td>Married</td>\n      <td>1/1/13 0:00</td>\n      <td>1</td>\n      <td>Low</td>\n      <td>7</td>\n      <td>Risk of Violence</td>\n      <td>-2.84</td>\n      <td>2</td>\n      <td>Low</td>\n      <td>New</td>\n      <td>1</td>\n      <td>0</td>\n      <td>1</td>\n    </tr>\n    <tr>\n      <th>4</th>\n      <td>Caucasian</td>\n      <td>09/16/84</td>\n      <td>Risk and Prescreen</td>\n      <td>Intake</td>\n      <td>English</td>\n      <td>Pretrial</td>\n      <td>Jail Inmate</td>\n      <td>Married</td>\n      <td>1/1/13 0:00</td>\n      <td>1</td>\n      <td>Low</td>\n      <td>8</td>\n      <td>Risk of Recidivism</td>\n      <td>-1.50</td>\n      <td>1</td>\n      <td>Low</td>\n      <td>New</td>\n      <td>1</td>\n      <td>0</td>\n      <td>1</td>\n    </tr>\n  </tbody>\n</table>\n</div>"
     },
     "execution_count": 19,
     "metadata": {},
     "output_type": "execute_result"
    }
   ],
   "source": [
    "df['Sex_Code_Text'].unique()\n",
    "sex = pd.get_dummies(df['Sex_Code_Text'])\n",
    "df = pd.concat([df, sex], axis=1)\n",
    "df = df.drop('Sex_Code_Text', axis=1)\n",
    "df = df.drop('Female', axis=1)\n",
    "\n",
    "df.head()"
   ]
  },
  {
   "cell_type": "code",
   "execution_count": 20,
   "metadata": {},
   "outputs": [
    {
     "data": {
      "text/plain": "  DateOfBirth            ScaleSet AssessmentReason Language LegalStatus  \\\n0    12/05/92  Risk and Prescreen           Intake  English    Pretrial   \n1    12/05/92  Risk and Prescreen           Intake  English    Pretrial   \n2    12/05/92  Risk and Prescreen           Intake  English    Pretrial   \n3    09/16/84  Risk and Prescreen           Intake  English    Pretrial   \n4    09/16/84  Risk and Prescreen           Intake  English    Pretrial   \n\n  CustodyStatus MaritalStatus Screening_Date  RecSupervisionLevel  \\\n0   Jail Inmate        Single    1/1/13 0:00                    1   \n1   Jail Inmate        Single    1/1/13 0:00                    1   \n2   Jail Inmate        Single    1/1/13 0:00                    1   \n3   Jail Inmate       Married    1/1/13 0:00                    1   \n4   Jail Inmate       Married    1/1/13 0:00                    1   \n\n  RecSupervisionLevelText  ...  Male African-Am  African-American  Arabic  \\\n0                     Low  ...     1          0                 0       0   \n1                     Low  ...     1          0                 0       0   \n2                     Low  ...     1          0                 0       0   \n3                     Low  ...     1          0                 0       0   \n4                     Low  ...     1          0                 0       0   \n\n  Asian Caucasian  Hispanic  Native American  Oriental  Other  \n0     0         1         0                0         0      0  \n1     0         1         0                0         0      0  \n2     0         1         0                0         0      0  \n3     0         1         0                0         0      0  \n4     0         1         0                0         0      0  \n\n[5 rows x 28 columns]",
      "text/html": "<div>\n<style scoped>\n    .dataframe tbody tr th:only-of-type {\n        vertical-align: middle;\n    }\n\n    .dataframe tbody tr th {\n        vertical-align: top;\n    }\n\n    .dataframe thead th {\n        text-align: right;\n    }\n</style>\n<table border=\"1\" class=\"dataframe\">\n  <thead>\n    <tr style=\"text-align: right;\">\n      <th></th>\n      <th>DateOfBirth</th>\n      <th>ScaleSet</th>\n      <th>AssessmentReason</th>\n      <th>Language</th>\n      <th>LegalStatus</th>\n      <th>CustodyStatus</th>\n      <th>MaritalStatus</th>\n      <th>Screening_Date</th>\n      <th>RecSupervisionLevel</th>\n      <th>RecSupervisionLevelText</th>\n      <th>...</th>\n      <th>Male</th>\n      <th>African-Am</th>\n      <th>African-American</th>\n      <th>Arabic</th>\n      <th>Asian</th>\n      <th>Caucasian</th>\n      <th>Hispanic</th>\n      <th>Native American</th>\n      <th>Oriental</th>\n      <th>Other</th>\n    </tr>\n  </thead>\n  <tbody>\n    <tr>\n      <th>0</th>\n      <td>12/05/92</td>\n      <td>Risk and Prescreen</td>\n      <td>Intake</td>\n      <td>English</td>\n      <td>Pretrial</td>\n      <td>Jail Inmate</td>\n      <td>Single</td>\n      <td>1/1/13 0:00</td>\n      <td>1</td>\n      <td>Low</td>\n      <td>...</td>\n      <td>1</td>\n      <td>0</td>\n      <td>0</td>\n      <td>0</td>\n      <td>0</td>\n      <td>1</td>\n      <td>0</td>\n      <td>0</td>\n      <td>0</td>\n      <td>0</td>\n    </tr>\n    <tr>\n      <th>1</th>\n      <td>12/05/92</td>\n      <td>Risk and Prescreen</td>\n      <td>Intake</td>\n      <td>English</td>\n      <td>Pretrial</td>\n      <td>Jail Inmate</td>\n      <td>Single</td>\n      <td>1/1/13 0:00</td>\n      <td>1</td>\n      <td>Low</td>\n      <td>...</td>\n      <td>1</td>\n      <td>0</td>\n      <td>0</td>\n      <td>0</td>\n      <td>0</td>\n      <td>1</td>\n      <td>0</td>\n      <td>0</td>\n      <td>0</td>\n      <td>0</td>\n    </tr>\n    <tr>\n      <th>2</th>\n      <td>12/05/92</td>\n      <td>Risk and Prescreen</td>\n      <td>Intake</td>\n      <td>English</td>\n      <td>Pretrial</td>\n      <td>Jail Inmate</td>\n      <td>Single</td>\n      <td>1/1/13 0:00</td>\n      <td>1</td>\n      <td>Low</td>\n      <td>...</td>\n      <td>1</td>\n      <td>0</td>\n      <td>0</td>\n      <td>0</td>\n      <td>0</td>\n      <td>1</td>\n      <td>0</td>\n      <td>0</td>\n      <td>0</td>\n      <td>0</td>\n    </tr>\n    <tr>\n      <th>3</th>\n      <td>09/16/84</td>\n      <td>Risk and Prescreen</td>\n      <td>Intake</td>\n      <td>English</td>\n      <td>Pretrial</td>\n      <td>Jail Inmate</td>\n      <td>Married</td>\n      <td>1/1/13 0:00</td>\n      <td>1</td>\n      <td>Low</td>\n      <td>...</td>\n      <td>1</td>\n      <td>0</td>\n      <td>0</td>\n      <td>0</td>\n      <td>0</td>\n      <td>1</td>\n      <td>0</td>\n      <td>0</td>\n      <td>0</td>\n      <td>0</td>\n    </tr>\n    <tr>\n      <th>4</th>\n      <td>09/16/84</td>\n      <td>Risk and Prescreen</td>\n      <td>Intake</td>\n      <td>English</td>\n      <td>Pretrial</td>\n      <td>Jail Inmate</td>\n      <td>Married</td>\n      <td>1/1/13 0:00</td>\n      <td>1</td>\n      <td>Low</td>\n      <td>...</td>\n      <td>1</td>\n      <td>0</td>\n      <td>0</td>\n      <td>0</td>\n      <td>0</td>\n      <td>1</td>\n      <td>0</td>\n      <td>0</td>\n      <td>0</td>\n      <td>0</td>\n    </tr>\n  </tbody>\n</table>\n<p>5 rows × 28 columns</p>\n</div>"
     },
     "execution_count": 20,
     "metadata": {},
     "output_type": "execute_result"
    }
   ],
   "source": [
    "df['Ethnic_Code_Text'].unique()\n",
    "sex = pd.get_dummies(df['Ethnic_Code_Text'])\n",
    "df = pd.concat([df, sex], axis=1)\n",
    "df = df.drop('Ethnic_Code_Text', axis=1)\n",
    "\n",
    "df.head()"
   ]
  },
  {
   "cell_type": "code",
   "execution_count": 21,
   "metadata": {},
   "outputs": [],
   "source": [
    "df['Language'].unique()\n",
    "lang = pd.get_dummies(df['Language'])\n",
    "df = pd.concat([df,lang], axis=1)\n",
    "df = df.drop('Language', axis=1)"
   ]
  },
  {
   "cell_type": "code",
   "execution_count": 22,
   "outputs": [
    {
     "data": {
      "text/plain": "  DateOfBirth LegalStatus CustodyStatus MaritalStatus Screening_Date  \\\n0    12/05/92    Pretrial   Jail Inmate        Single    1/1/13 0:00   \n1    12/05/92    Pretrial   Jail Inmate        Single    1/1/13 0:00   \n2    12/05/92    Pretrial   Jail Inmate        Single    1/1/13 0:00   \n3    09/16/84    Pretrial   Jail Inmate       Married    1/1/13 0:00   \n4    09/16/84    Pretrial   Jail Inmate       Married    1/1/13 0:00   \n\n   RecSupervisionLevel RecSupervisionLevelText  Scale_ID  \\\n0                    1                     Low         7   \n1                    1                     Low         8   \n2                    1                     Low        18   \n3                    1                     Low         7   \n4                    1                     Low         8   \n\n                 DisplayText  RawScore  ...  African-American Arabic Asian  \\\n0           Risk of Violence     -2.08  ...                 0      0     0   \n1         Risk of Recidivism     -1.06  ...                 0      0     0   \n2  Risk of Failure to Appear     15.00  ...                 0      0     0   \n3           Risk of Violence     -2.84  ...                 0      0     0   \n4         Risk of Recidivism     -1.50  ...                 0      0     0   \n\n   Caucasian  Hispanic  Native American  Oriental  Other  English  Spanish  \n0          1         0                0         0      0        1        0  \n1          1         0                0         0      0        1        0  \n2          1         0                0         0      0        1        0  \n3          1         0                0         0      0        1        0  \n4          1         0                0         0      0        1        0  \n\n[5 rows x 27 columns]",
      "text/html": "<div>\n<style scoped>\n    .dataframe tbody tr th:only-of-type {\n        vertical-align: middle;\n    }\n\n    .dataframe tbody tr th {\n        vertical-align: top;\n    }\n\n    .dataframe thead th {\n        text-align: right;\n    }\n</style>\n<table border=\"1\" class=\"dataframe\">\n  <thead>\n    <tr style=\"text-align: right;\">\n      <th></th>\n      <th>DateOfBirth</th>\n      <th>LegalStatus</th>\n      <th>CustodyStatus</th>\n      <th>MaritalStatus</th>\n      <th>Screening_Date</th>\n      <th>RecSupervisionLevel</th>\n      <th>RecSupervisionLevelText</th>\n      <th>Scale_ID</th>\n      <th>DisplayText</th>\n      <th>RawScore</th>\n      <th>...</th>\n      <th>African-American</th>\n      <th>Arabic</th>\n      <th>Asian</th>\n      <th>Caucasian</th>\n      <th>Hispanic</th>\n      <th>Native American</th>\n      <th>Oriental</th>\n      <th>Other</th>\n      <th>English</th>\n      <th>Spanish</th>\n    </tr>\n  </thead>\n  <tbody>\n    <tr>\n      <th>0</th>\n      <td>12/05/92</td>\n      <td>Pretrial</td>\n      <td>Jail Inmate</td>\n      <td>Single</td>\n      <td>1/1/13 0:00</td>\n      <td>1</td>\n      <td>Low</td>\n      <td>7</td>\n      <td>Risk of Violence</td>\n      <td>-2.08</td>\n      <td>...</td>\n      <td>0</td>\n      <td>0</td>\n      <td>0</td>\n      <td>1</td>\n      <td>0</td>\n      <td>0</td>\n      <td>0</td>\n      <td>0</td>\n      <td>1</td>\n      <td>0</td>\n    </tr>\n    <tr>\n      <th>1</th>\n      <td>12/05/92</td>\n      <td>Pretrial</td>\n      <td>Jail Inmate</td>\n      <td>Single</td>\n      <td>1/1/13 0:00</td>\n      <td>1</td>\n      <td>Low</td>\n      <td>8</td>\n      <td>Risk of Recidivism</td>\n      <td>-1.06</td>\n      <td>...</td>\n      <td>0</td>\n      <td>0</td>\n      <td>0</td>\n      <td>1</td>\n      <td>0</td>\n      <td>0</td>\n      <td>0</td>\n      <td>0</td>\n      <td>1</td>\n      <td>0</td>\n    </tr>\n    <tr>\n      <th>2</th>\n      <td>12/05/92</td>\n      <td>Pretrial</td>\n      <td>Jail Inmate</td>\n      <td>Single</td>\n      <td>1/1/13 0:00</td>\n      <td>1</td>\n      <td>Low</td>\n      <td>18</td>\n      <td>Risk of Failure to Appear</td>\n      <td>15.00</td>\n      <td>...</td>\n      <td>0</td>\n      <td>0</td>\n      <td>0</td>\n      <td>1</td>\n      <td>0</td>\n      <td>0</td>\n      <td>0</td>\n      <td>0</td>\n      <td>1</td>\n      <td>0</td>\n    </tr>\n    <tr>\n      <th>3</th>\n      <td>09/16/84</td>\n      <td>Pretrial</td>\n      <td>Jail Inmate</td>\n      <td>Married</td>\n      <td>1/1/13 0:00</td>\n      <td>1</td>\n      <td>Low</td>\n      <td>7</td>\n      <td>Risk of Violence</td>\n      <td>-2.84</td>\n      <td>...</td>\n      <td>0</td>\n      <td>0</td>\n      <td>0</td>\n      <td>1</td>\n      <td>0</td>\n      <td>0</td>\n      <td>0</td>\n      <td>0</td>\n      <td>1</td>\n      <td>0</td>\n    </tr>\n    <tr>\n      <th>4</th>\n      <td>09/16/84</td>\n      <td>Pretrial</td>\n      <td>Jail Inmate</td>\n      <td>Married</td>\n      <td>1/1/13 0:00</td>\n      <td>1</td>\n      <td>Low</td>\n      <td>8</td>\n      <td>Risk of Recidivism</td>\n      <td>-1.50</td>\n      <td>...</td>\n      <td>0</td>\n      <td>0</td>\n      <td>0</td>\n      <td>1</td>\n      <td>0</td>\n      <td>0</td>\n      <td>0</td>\n      <td>0</td>\n      <td>1</td>\n      <td>0</td>\n    </tr>\n  </tbody>\n</table>\n<p>5 rows × 27 columns</p>\n</div>"
     },
     "execution_count": 22,
     "metadata": {},
     "output_type": "execute_result"
    }
   ],
   "source": [
    "df = df.drop('ScaleSet', axis=1)\n",
    "df = df.drop('AssessmentReason', axis=1)\n",
    "\n",
    "df.head()"
   ],
   "metadata": {
    "collapsed": false
   }
  },
  {
   "cell_type": "code",
   "execution_count": 23,
   "outputs": [
    {
     "data": {
      "text/plain": "  DateOfBirth CustodyStatus MaritalStatus Screening_Date  RecSupervisionLevel  \\\n0    12/05/92   Jail Inmate        Single    1/1/13 0:00                    1   \n1    12/05/92   Jail Inmate        Single    1/1/13 0:00                    1   \n2    12/05/92   Jail Inmate        Single    1/1/13 0:00                    1   \n3    09/16/84   Jail Inmate       Married    1/1/13 0:00                    1   \n4    09/16/84   Jail Inmate       Married    1/1/13 0:00                    1   \n\n  RecSupervisionLevelText  Scale_ID                DisplayText  RawScore  \\\n0                     Low         7           Risk of Violence     -2.08   \n1                     Low         8         Risk of Recidivism     -1.06   \n2                     Low        18  Risk of Failure to Appear     15.00   \n3                     Low         7           Risk of Violence     -2.84   \n4                     Low         8         Risk of Recidivism     -1.50   \n\n   DecileScore  ...  Other English  Spanish  Conditional Release  \\\n0            4  ...      0       1        0                    0   \n1            2  ...      0       1        0                    0   \n2            1  ...      0       1        0                    0   \n3            2  ...      0       1        0                    0   \n4            1  ...      0       1        0                    0   \n\n   Deferred Sentencing  Other  Parole Violator  Post Sentence  Pretrial  \\\n0                    0      0                0              0         1   \n1                    0      0                0              0         1   \n2                    0      0                0              0         1   \n3                    0      0                0              0         1   \n4                    0      0                0              0         1   \n\n   Probation Violator  \n0                   0  \n1                   0  \n2                   0  \n3                   0  \n4                   0  \n\n[5 rows x 33 columns]",
      "text/html": "<div>\n<style scoped>\n    .dataframe tbody tr th:only-of-type {\n        vertical-align: middle;\n    }\n\n    .dataframe tbody tr th {\n        vertical-align: top;\n    }\n\n    .dataframe thead th {\n        text-align: right;\n    }\n</style>\n<table border=\"1\" class=\"dataframe\">\n  <thead>\n    <tr style=\"text-align: right;\">\n      <th></th>\n      <th>DateOfBirth</th>\n      <th>CustodyStatus</th>\n      <th>MaritalStatus</th>\n      <th>Screening_Date</th>\n      <th>RecSupervisionLevel</th>\n      <th>RecSupervisionLevelText</th>\n      <th>Scale_ID</th>\n      <th>DisplayText</th>\n      <th>RawScore</th>\n      <th>DecileScore</th>\n      <th>...</th>\n      <th>Other</th>\n      <th>English</th>\n      <th>Spanish</th>\n      <th>Conditional Release</th>\n      <th>Deferred Sentencing</th>\n      <th>Other</th>\n      <th>Parole Violator</th>\n      <th>Post Sentence</th>\n      <th>Pretrial</th>\n      <th>Probation Violator</th>\n    </tr>\n  </thead>\n  <tbody>\n    <tr>\n      <th>0</th>\n      <td>12/05/92</td>\n      <td>Jail Inmate</td>\n      <td>Single</td>\n      <td>1/1/13 0:00</td>\n      <td>1</td>\n      <td>Low</td>\n      <td>7</td>\n      <td>Risk of Violence</td>\n      <td>-2.08</td>\n      <td>4</td>\n      <td>...</td>\n      <td>0</td>\n      <td>1</td>\n      <td>0</td>\n      <td>0</td>\n      <td>0</td>\n      <td>0</td>\n      <td>0</td>\n      <td>0</td>\n      <td>1</td>\n      <td>0</td>\n    </tr>\n    <tr>\n      <th>1</th>\n      <td>12/05/92</td>\n      <td>Jail Inmate</td>\n      <td>Single</td>\n      <td>1/1/13 0:00</td>\n      <td>1</td>\n      <td>Low</td>\n      <td>8</td>\n      <td>Risk of Recidivism</td>\n      <td>-1.06</td>\n      <td>2</td>\n      <td>...</td>\n      <td>0</td>\n      <td>1</td>\n      <td>0</td>\n      <td>0</td>\n      <td>0</td>\n      <td>0</td>\n      <td>0</td>\n      <td>0</td>\n      <td>1</td>\n      <td>0</td>\n    </tr>\n    <tr>\n      <th>2</th>\n      <td>12/05/92</td>\n      <td>Jail Inmate</td>\n      <td>Single</td>\n      <td>1/1/13 0:00</td>\n      <td>1</td>\n      <td>Low</td>\n      <td>18</td>\n      <td>Risk of Failure to Appear</td>\n      <td>15.00</td>\n      <td>1</td>\n      <td>...</td>\n      <td>0</td>\n      <td>1</td>\n      <td>0</td>\n      <td>0</td>\n      <td>0</td>\n      <td>0</td>\n      <td>0</td>\n      <td>0</td>\n      <td>1</td>\n      <td>0</td>\n    </tr>\n    <tr>\n      <th>3</th>\n      <td>09/16/84</td>\n      <td>Jail Inmate</td>\n      <td>Married</td>\n      <td>1/1/13 0:00</td>\n      <td>1</td>\n      <td>Low</td>\n      <td>7</td>\n      <td>Risk of Violence</td>\n      <td>-2.84</td>\n      <td>2</td>\n      <td>...</td>\n      <td>0</td>\n      <td>1</td>\n      <td>0</td>\n      <td>0</td>\n      <td>0</td>\n      <td>0</td>\n      <td>0</td>\n      <td>0</td>\n      <td>1</td>\n      <td>0</td>\n    </tr>\n    <tr>\n      <th>4</th>\n      <td>09/16/84</td>\n      <td>Jail Inmate</td>\n      <td>Married</td>\n      <td>1/1/13 0:00</td>\n      <td>1</td>\n      <td>Low</td>\n      <td>8</td>\n      <td>Risk of Recidivism</td>\n      <td>-1.50</td>\n      <td>1</td>\n      <td>...</td>\n      <td>0</td>\n      <td>1</td>\n      <td>0</td>\n      <td>0</td>\n      <td>0</td>\n      <td>0</td>\n      <td>0</td>\n      <td>0</td>\n      <td>1</td>\n      <td>0</td>\n    </tr>\n  </tbody>\n</table>\n<p>5 rows × 33 columns</p>\n</div>"
     },
     "execution_count": 23,
     "metadata": {},
     "output_type": "execute_result"
    }
   ],
   "source": [
    "df['LegalStatus'].unique()\n",
    "legal = pd.get_dummies(df['LegalStatus'])\n",
    "df = pd.concat([df,legal], axis=1)\n",
    "df = df.drop('LegalStatus', axis=1)\n",
    "\n",
    "df.head()"
   ],
   "metadata": {
    "collapsed": false
   }
  },
  {
   "cell_type": "code",
   "execution_count": 24,
   "outputs": [
    {
     "data": {
      "text/plain": "  DateOfBirth MaritalStatus Screening_Date  RecSupervisionLevel  \\\n0    12/05/92        Single    1/1/13 0:00                    1   \n1    12/05/92        Single    1/1/13 0:00                    1   \n2    12/05/92        Single    1/1/13 0:00                    1   \n3    09/16/84       Married    1/1/13 0:00                    1   \n4    09/16/84       Married    1/1/13 0:00                    1   \n\n  RecSupervisionLevelText  Scale_ID                DisplayText  RawScore  \\\n0                     Low         7           Risk of Violence     -2.08   \n1                     Low         8         Risk of Recidivism     -1.06   \n2                     Low        18  Risk of Failure to Appear     15.00   \n3                     Low         7           Risk of Violence     -2.84   \n4                     Low         8         Risk of Recidivism     -1.50   \n\n   DecileScore ScoreText  ... Parole Violator  Post Sentence  Pretrial  \\\n0            4       Low  ...               0              0         1   \n1            2       Low  ...               0              0         1   \n2            1       Low  ...               0              0         1   \n3            2       Low  ...               0              0         1   \n4            1       Low  ...               0              0         1   \n\n   Probation Violator  Jail Inmate  Parole  Pretrial Defendant  Prison Inmate  \\\n0                   0            1       0                   0              0   \n1                   0            1       0                   0              0   \n2                   0            1       0                   0              0   \n3                   0            1       0                   0              0   \n4                   0            1       0                   0              0   \n\n   Probation  Residential Program  \n0          0                    0  \n1          0                    0  \n2          0                    0  \n3          0                    0  \n4          0                    0  \n\n[5 rows x 38 columns]",
      "text/html": "<div>\n<style scoped>\n    .dataframe tbody tr th:only-of-type {\n        vertical-align: middle;\n    }\n\n    .dataframe tbody tr th {\n        vertical-align: top;\n    }\n\n    .dataframe thead th {\n        text-align: right;\n    }\n</style>\n<table border=\"1\" class=\"dataframe\">\n  <thead>\n    <tr style=\"text-align: right;\">\n      <th></th>\n      <th>DateOfBirth</th>\n      <th>MaritalStatus</th>\n      <th>Screening_Date</th>\n      <th>RecSupervisionLevel</th>\n      <th>RecSupervisionLevelText</th>\n      <th>Scale_ID</th>\n      <th>DisplayText</th>\n      <th>RawScore</th>\n      <th>DecileScore</th>\n      <th>ScoreText</th>\n      <th>...</th>\n      <th>Parole Violator</th>\n      <th>Post Sentence</th>\n      <th>Pretrial</th>\n      <th>Probation Violator</th>\n      <th>Jail Inmate</th>\n      <th>Parole</th>\n      <th>Pretrial Defendant</th>\n      <th>Prison Inmate</th>\n      <th>Probation</th>\n      <th>Residential Program</th>\n    </tr>\n  </thead>\n  <tbody>\n    <tr>\n      <th>0</th>\n      <td>12/05/92</td>\n      <td>Single</td>\n      <td>1/1/13 0:00</td>\n      <td>1</td>\n      <td>Low</td>\n      <td>7</td>\n      <td>Risk of Violence</td>\n      <td>-2.08</td>\n      <td>4</td>\n      <td>Low</td>\n      <td>...</td>\n      <td>0</td>\n      <td>0</td>\n      <td>1</td>\n      <td>0</td>\n      <td>1</td>\n      <td>0</td>\n      <td>0</td>\n      <td>0</td>\n      <td>0</td>\n      <td>0</td>\n    </tr>\n    <tr>\n      <th>1</th>\n      <td>12/05/92</td>\n      <td>Single</td>\n      <td>1/1/13 0:00</td>\n      <td>1</td>\n      <td>Low</td>\n      <td>8</td>\n      <td>Risk of Recidivism</td>\n      <td>-1.06</td>\n      <td>2</td>\n      <td>Low</td>\n      <td>...</td>\n      <td>0</td>\n      <td>0</td>\n      <td>1</td>\n      <td>0</td>\n      <td>1</td>\n      <td>0</td>\n      <td>0</td>\n      <td>0</td>\n      <td>0</td>\n      <td>0</td>\n    </tr>\n    <tr>\n      <th>2</th>\n      <td>12/05/92</td>\n      <td>Single</td>\n      <td>1/1/13 0:00</td>\n      <td>1</td>\n      <td>Low</td>\n      <td>18</td>\n      <td>Risk of Failure to Appear</td>\n      <td>15.00</td>\n      <td>1</td>\n      <td>Low</td>\n      <td>...</td>\n      <td>0</td>\n      <td>0</td>\n      <td>1</td>\n      <td>0</td>\n      <td>1</td>\n      <td>0</td>\n      <td>0</td>\n      <td>0</td>\n      <td>0</td>\n      <td>0</td>\n    </tr>\n    <tr>\n      <th>3</th>\n      <td>09/16/84</td>\n      <td>Married</td>\n      <td>1/1/13 0:00</td>\n      <td>1</td>\n      <td>Low</td>\n      <td>7</td>\n      <td>Risk of Violence</td>\n      <td>-2.84</td>\n      <td>2</td>\n      <td>Low</td>\n      <td>...</td>\n      <td>0</td>\n      <td>0</td>\n      <td>1</td>\n      <td>0</td>\n      <td>1</td>\n      <td>0</td>\n      <td>0</td>\n      <td>0</td>\n      <td>0</td>\n      <td>0</td>\n    </tr>\n    <tr>\n      <th>4</th>\n      <td>09/16/84</td>\n      <td>Married</td>\n      <td>1/1/13 0:00</td>\n      <td>1</td>\n      <td>Low</td>\n      <td>8</td>\n      <td>Risk of Recidivism</td>\n      <td>-1.50</td>\n      <td>1</td>\n      <td>Low</td>\n      <td>...</td>\n      <td>0</td>\n      <td>0</td>\n      <td>1</td>\n      <td>0</td>\n      <td>1</td>\n      <td>0</td>\n      <td>0</td>\n      <td>0</td>\n      <td>0</td>\n      <td>0</td>\n    </tr>\n  </tbody>\n</table>\n<p>5 rows × 38 columns</p>\n</div>"
     },
     "execution_count": 24,
     "metadata": {},
     "output_type": "execute_result"
    }
   ],
   "source": [
    "df['CustodyStatus'].unique()\n",
    "custody = pd.get_dummies(df['CustodyStatus'])\n",
    "df = pd.concat([df,custody], axis=1)\n",
    "df = df.drop('CustodyStatus', axis=1)\n",
    "\n",
    "df.head()"
   ],
   "metadata": {
    "collapsed": false
   }
  },
  {
   "cell_type": "code",
   "execution_count": 25,
   "outputs": [
    {
     "data": {
      "text/plain": "  DateOfBirth Screening_Date  RecSupervisionLevel RecSupervisionLevelText  \\\n0    12/05/92    1/1/13 0:00                    1                     Low   \n1    12/05/92    1/1/13 0:00                    1                     Low   \n2    12/05/92    1/1/13 0:00                    1                     Low   \n3    09/16/84    1/1/13 0:00                    1                     Low   \n4    09/16/84    1/1/13 0:00                    1                     Low   \n\n   Scale_ID                DisplayText  RawScore  DecileScore ScoreText  \\\n0         7           Risk of Violence     -2.08            4       Low   \n1         8         Risk of Recidivism     -1.06            2       Low   \n2        18  Risk of Failure to Appear     15.00            1       Low   \n3         7           Risk of Violence     -2.84            2       Low   \n4         8         Risk of Recidivism     -1.50            1       Low   \n\n  AssessmentType  ...  Prison Inmate  Probation  Residential Program  \\\n0            New  ...              0          0                    0   \n1            New  ...              0          0                    0   \n2            New  ...              0          0                    0   \n3            New  ...              0          0                    0   \n4            New  ...              0          0                    0   \n\n   Divorced  Married  Separated  Significant Other  Single  Unknown  Widowed  \n0         0        0          0                  0       1        0        0  \n1         0        0          0                  0       1        0        0  \n2         0        0          0                  0       1        0        0  \n3         0        1          0                  0       0        0        0  \n4         0        1          0                  0       0        0        0  \n\n[5 rows x 44 columns]",
      "text/html": "<div>\n<style scoped>\n    .dataframe tbody tr th:only-of-type {\n        vertical-align: middle;\n    }\n\n    .dataframe tbody tr th {\n        vertical-align: top;\n    }\n\n    .dataframe thead th {\n        text-align: right;\n    }\n</style>\n<table border=\"1\" class=\"dataframe\">\n  <thead>\n    <tr style=\"text-align: right;\">\n      <th></th>\n      <th>DateOfBirth</th>\n      <th>Screening_Date</th>\n      <th>RecSupervisionLevel</th>\n      <th>RecSupervisionLevelText</th>\n      <th>Scale_ID</th>\n      <th>DisplayText</th>\n      <th>RawScore</th>\n      <th>DecileScore</th>\n      <th>ScoreText</th>\n      <th>AssessmentType</th>\n      <th>...</th>\n      <th>Prison Inmate</th>\n      <th>Probation</th>\n      <th>Residential Program</th>\n      <th>Divorced</th>\n      <th>Married</th>\n      <th>Separated</th>\n      <th>Significant Other</th>\n      <th>Single</th>\n      <th>Unknown</th>\n      <th>Widowed</th>\n    </tr>\n  </thead>\n  <tbody>\n    <tr>\n      <th>0</th>\n      <td>12/05/92</td>\n      <td>1/1/13 0:00</td>\n      <td>1</td>\n      <td>Low</td>\n      <td>7</td>\n      <td>Risk of Violence</td>\n      <td>-2.08</td>\n      <td>4</td>\n      <td>Low</td>\n      <td>New</td>\n      <td>...</td>\n      <td>0</td>\n      <td>0</td>\n      <td>0</td>\n      <td>0</td>\n      <td>0</td>\n      <td>0</td>\n      <td>0</td>\n      <td>1</td>\n      <td>0</td>\n      <td>0</td>\n    </tr>\n    <tr>\n      <th>1</th>\n      <td>12/05/92</td>\n      <td>1/1/13 0:00</td>\n      <td>1</td>\n      <td>Low</td>\n      <td>8</td>\n      <td>Risk of Recidivism</td>\n      <td>-1.06</td>\n      <td>2</td>\n      <td>Low</td>\n      <td>New</td>\n      <td>...</td>\n      <td>0</td>\n      <td>0</td>\n      <td>0</td>\n      <td>0</td>\n      <td>0</td>\n      <td>0</td>\n      <td>0</td>\n      <td>1</td>\n      <td>0</td>\n      <td>0</td>\n    </tr>\n    <tr>\n      <th>2</th>\n      <td>12/05/92</td>\n      <td>1/1/13 0:00</td>\n      <td>1</td>\n      <td>Low</td>\n      <td>18</td>\n      <td>Risk of Failure to Appear</td>\n      <td>15.00</td>\n      <td>1</td>\n      <td>Low</td>\n      <td>New</td>\n      <td>...</td>\n      <td>0</td>\n      <td>0</td>\n      <td>0</td>\n      <td>0</td>\n      <td>0</td>\n      <td>0</td>\n      <td>0</td>\n      <td>1</td>\n      <td>0</td>\n      <td>0</td>\n    </tr>\n    <tr>\n      <th>3</th>\n      <td>09/16/84</td>\n      <td>1/1/13 0:00</td>\n      <td>1</td>\n      <td>Low</td>\n      <td>7</td>\n      <td>Risk of Violence</td>\n      <td>-2.84</td>\n      <td>2</td>\n      <td>Low</td>\n      <td>New</td>\n      <td>...</td>\n      <td>0</td>\n      <td>0</td>\n      <td>0</td>\n      <td>0</td>\n      <td>1</td>\n      <td>0</td>\n      <td>0</td>\n      <td>0</td>\n      <td>0</td>\n      <td>0</td>\n    </tr>\n    <tr>\n      <th>4</th>\n      <td>09/16/84</td>\n      <td>1/1/13 0:00</td>\n      <td>1</td>\n      <td>Low</td>\n      <td>8</td>\n      <td>Risk of Recidivism</td>\n      <td>-1.50</td>\n      <td>1</td>\n      <td>Low</td>\n      <td>New</td>\n      <td>...</td>\n      <td>0</td>\n      <td>0</td>\n      <td>0</td>\n      <td>0</td>\n      <td>1</td>\n      <td>0</td>\n      <td>0</td>\n      <td>0</td>\n      <td>0</td>\n      <td>0</td>\n    </tr>\n  </tbody>\n</table>\n<p>5 rows × 44 columns</p>\n</div>"
     },
     "execution_count": 25,
     "metadata": {},
     "output_type": "execute_result"
    }
   ],
   "source": [
    "df['MaritalStatus'].unique()\n",
    "marital = pd.get_dummies(df['MaritalStatus'])\n",
    "df = pd.concat([df,marital], axis=1)\n",
    "df = df.drop('MaritalStatus', axis=1)\n",
    "\n",
    "df.head()"
   ],
   "metadata": {
    "collapsed": false
   }
  },
  {
   "cell_type": "code",
   "execution_count": 26,
   "outputs": [
    {
     "data": {
      "text/plain": "  DateOfBirth  RecSupervisionLevel RecSupervisionLevelText  Scale_ID  \\\n0    12/05/92                    1                     Low         7   \n1    12/05/92                    1                     Low         8   \n2    12/05/92                    1                     Low        18   \n3    09/16/84                    1                     Low         7   \n4    09/16/84                    1                     Low         8   \n\n                 DisplayText  RawScore  DecileScore ScoreText  IsCompleted  \\\n0           Risk of Violence     -2.08            4       Low            1   \n1         Risk of Recidivism     -1.06            2       Low            1   \n2  Risk of Failure to Appear     15.00            1       Low            1   \n3           Risk of Violence     -2.84            2       Low            1   \n4         Risk of Recidivism     -1.50            1       Low            1   \n\n   IsDeleted  ...  Prison Inmate  Probation  Residential Program  Divorced  \\\n0          0  ...              0          0                    0         0   \n1          0  ...              0          0                    0         0   \n2          0  ...              0          0                    0         0   \n3          0  ...              0          0                    0         0   \n4          0  ...              0          0                    0         0   \n\n   Married  Separated  Significant Other  Single  Unknown  Widowed  \n0        0          0                  0       1        0        0  \n1        0          0                  0       1        0        0  \n2        0          0                  0       1        0        0  \n3        1          0                  0       0        0        0  \n4        1          0                  0       0        0        0  \n\n[5 rows x 42 columns]",
      "text/html": "<div>\n<style scoped>\n    .dataframe tbody tr th:only-of-type {\n        vertical-align: middle;\n    }\n\n    .dataframe tbody tr th {\n        vertical-align: top;\n    }\n\n    .dataframe thead th {\n        text-align: right;\n    }\n</style>\n<table border=\"1\" class=\"dataframe\">\n  <thead>\n    <tr style=\"text-align: right;\">\n      <th></th>\n      <th>DateOfBirth</th>\n      <th>RecSupervisionLevel</th>\n      <th>RecSupervisionLevelText</th>\n      <th>Scale_ID</th>\n      <th>DisplayText</th>\n      <th>RawScore</th>\n      <th>DecileScore</th>\n      <th>ScoreText</th>\n      <th>IsCompleted</th>\n      <th>IsDeleted</th>\n      <th>...</th>\n      <th>Prison Inmate</th>\n      <th>Probation</th>\n      <th>Residential Program</th>\n      <th>Divorced</th>\n      <th>Married</th>\n      <th>Separated</th>\n      <th>Significant Other</th>\n      <th>Single</th>\n      <th>Unknown</th>\n      <th>Widowed</th>\n    </tr>\n  </thead>\n  <tbody>\n    <tr>\n      <th>0</th>\n      <td>12/05/92</td>\n      <td>1</td>\n      <td>Low</td>\n      <td>7</td>\n      <td>Risk of Violence</td>\n      <td>-2.08</td>\n      <td>4</td>\n      <td>Low</td>\n      <td>1</td>\n      <td>0</td>\n      <td>...</td>\n      <td>0</td>\n      <td>0</td>\n      <td>0</td>\n      <td>0</td>\n      <td>0</td>\n      <td>0</td>\n      <td>0</td>\n      <td>1</td>\n      <td>0</td>\n      <td>0</td>\n    </tr>\n    <tr>\n      <th>1</th>\n      <td>12/05/92</td>\n      <td>1</td>\n      <td>Low</td>\n      <td>8</td>\n      <td>Risk of Recidivism</td>\n      <td>-1.06</td>\n      <td>2</td>\n      <td>Low</td>\n      <td>1</td>\n      <td>0</td>\n      <td>...</td>\n      <td>0</td>\n      <td>0</td>\n      <td>0</td>\n      <td>0</td>\n      <td>0</td>\n      <td>0</td>\n      <td>0</td>\n      <td>1</td>\n      <td>0</td>\n      <td>0</td>\n    </tr>\n    <tr>\n      <th>2</th>\n      <td>12/05/92</td>\n      <td>1</td>\n      <td>Low</td>\n      <td>18</td>\n      <td>Risk of Failure to Appear</td>\n      <td>15.00</td>\n      <td>1</td>\n      <td>Low</td>\n      <td>1</td>\n      <td>0</td>\n      <td>...</td>\n      <td>0</td>\n      <td>0</td>\n      <td>0</td>\n      <td>0</td>\n      <td>0</td>\n      <td>0</td>\n      <td>0</td>\n      <td>1</td>\n      <td>0</td>\n      <td>0</td>\n    </tr>\n    <tr>\n      <th>3</th>\n      <td>09/16/84</td>\n      <td>1</td>\n      <td>Low</td>\n      <td>7</td>\n      <td>Risk of Violence</td>\n      <td>-2.84</td>\n      <td>2</td>\n      <td>Low</td>\n      <td>1</td>\n      <td>0</td>\n      <td>...</td>\n      <td>0</td>\n      <td>0</td>\n      <td>0</td>\n      <td>0</td>\n      <td>1</td>\n      <td>0</td>\n      <td>0</td>\n      <td>0</td>\n      <td>0</td>\n      <td>0</td>\n    </tr>\n    <tr>\n      <th>4</th>\n      <td>09/16/84</td>\n      <td>1</td>\n      <td>Low</td>\n      <td>8</td>\n      <td>Risk of Recidivism</td>\n      <td>-1.50</td>\n      <td>1</td>\n      <td>Low</td>\n      <td>1</td>\n      <td>0</td>\n      <td>...</td>\n      <td>0</td>\n      <td>0</td>\n      <td>0</td>\n      <td>0</td>\n      <td>1</td>\n      <td>0</td>\n      <td>0</td>\n      <td>0</td>\n      <td>0</td>\n      <td>0</td>\n    </tr>\n  </tbody>\n</table>\n<p>5 rows × 42 columns</p>\n</div>"
     },
     "execution_count": 26,
     "metadata": {},
     "output_type": "execute_result"
    }
   ],
   "source": [
    "df = df.drop('Screening_Date', axis=1)\n",
    "df = df.drop('AssessmentType', axis=1)\n",
    "\n",
    "df.head()"
   ],
   "metadata": {
    "collapsed": false
   }
  },
  {
   "cell_type": "code",
   "execution_count": 27,
   "outputs": [
    {
     "data": {
      "text/plain": "  DateOfBirth  DecileScore ScoreText  Male  African-Am  African-American  \\\n0    12/05/92            4       Low     1           0                 0   \n1    12/05/92            2       Low     1           0                 0   \n2    12/05/92            1       Low     1           0                 0   \n3    09/16/84            2       Low     1           0                 0   \n4    09/16/84            1       Low     1           0                 0   \n\n   Arabic  Asian  Caucasian  Hispanic  ...  Prison Inmate  Probation  \\\n0       0      0          1         0  ...              0          0   \n1       0      0          1         0  ...              0          0   \n2       0      0          1         0  ...              0          0   \n3       0      0          1         0  ...              0          0   \n4       0      0          1         0  ...              0          0   \n\n   Residential Program  Divorced  Married  Separated  Significant Other  \\\n0                    0         0        0          0                  0   \n1                    0         0        0          0                  0   \n2                    0         0        0          0                  0   \n3                    0         0        1          0                  0   \n4                    0         0        1          0                  0   \n\n   Single  Unknown  Widowed  \n0       1        0        0  \n1       1        0        0  \n2       1        0        0  \n3       0        0        0  \n4       0        0        0  \n\n[5 rows x 35 columns]",
      "text/html": "<div>\n<style scoped>\n    .dataframe tbody tr th:only-of-type {\n        vertical-align: middle;\n    }\n\n    .dataframe tbody tr th {\n        vertical-align: top;\n    }\n\n    .dataframe thead th {\n        text-align: right;\n    }\n</style>\n<table border=\"1\" class=\"dataframe\">\n  <thead>\n    <tr style=\"text-align: right;\">\n      <th></th>\n      <th>DateOfBirth</th>\n      <th>DecileScore</th>\n      <th>ScoreText</th>\n      <th>Male</th>\n      <th>African-Am</th>\n      <th>African-American</th>\n      <th>Arabic</th>\n      <th>Asian</th>\n      <th>Caucasian</th>\n      <th>Hispanic</th>\n      <th>...</th>\n      <th>Prison Inmate</th>\n      <th>Probation</th>\n      <th>Residential Program</th>\n      <th>Divorced</th>\n      <th>Married</th>\n      <th>Separated</th>\n      <th>Significant Other</th>\n      <th>Single</th>\n      <th>Unknown</th>\n      <th>Widowed</th>\n    </tr>\n  </thead>\n  <tbody>\n    <tr>\n      <th>0</th>\n      <td>12/05/92</td>\n      <td>4</td>\n      <td>Low</td>\n      <td>1</td>\n      <td>0</td>\n      <td>0</td>\n      <td>0</td>\n      <td>0</td>\n      <td>1</td>\n      <td>0</td>\n      <td>...</td>\n      <td>0</td>\n      <td>0</td>\n      <td>0</td>\n      <td>0</td>\n      <td>0</td>\n      <td>0</td>\n      <td>0</td>\n      <td>1</td>\n      <td>0</td>\n      <td>0</td>\n    </tr>\n    <tr>\n      <th>1</th>\n      <td>12/05/92</td>\n      <td>2</td>\n      <td>Low</td>\n      <td>1</td>\n      <td>0</td>\n      <td>0</td>\n      <td>0</td>\n      <td>0</td>\n      <td>1</td>\n      <td>0</td>\n      <td>...</td>\n      <td>0</td>\n      <td>0</td>\n      <td>0</td>\n      <td>0</td>\n      <td>0</td>\n      <td>0</td>\n      <td>0</td>\n      <td>1</td>\n      <td>0</td>\n      <td>0</td>\n    </tr>\n    <tr>\n      <th>2</th>\n      <td>12/05/92</td>\n      <td>1</td>\n      <td>Low</td>\n      <td>1</td>\n      <td>0</td>\n      <td>0</td>\n      <td>0</td>\n      <td>0</td>\n      <td>1</td>\n      <td>0</td>\n      <td>...</td>\n      <td>0</td>\n      <td>0</td>\n      <td>0</td>\n      <td>0</td>\n      <td>0</td>\n      <td>0</td>\n      <td>0</td>\n      <td>1</td>\n      <td>0</td>\n      <td>0</td>\n    </tr>\n    <tr>\n      <th>3</th>\n      <td>09/16/84</td>\n      <td>2</td>\n      <td>Low</td>\n      <td>1</td>\n      <td>0</td>\n      <td>0</td>\n      <td>0</td>\n      <td>0</td>\n      <td>1</td>\n      <td>0</td>\n      <td>...</td>\n      <td>0</td>\n      <td>0</td>\n      <td>0</td>\n      <td>0</td>\n      <td>1</td>\n      <td>0</td>\n      <td>0</td>\n      <td>0</td>\n      <td>0</td>\n      <td>0</td>\n    </tr>\n    <tr>\n      <th>4</th>\n      <td>09/16/84</td>\n      <td>1</td>\n      <td>Low</td>\n      <td>1</td>\n      <td>0</td>\n      <td>0</td>\n      <td>0</td>\n      <td>0</td>\n      <td>1</td>\n      <td>0</td>\n      <td>...</td>\n      <td>0</td>\n      <td>0</td>\n      <td>0</td>\n      <td>0</td>\n      <td>1</td>\n      <td>0</td>\n      <td>0</td>\n      <td>0</td>\n      <td>0</td>\n      <td>0</td>\n    </tr>\n  </tbody>\n</table>\n<p>5 rows × 35 columns</p>\n</div>"
     },
     "execution_count": 27,
     "metadata": {},
     "output_type": "execute_result"
    }
   ],
   "source": [
    "df = df.drop('RecSupervisionLevel', axis=1)\n",
    "df = df.drop('RecSupervisionLevelText', axis=1)\n",
    "df = df.drop('Scale_ID', axis=1)\n",
    "df = df.drop('DisplayText', axis=1)\n",
    "df = df.drop('RawScore', axis=1)\n",
    "df = df.drop('IsCompleted', axis=1)\n",
    "df = df.drop('IsDeleted', axis=1)\n",
    "\n",
    "df.head()"
   ],
   "metadata": {
    "collapsed": false
   }
  },
  {
   "cell_type": "code",
   "execution_count": 28,
   "outputs": [
    {
     "data": {
      "text/plain": "\"now = pd.Timestamp('now')\\ndf['DateOfBirth'] = pd.to_datetime(df['DateOfBirth'], format='%m/%d/%y')    # 1\\ndf['DateOfBirth'] = df['DateOfBirth'].where(df['DateOfBirth'] < now, df['DateOfBirth'] -  np.timedelta64(100, 'Y'))   # 2\\ndf['age'] = (now - df['DateOfBirth']).astype('<m8[Y]')\\ndf = df.drop('DateOfBirth', axis=1)\\n\\ndf.head()\""
     },
     "execution_count": 28,
     "metadata": {},
     "output_type": "execute_result"
    }
   ],
   "source": [
    "'''now = pd.Timestamp('now')\n",
    "df['DateOfBirth'] = pd.to_datetime(df['DateOfBirth'], format='%m/%d/%y')    # 1\n",
    "df['DateOfBirth'] = df['DateOfBirth'].where(df['DateOfBirth'] < now, df['DateOfBirth'] -  np.timedelta64(100, 'Y'))   # 2\n",
    "df['age'] = (now - df['DateOfBirth']).astype('<m8[Y]')\n",
    "df = df.drop('DateOfBirth', axis=1)\n",
    "\n",
    "df.head()'''"
   ],
   "metadata": {
    "collapsed": false
   }
  },
  {
   "cell_type": "code",
   "execution_count": 29,
   "outputs": [
    {
     "data": {
      "text/plain": "   DecileScore ScoreText  Male  African-Am  African-American  Arabic  Asian  \\\n0            4       Low     1           0                 0       0      0   \n1            2       Low     1           0                 0       0      0   \n2            1       Low     1           0                 0       0      0   \n3            2       Low     1           0                 0       0      0   \n4            1       Low     1           0                 0       0      0   \n\n   Caucasian  Hispanic  Native American  ...  Probation  Residential Program  \\\n0          1         0                0  ...          0                    0   \n1          1         0                0  ...          0                    0   \n2          1         0                0  ...          0                    0   \n3          1         0                0  ...          0                    0   \n4          1         0                0  ...          0                    0   \n\n   Divorced  Married  Separated  Significant Other  Single  Unknown  Widowed  \\\n0         0        0          0                  0       1        0        0   \n1         0        0          0                  0       1        0        0   \n2         0        0          0                  0       1        0        0   \n3         0        1          0                  0       0        0        0   \n4         0        1          0                  0       0        0        0   \n\n   age  \n0   30  \n1   30  \n2   30  \n3   38  \n4   38  \n\n[5 rows x 35 columns]",
      "text/html": "<div>\n<style scoped>\n    .dataframe tbody tr th:only-of-type {\n        vertical-align: middle;\n    }\n\n    .dataframe tbody tr th {\n        vertical-align: top;\n    }\n\n    .dataframe thead th {\n        text-align: right;\n    }\n</style>\n<table border=\"1\" class=\"dataframe\">\n  <thead>\n    <tr style=\"text-align: right;\">\n      <th></th>\n      <th>DecileScore</th>\n      <th>ScoreText</th>\n      <th>Male</th>\n      <th>African-Am</th>\n      <th>African-American</th>\n      <th>Arabic</th>\n      <th>Asian</th>\n      <th>Caucasian</th>\n      <th>Hispanic</th>\n      <th>Native American</th>\n      <th>...</th>\n      <th>Probation</th>\n      <th>Residential Program</th>\n      <th>Divorced</th>\n      <th>Married</th>\n      <th>Separated</th>\n      <th>Significant Other</th>\n      <th>Single</th>\n      <th>Unknown</th>\n      <th>Widowed</th>\n      <th>age</th>\n    </tr>\n  </thead>\n  <tbody>\n    <tr>\n      <th>0</th>\n      <td>4</td>\n      <td>Low</td>\n      <td>1</td>\n      <td>0</td>\n      <td>0</td>\n      <td>0</td>\n      <td>0</td>\n      <td>1</td>\n      <td>0</td>\n      <td>0</td>\n      <td>...</td>\n      <td>0</td>\n      <td>0</td>\n      <td>0</td>\n      <td>0</td>\n      <td>0</td>\n      <td>0</td>\n      <td>1</td>\n      <td>0</td>\n      <td>0</td>\n      <td>30</td>\n    </tr>\n    <tr>\n      <th>1</th>\n      <td>2</td>\n      <td>Low</td>\n      <td>1</td>\n      <td>0</td>\n      <td>0</td>\n      <td>0</td>\n      <td>0</td>\n      <td>1</td>\n      <td>0</td>\n      <td>0</td>\n      <td>...</td>\n      <td>0</td>\n      <td>0</td>\n      <td>0</td>\n      <td>0</td>\n      <td>0</td>\n      <td>0</td>\n      <td>1</td>\n      <td>0</td>\n      <td>0</td>\n      <td>30</td>\n    </tr>\n    <tr>\n      <th>2</th>\n      <td>1</td>\n      <td>Low</td>\n      <td>1</td>\n      <td>0</td>\n      <td>0</td>\n      <td>0</td>\n      <td>0</td>\n      <td>1</td>\n      <td>0</td>\n      <td>0</td>\n      <td>...</td>\n      <td>0</td>\n      <td>0</td>\n      <td>0</td>\n      <td>0</td>\n      <td>0</td>\n      <td>0</td>\n      <td>1</td>\n      <td>0</td>\n      <td>0</td>\n      <td>30</td>\n    </tr>\n    <tr>\n      <th>3</th>\n      <td>2</td>\n      <td>Low</td>\n      <td>1</td>\n      <td>0</td>\n      <td>0</td>\n      <td>0</td>\n      <td>0</td>\n      <td>1</td>\n      <td>0</td>\n      <td>0</td>\n      <td>...</td>\n      <td>0</td>\n      <td>0</td>\n      <td>0</td>\n      <td>1</td>\n      <td>0</td>\n      <td>0</td>\n      <td>0</td>\n      <td>0</td>\n      <td>0</td>\n      <td>38</td>\n    </tr>\n    <tr>\n      <th>4</th>\n      <td>1</td>\n      <td>Low</td>\n      <td>1</td>\n      <td>0</td>\n      <td>0</td>\n      <td>0</td>\n      <td>0</td>\n      <td>1</td>\n      <td>0</td>\n      <td>0</td>\n      <td>...</td>\n      <td>0</td>\n      <td>0</td>\n      <td>0</td>\n      <td>1</td>\n      <td>0</td>\n      <td>0</td>\n      <td>0</td>\n      <td>0</td>\n      <td>0</td>\n      <td>38</td>\n    </tr>\n  </tbody>\n</table>\n<p>5 rows × 35 columns</p>\n</div>"
     },
     "execution_count": 29,
     "metadata": {},
     "output_type": "execute_result"
    }
   ],
   "source": [
    "df['age'] = 122 - df['DateOfBirth'].str[-2:].astype(int)\n",
    "df = df.drop('DateOfBirth', axis=1)\n",
    "df.head()\n"
   ],
   "metadata": {
    "collapsed": false
   }
  },
  {
   "cell_type": "code",
   "execution_count": 30,
   "outputs": [
    {
     "data": {
      "text/plain": "DecileScore  ScoreText\n1            Low          18465\n2            Low           9192\n3            Low           8492\n4            Low           5338\n5            Medium        4831\n6            Medium        4319\n7            Medium        3338\n8            High          2799\n9            High          2386\n10           High          1638\ndtype: int64"
     },
     "execution_count": 30,
     "metadata": {},
     "output_type": "execute_result"
    }
   ],
   "source": [
    "df[['DecileScore', 'ScoreText']].value_counts()"
   ],
   "metadata": {
    "collapsed": false
   }
  }
 ],
 "metadata": {
  "kernelspec": {
   "display_name": "Python 3 (ipykernel)",
   "language": "python",
   "name": "python3"
  },
  "language_info": {
   "codemirror_mode": {
    "name": "ipython",
    "version": 3
   },
   "file_extension": ".py",
   "mimetype": "text/x-python",
   "name": "python",
   "nbconvert_exporter": "python",
   "pygments_lexer": "ipython3",
   "version": "3.8.5"
  }
 },
 "nbformat": 4,
 "nbformat_minor": 1
}
