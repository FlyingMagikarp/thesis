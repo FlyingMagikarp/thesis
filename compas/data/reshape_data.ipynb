{
 "cells": [
  {
   "cell_type": "code",
   "execution_count": 7,
   "metadata": {
    "collapsed": true
   },
   "outputs": [],
   "source": [
    "import pandas as pd\n",
    "import numpy as np\n"
   ]
  },
  {
   "cell_type": "code",
   "execution_count": 8,
   "outputs": [
    {
     "name": "stdout",
     "output_type": "stream",
     "text": [
      "6172\n"
     ]
    }
   ],
   "source": [
    "df = pd.read_csv('./propublica_data_for_fairml.csv')\n",
    "\n",
    "print(len(df))"
   ],
   "metadata": {
    "collapsed": false
   }
  },
  {
   "cell_type": "code",
   "execution_count": 9,
   "outputs": [
    {
     "name": "stdout",
     "output_type": "stream",
     "text": [
      "2103\n",
      "4069\n"
     ]
    }
   ],
   "source": [
    "df_white = df.loc[(df['African_American'] == 0)\n",
    "                  & (df['Hispanic'] == 0)\n",
    "                  & (df['Asian'] == 0)\n",
    "                  & (df['Native_American'] == 0)\n",
    "                  & (df['Other'] == 0)]\n",
    "\n",
    "df_non_white = df.loc[(df['African_American'] == 1)\n",
    "                      | (df['Hispanic'] == 1)\n",
    "                      | (df['Asian'] == 1)\n",
    "                      | (df['Native_American'] == 1)\n",
    "                      | (df['Other'] == 1)]\n",
    "print(len(df_white))\n",
    "print(len(df_non_white))"
   ],
   "metadata": {
    "collapsed": false
   }
  },
  {
   "cell_type": "code",
   "execution_count": 10,
   "outputs": [
    {
     "data": {
      "text/plain": "   Two_yr_Recidivism  Number_of_Priors  score_factor  Age_Above_FourtyFive  \\\n0                  0                 0             0                     1   \n1                  1                 0             0                     0   \n2                  1                 4             0                     0   \n3                  0                 0             0                     0   \n5                  0                 3             0                     0   \n\n   Age_Below_TwentyFive Caucasian  African_American  Asian  Hispanic  \\\n0                     0         0                 0      0         0   \n1                     0         0                 1      0         0   \n2                     1         0                 1      0         0   \n3                     0         0                 0      0         0   \n5                     0         0                 0      0         0   \n\n   Native_American  Other  Female  Misdemeanor  \n0                0      1       0            0  \n1                0      0       0            0  \n2                0      0       0            0  \n3                0      1       0            1  \n5                0      1       0            0  ",
      "text/html": "<div>\n<style scoped>\n    .dataframe tbody tr th:only-of-type {\n        vertical-align: middle;\n    }\n\n    .dataframe tbody tr th {\n        vertical-align: top;\n    }\n\n    .dataframe thead th {\n        text-align: right;\n    }\n</style>\n<table border=\"1\" class=\"dataframe\">\n  <thead>\n    <tr style=\"text-align: right;\">\n      <th></th>\n      <th>Two_yr_Recidivism</th>\n      <th>Number_of_Priors</th>\n      <th>score_factor</th>\n      <th>Age_Above_FourtyFive</th>\n      <th>Age_Below_TwentyFive</th>\n      <th>Caucasian</th>\n      <th>African_American</th>\n      <th>Asian</th>\n      <th>Hispanic</th>\n      <th>Native_American</th>\n      <th>Other</th>\n      <th>Female</th>\n      <th>Misdemeanor</th>\n    </tr>\n  </thead>\n  <tbody>\n    <tr>\n      <th>0</th>\n      <td>0</td>\n      <td>0</td>\n      <td>0</td>\n      <td>1</td>\n      <td>0</td>\n      <td>0</td>\n      <td>0</td>\n      <td>0</td>\n      <td>0</td>\n      <td>0</td>\n      <td>1</td>\n      <td>0</td>\n      <td>0</td>\n    </tr>\n    <tr>\n      <th>1</th>\n      <td>1</td>\n      <td>0</td>\n      <td>0</td>\n      <td>0</td>\n      <td>0</td>\n      <td>0</td>\n      <td>1</td>\n      <td>0</td>\n      <td>0</td>\n      <td>0</td>\n      <td>0</td>\n      <td>0</td>\n      <td>0</td>\n    </tr>\n    <tr>\n      <th>2</th>\n      <td>1</td>\n      <td>4</td>\n      <td>0</td>\n      <td>0</td>\n      <td>1</td>\n      <td>0</td>\n      <td>1</td>\n      <td>0</td>\n      <td>0</td>\n      <td>0</td>\n      <td>0</td>\n      <td>0</td>\n      <td>0</td>\n    </tr>\n    <tr>\n      <th>3</th>\n      <td>0</td>\n      <td>0</td>\n      <td>0</td>\n      <td>0</td>\n      <td>0</td>\n      <td>0</td>\n      <td>0</td>\n      <td>0</td>\n      <td>0</td>\n      <td>0</td>\n      <td>1</td>\n      <td>0</td>\n      <td>1</td>\n    </tr>\n    <tr>\n      <th>5</th>\n      <td>0</td>\n      <td>3</td>\n      <td>0</td>\n      <td>0</td>\n      <td>0</td>\n      <td>0</td>\n      <td>0</td>\n      <td>0</td>\n      <td>0</td>\n      <td>0</td>\n      <td>1</td>\n      <td>0</td>\n      <td>0</td>\n    </tr>\n  </tbody>\n</table>\n</div>"
     },
     "execution_count": 10,
     "metadata": {},
     "output_type": "execute_result"
    }
   ],
   "source": [
    "df_white.insert(5, 'Caucasian', '1')\n",
    "df_non_white.insert(5, 'Caucasian', '0')\n",
    "df_non_white.head()"
   ],
   "metadata": {
    "collapsed": false
   }
  },
  {
   "cell_type": "code",
   "execution_count": 13,
   "outputs": [
    {
     "data": {
      "text/plain": "    Two_yr_Recidivism  Number_of_Priors  score_factor  Age_Above_FourtyFive  \\\n4                   1                14             1                     0   \n6                   0                 0             0                     0   \n7                   0                 0             0                     0   \n9                   0                 0             0                     0   \n11                  1                 1             0                     1   \n\n    Age_Below_TwentyFive Caucasian  African_American  Asian  Hispanic  \\\n4                      0         1                 0      0         0   \n6                      0         1                 0      0         0   \n7                      0         1                 0      0         0   \n9                      0         1                 0      0         0   \n11                     0         1                 0      0         0   \n\n    Native_American  Other  Female  Misdemeanor  \n4                 0      0       0            0  \n6                 0      0       1            1  \n7                 0      0       0            0  \n9                 0      0       1            1  \n11                0      0       1            0  ",
      "text/html": "<div>\n<style scoped>\n    .dataframe tbody tr th:only-of-type {\n        vertical-align: middle;\n    }\n\n    .dataframe tbody tr th {\n        vertical-align: top;\n    }\n\n    .dataframe thead th {\n        text-align: right;\n    }\n</style>\n<table border=\"1\" class=\"dataframe\">\n  <thead>\n    <tr style=\"text-align: right;\">\n      <th></th>\n      <th>Two_yr_Recidivism</th>\n      <th>Number_of_Priors</th>\n      <th>score_factor</th>\n      <th>Age_Above_FourtyFive</th>\n      <th>Age_Below_TwentyFive</th>\n      <th>Caucasian</th>\n      <th>African_American</th>\n      <th>Asian</th>\n      <th>Hispanic</th>\n      <th>Native_American</th>\n      <th>Other</th>\n      <th>Female</th>\n      <th>Misdemeanor</th>\n    </tr>\n  </thead>\n  <tbody>\n    <tr>\n      <th>4</th>\n      <td>1</td>\n      <td>14</td>\n      <td>1</td>\n      <td>0</td>\n      <td>0</td>\n      <td>1</td>\n      <td>0</td>\n      <td>0</td>\n      <td>0</td>\n      <td>0</td>\n      <td>0</td>\n      <td>0</td>\n      <td>0</td>\n    </tr>\n    <tr>\n      <th>6</th>\n      <td>0</td>\n      <td>0</td>\n      <td>0</td>\n      <td>0</td>\n      <td>0</td>\n      <td>1</td>\n      <td>0</td>\n      <td>0</td>\n      <td>0</td>\n      <td>0</td>\n      <td>0</td>\n      <td>1</td>\n      <td>1</td>\n    </tr>\n    <tr>\n      <th>7</th>\n      <td>0</td>\n      <td>0</td>\n      <td>0</td>\n      <td>0</td>\n      <td>0</td>\n      <td>1</td>\n      <td>0</td>\n      <td>0</td>\n      <td>0</td>\n      <td>0</td>\n      <td>0</td>\n      <td>0</td>\n      <td>0</td>\n    </tr>\n    <tr>\n      <th>9</th>\n      <td>0</td>\n      <td>0</td>\n      <td>0</td>\n      <td>0</td>\n      <td>0</td>\n      <td>1</td>\n      <td>0</td>\n      <td>0</td>\n      <td>0</td>\n      <td>0</td>\n      <td>0</td>\n      <td>1</td>\n      <td>1</td>\n    </tr>\n    <tr>\n      <th>11</th>\n      <td>1</td>\n      <td>1</td>\n      <td>0</td>\n      <td>1</td>\n      <td>0</td>\n      <td>1</td>\n      <td>0</td>\n      <td>0</td>\n      <td>0</td>\n      <td>0</td>\n      <td>0</td>\n      <td>1</td>\n      <td>0</td>\n    </tr>\n  </tbody>\n</table>\n</div>"
     },
     "execution_count": 13,
     "metadata": {},
     "output_type": "execute_result"
    }
   ],
   "source": [
    "df = pd.concat([df_white, df_non_white])\n",
    "df.head()"
   ],
   "metadata": {
    "collapsed": false
   }
  },
  {
   "cell_type": "code",
   "execution_count": 16,
   "outputs": [],
   "source": [
    "df.to_csv('./data/data_with_caucasian.csv', index=False)"
   ],
   "metadata": {
    "collapsed": false
   }
  }
 ],
 "metadata": {
  "kernelspec": {
   "display_name": "Python 3",
   "language": "python",
   "name": "python3"
  },
  "language_info": {
   "codemirror_mode": {
    "name": "ipython",
    "version": 2
   },
   "file_extension": ".py",
   "mimetype": "text/x-python",
   "name": "python",
   "nbconvert_exporter": "python",
   "pygments_lexer": "ipython2",
   "version": "2.7.6"
  }
 },
 "nbformat": 4,
 "nbformat_minor": 0
}
