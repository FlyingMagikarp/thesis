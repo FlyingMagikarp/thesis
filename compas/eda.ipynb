{
 "cells": [
  {
   "cell_type": "code",
   "execution_count": 94,
   "metadata": {
    "collapsed": true
   },
   "outputs": [],
   "source": [
    "import pandas as pd\n",
    "import numpy as np\n",
    "import matplotlib.pyplot as plt\n",
    "%matplotlib notebook"
   ]
  },
  {
   "cell_type": "code",
   "execution_count": 95,
   "metadata": {},
   "outputs": [
    {
     "data": {
      "text/plain": "   DecileScore  Male  African-Am  African-American  Arabic  Asian  Caucasian  \\\n0            4     1           0                 0       0      0          1   \n1            2     1           0                 0       0      0          1   \n2            1     1           0                 0       0      0          1   \n3            2     1           0                 0       0      0          1   \n4            1     1           0                 0       0      0          1   \n\n   Hispanic  Native American  Oriental  ...  Probation  Residential Program  \\\n0         0                0         0  ...          0                    0   \n1         0                0         0  ...          0                    0   \n2         0                0         0  ...          0                    0   \n3         0                0         0  ...          0                    0   \n4         0                0         0  ...          0                    0   \n\n   Divorced  Married  Separated  Significant Other  Single  Unknown  Widowed  \\\n0         0        0          0                  0       1        0        0   \n1         0        0          0                  0       1        0        0   \n2         0        0          0                  0       1        0        0   \n3         0        1          0                  0       0        0        0   \n4         0        1          0                  0       0        0        0   \n\n   age  \n0   30  \n1   30  \n2   30  \n3   38  \n4   38  \n\n[5 rows x 34 columns]",
      "text/html": "<div>\n<style scoped>\n    .dataframe tbody tr th:only-of-type {\n        vertical-align: middle;\n    }\n\n    .dataframe tbody tr th {\n        vertical-align: top;\n    }\n\n    .dataframe thead th {\n        text-align: right;\n    }\n</style>\n<table border=\"1\" class=\"dataframe\">\n  <thead>\n    <tr style=\"text-align: right;\">\n      <th></th>\n      <th>DecileScore</th>\n      <th>Male</th>\n      <th>African-Am</th>\n      <th>African-American</th>\n      <th>Arabic</th>\n      <th>Asian</th>\n      <th>Caucasian</th>\n      <th>Hispanic</th>\n      <th>Native American</th>\n      <th>Oriental</th>\n      <th>...</th>\n      <th>Probation</th>\n      <th>Residential Program</th>\n      <th>Divorced</th>\n      <th>Married</th>\n      <th>Separated</th>\n      <th>Significant Other</th>\n      <th>Single</th>\n      <th>Unknown</th>\n      <th>Widowed</th>\n      <th>age</th>\n    </tr>\n  </thead>\n  <tbody>\n    <tr>\n      <th>0</th>\n      <td>4</td>\n      <td>1</td>\n      <td>0</td>\n      <td>0</td>\n      <td>0</td>\n      <td>0</td>\n      <td>1</td>\n      <td>0</td>\n      <td>0</td>\n      <td>0</td>\n      <td>...</td>\n      <td>0</td>\n      <td>0</td>\n      <td>0</td>\n      <td>0</td>\n      <td>0</td>\n      <td>0</td>\n      <td>1</td>\n      <td>0</td>\n      <td>0</td>\n      <td>30</td>\n    </tr>\n    <tr>\n      <th>1</th>\n      <td>2</td>\n      <td>1</td>\n      <td>0</td>\n      <td>0</td>\n      <td>0</td>\n      <td>0</td>\n      <td>1</td>\n      <td>0</td>\n      <td>0</td>\n      <td>0</td>\n      <td>...</td>\n      <td>0</td>\n      <td>0</td>\n      <td>0</td>\n      <td>0</td>\n      <td>0</td>\n      <td>0</td>\n      <td>1</td>\n      <td>0</td>\n      <td>0</td>\n      <td>30</td>\n    </tr>\n    <tr>\n      <th>2</th>\n      <td>1</td>\n      <td>1</td>\n      <td>0</td>\n      <td>0</td>\n      <td>0</td>\n      <td>0</td>\n      <td>1</td>\n      <td>0</td>\n      <td>0</td>\n      <td>0</td>\n      <td>...</td>\n      <td>0</td>\n      <td>0</td>\n      <td>0</td>\n      <td>0</td>\n      <td>0</td>\n      <td>0</td>\n      <td>1</td>\n      <td>0</td>\n      <td>0</td>\n      <td>30</td>\n    </tr>\n    <tr>\n      <th>3</th>\n      <td>2</td>\n      <td>1</td>\n      <td>0</td>\n      <td>0</td>\n      <td>0</td>\n      <td>0</td>\n      <td>1</td>\n      <td>0</td>\n      <td>0</td>\n      <td>0</td>\n      <td>...</td>\n      <td>0</td>\n      <td>0</td>\n      <td>0</td>\n      <td>1</td>\n      <td>0</td>\n      <td>0</td>\n      <td>0</td>\n      <td>0</td>\n      <td>0</td>\n      <td>38</td>\n    </tr>\n    <tr>\n      <th>4</th>\n      <td>1</td>\n      <td>1</td>\n      <td>0</td>\n      <td>0</td>\n      <td>0</td>\n      <td>0</td>\n      <td>1</td>\n      <td>0</td>\n      <td>0</td>\n      <td>0</td>\n      <td>...</td>\n      <td>0</td>\n      <td>0</td>\n      <td>0</td>\n      <td>1</td>\n      <td>0</td>\n      <td>0</td>\n      <td>0</td>\n      <td>0</td>\n      <td>0</td>\n      <td>38</td>\n    </tr>\n  </tbody>\n</table>\n<p>5 rows × 34 columns</p>\n</div>"
     },
     "execution_count": 95,
     "metadata": {},
     "output_type": "execute_result"
    }
   ],
   "source": [
    "df = pd.read_csv('./data/clean_data.csv')\n",
    "df.head()"
   ]
  },
  {
   "cell_type": "code",
   "execution_count": 96,
   "metadata": {},
   "outputs": [
    {
     "data": {
      "text/plain": "60843"
     },
     "execution_count": 96,
     "metadata": {},
     "output_type": "execute_result"
    }
   ],
   "source": [
    "len(df)"
   ]
  },
  {
   "cell_type": "code",
   "execution_count": 97,
   "metadata": {},
   "outputs": [
    {
     "name": "stdout",
     "output_type": "stream",
     "text": [
      "Male 47514\n",
      "Female 13329\n"
     ]
    }
   ],
   "source": [
    "print('Male', df.loc[df['Male'] == 1].shape[0])\n",
    "print('Female', df.loc[df['Male'] == 0].shape[0])"
   ]
  },
  {
   "cell_type": "code",
   "execution_count": 98,
   "metadata": {},
   "outputs": [],
   "source": [
    "df_male = df.loc[df['Male'] == 1]\n",
    "df_female = df.loc[df['Male'] == 0]"
   ]
  },
  {
   "cell_type": "markdown",
   "metadata": {},
   "source": [
    "## Male Analysis"
   ]
  },
  {
   "cell_type": "code",
   "execution_count": 114,
   "metadata": {},
   "outputs": [
    {
     "name": "stderr",
     "output_type": "stream",
     "text": [
      "/tmp/ipykernel_7377/3688230534.py:1: SettingWithCopyWarning: \n",
      "A value is trying to be set on a copy of a slice from a DataFrame\n",
      "\n",
      "See the caveats in the documentation: https://pandas.pydata.org/pandas-docs/stable/user_guide/indexing.html#returning-a-view-versus-a-copy\n",
      "  df_male.drop(df_male[df_male['DecileScore'] == -1].index, inplace=True)\n"
     ]
    },
    {
     "data": {
      "text/plain": "DecileScore\n1              13988\n2               7094\n3               6697\n4               3912\n5               3863\n6               3410\n7               2732\n8               2378\n9               1981\n10              1424\ndtype: int64"
     },
     "execution_count": 114,
     "metadata": {},
     "output_type": "execute_result"
    }
   ],
   "source": [
    "df_male.drop(df_male[df_male['DecileScore'] == -1].index, inplace=True)\n",
    "df_male[['DecileScore']].value_counts()"
   ]
  },
  {
   "cell_type": "code",
   "execution_count": 101,
   "metadata": {},
   "outputs": [
    {
     "name": "stdout",
     "output_type": "stream",
     "text": [
      "African-Am\n",
      "0             47434\n",
      "1                45\n",
      "dtype: int64\n"
     ]
    },
    {
     "data": {
      "text/plain": "DecileScore  African-Am\n10           1             12\n9            1              6\n1            1              5\n4            1              5\n6            1              5\n2            1              4\n8            1              4\n3            1              2\n7            1              2\ndtype: int64"
     },
     "execution_count": 101,
     "metadata": {},
     "output_type": "execute_result"
    }
   ],
   "source": [
    "print(df_male[['African-Am']].value_counts())\n",
    "df_male_african_am = df_male.loc[df_male['African-Am'] == 1]\n",
    "df_male_african_am[['DecileScore', 'African-Am']].value_counts()"
   ]
  },
  {
   "cell_type": "code",
   "execution_count": 111,
   "outputs": [
    {
     "name": "stdout",
     "output_type": "stream",
     "text": [
      "African-American\n",
      "0                   26052\n",
      "1                   21427\n",
      "dtype: int64\n"
     ]
    },
    {
     "data": {
      "text/plain": "DecileScore  African-American\n1            1                   0.196714\n3            1                   0.137350\n2            1                   0.127456\n5            1                   0.095114\n6            1                   0.092220\n4            1                   0.088440\n7            1                   0.078686\n8            1                   0.073599\n9            1                   0.063751\n10           1                   0.046670\ndtype: float64"
     },
     "execution_count": 111,
     "metadata": {},
     "output_type": "execute_result"
    }
   ],
   "source": [
    "print(df_male[['African-American']].value_counts())\n",
    "df_male_african_american = df_male.loc[df_male['African-American'] == 1]\n",
    "df_male_african_american[['DecileScore', 'African-American']].value_counts(normalize=True)"
   ],
   "metadata": {
    "collapsed": false
   }
  },
  {
   "cell_type": "code",
   "execution_count": 103,
   "outputs": [
    {
     "name": "stdout",
     "output_type": "stream",
     "text": [
      "Arabic\n",
      "0         47407\n",
      "1            72\n",
      "dtype: int64\n"
     ]
    },
    {
     "data": {
      "text/plain": "DecileScore  Arabic\n1            1         25\n2            1         12\n4            1         11\n3            1          7\n6            1          6\n5            1          4\n7            1          2\n9            1          2\n10           1          2\n8            1          1\ndtype: int64"
     },
     "execution_count": 103,
     "metadata": {},
     "output_type": "execute_result"
    }
   ],
   "source": [
    "print(df_male[['Arabic']].value_counts())\n",
    "df_male_arabic = df_male.loc[df_male['Arabic'] == 1]\n",
    "df_male_arabic[['DecileScore', 'Arabic']].value_counts()"
   ],
   "metadata": {
    "collapsed": false
   }
  },
  {
   "cell_type": "code",
   "execution_count": 104,
   "outputs": [
    {
     "name": "stdout",
     "output_type": "stream",
     "text": [
      "Asian\n",
      "0        47212\n",
      "1          267\n",
      "dtype: int64\n"
     ]
    },
    {
     "data": {
      "text/plain": "DecileScore  Asian\n1            1        142\n2            1         41\n3            1         27\n4            1         19\n5            1         11\n6            1          9\n8            1          9\n7            1          7\n9            1          1\n10           1          1\ndtype: int64"
     },
     "execution_count": 104,
     "metadata": {},
     "output_type": "execute_result"
    }
   ],
   "source": [
    "print(df_male[['Asian']].value_counts())\n",
    "df_male_asian = df_male.loc[df_male['Asian'] == 1]\n",
    "df_male_asian[['DecileScore', 'Asian']].value_counts()"
   ],
   "metadata": {
    "collapsed": false
   }
  },
  {
   "cell_type": "code",
   "execution_count": 112,
   "outputs": [
    {
     "name": "stdout",
     "output_type": "stream",
     "text": [
      "Caucasian\n",
      "0            31142\n",
      "1            16337\n",
      "dtype: int64\n"
     ]
    },
    {
     "data": {
      "text/plain": "DecileScore  Caucasian\n1            1            0.358940\n2            1            0.163616\n3            1            0.144457\n4            1            0.079880\n5            1            0.073269\n6            1            0.058334\n7            1            0.043582\n8            1            0.034462\n9            1            0.026443\n10           1            0.017017\ndtype: float64"
     },
     "execution_count": 112,
     "metadata": {},
     "output_type": "execute_result"
    }
   ],
   "source": [
    "print(df_male[['Caucasian']].value_counts())\n",
    "df_male_caucasian = df_male.loc[df_male['Caucasian'] == 1]\n",
    "df_male_caucasian[['DecileScore', 'Caucasian']].value_counts(normalize=True)"
   ],
   "metadata": {
    "collapsed": false
   }
  },
  {
   "cell_type": "code",
   "execution_count": 106,
   "outputs": [
    {
     "name": "stdout",
     "output_type": "stream",
     "text": [
      "Hispanic\n",
      "0           40475\n",
      "1            7004\n",
      "dtype: int64\n"
     ]
    },
    {
     "data": {
      "text/plain": "DecileScore  Hispanic\n1            1           2692\n2            1           1244\n3            1           1079\n4            1            487\n5            1            477\n6            1            347\n7            1            257\n8            1            175\n9            1            143\n10           1            103\ndtype: int64"
     },
     "execution_count": 106,
     "metadata": {},
     "output_type": "execute_result"
    }
   ],
   "source": [
    "print(df_male[['Hispanic']].value_counts())\n",
    "df_male_hispanic = df_male.loc[df_male['Hispanic'] == 1]\n",
    "df_male_hispanic[['DecileScore', 'Hispanic']].value_counts()"
   ],
   "metadata": {
    "collapsed": false
   }
  },
  {
   "cell_type": "code",
   "execution_count": 107,
   "outputs": [
    {
     "name": "stdout",
     "output_type": "stream",
     "text": [
      "Native American\n",
      "0                  47320\n",
      "1                    159\n",
      "dtype: int64\n"
     ]
    },
    {
     "data": {
      "text/plain": "DecileScore  Native American\n1            1                  34\n2            1                  25\n3            1                  25\n4            1                  22\n6            1                  11\n7            1                  11\n8            1                  10\n5            1                   9\n10           1                   8\n9            1                   4\ndtype: int64"
     },
     "execution_count": 107,
     "metadata": {},
     "output_type": "execute_result"
    }
   ],
   "source": [
    "print(df_male[['Native American']].value_counts())\n",
    "df_male_native = df_male.loc[df_male['Native American'] == 1]\n",
    "df_male_native[['DecileScore', 'Native American']].value_counts()"
   ],
   "metadata": {
    "collapsed": false
   }
  },
  {
   "cell_type": "code",
   "execution_count": 108,
   "outputs": [
    {
     "name": "stdout",
     "output_type": "stream",
     "text": [
      "Oriental\n",
      "0           47449\n",
      "1              30\n",
      "dtype: int64\n"
     ]
    },
    {
     "data": {
      "text/plain": "DecileScore  Oriental\n1            1           12\n2            1            6\n3            1            4\n4            1            3\n5            1            2\n6            1            1\n8            1            1\n10           1            1\ndtype: int64"
     },
     "execution_count": 108,
     "metadata": {},
     "output_type": "execute_result"
    }
   ],
   "source": [
    "print(df_male[['Oriental']].value_counts())\n",
    "df_male_oriental = df_male.loc[df_male['Oriental'] == 1]\n",
    "df_male_oriental[['DecileScore', 'Oriental']].value_counts()"
   ],
   "metadata": {
    "collapsed": false
   }
  }
 ],
 "metadata": {
  "kernelspec": {
   "display_name": "Python 3 (ipykernel)",
   "language": "python",
   "name": "python3"
  },
  "language_info": {
   "codemirror_mode": {
    "name": "ipython",
    "version": 3
   },
   "file_extension": ".py",
   "mimetype": "text/x-python",
   "name": "python",
   "nbconvert_exporter": "python",
   "pygments_lexer": "ipython3",
   "version": "3.10.6"
  }
 },
 "nbformat": 4,
 "nbformat_minor": 1
}
